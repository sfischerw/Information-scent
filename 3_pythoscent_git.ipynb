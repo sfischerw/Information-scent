{
 "cells": [
  {
   "cell_type": "markdown",
   "metadata": {},
   "source": [
    "Functions:\n",
    "- load dico, matrices and model pickles\n",
    "\n",
    "- file2ia (your_file)\n",
    "        + copy/paste output to dictionary variable (e.g., gui_n = {})\n",
    "- ia2d3(gui_n)\n",
    "- ia2test_set(gui_n)\n",
    "        + copy/paste output to list variable (e.g., test_set_n)    #do not forget comas after each tupple\n",
    "                                                                   #text processing issues with score_fam functions\n",
    "\n",
    "- test2df (gui_n, test_set_n)                                      #text processing issues here too\n",
    "        + give output to variable name (e.g., data_gui_n)\n",
    "- plots (data_frame)\n",
    "- anovas (data_frame)\n",
    "- regressions (data_frame)\n",
    "- goal_matrix (data_frame)"
   ]
  },
  {
   "cell_type": "code",
   "execution_count": 2,
   "metadata": {
    "collapsed": false
   },
   "outputs": [
    {
     "name": "stdout",
     "output_type": "stream",
     "text": [
      "Populating the interactive namespace from numpy and matplotlib\n"
     ]
    }
   ],
   "source": [
    "import pickle, operator, json, requests\n",
    "\n",
    "import logging\n",
    "logging.basicConfig(format='%(asctime)s : %(levelname)s : %(message)s', level=logging.INFO)\n",
    "\n",
    "# Natural Language Processing modules\n",
    "from gensim import corpora, models, similarities, utils\n",
    "from pattern.en import tag, parse\n",
    "from nltk.corpus import wordnet as wn, stopwords\n",
    "from nltk.tokenize import RegexpTokenizer\n",
    "\n",
    "# Data/Visualization\n",
    "import pandas as pd\n",
    "import numpy as np\n",
    "import matplotlib.pyplot as plt\n",
    "import seaborn as sns\n",
    "\n",
    "# Statistics and Machine-learning modules\n",
    "import statsmodels.api as sm\n",
    "from statsmodels.formula.api import ols\n",
    "from sklearn import datasets, linear_model\n",
    "\n",
    "%pylab inline"
   ]
  },
  {
   "cell_type": "markdown",
   "metadata": {},
   "source": [
    "# IA handling"
   ]
  },
  {
   "cell_type": "code",
   "execution_count": null,
   "metadata": {
    "collapsed": true
   },
   "outputs": [],
   "source": [
    "def file2ia (your_file):\n",
    "    \n",
    "    def getLineInfo(fname):\n",
    "\n",
    "        raw_line = next(fname, None)\n",
    "        if raw_line is None:\n",
    "            return False\n",
    "        full_line = raw_line.rstrip()\n",
    "        text_only = full_line.lstrip()\n",
    "        num_tabs = len(full_line) - len(text_only)\n",
    "        return text_only, num_tabs\n",
    "\n",
    "    def buildGUI(response, fname):\n",
    "        # Assume it is a proper tuple:\n",
    "        key, depth = response\n",
    "        # Dictionary for this depth:\n",
    "        local_gui = {}\n",
    "        # This changes if depth goes up OR down, or reach EOF\n",
    "\n",
    "        # technically infinite loop, but something will eventually break or return\n",
    "        while 1:\n",
    "            # 1. next_depth = same: make previous key/value\n",
    "            # 2. next_depth +1: call function and make previous key/dict\n",
    "            # 3. next_depth smaller: make previous key/value\n",
    "            # 4. EOF: make previous key/value\n",
    "            next_response = getLineInfo(fname)\n",
    "\n",
    "            if not next_response:  #end of file\n",
    "                local_gui[key] = key\n",
    "                return local_gui, next_response\n",
    "                break\n",
    "\n",
    "            # Have a good response at this point\n",
    "            next_key, next_depth = next_response\n",
    "\n",
    "            # 2. Set key to result of recursive call\n",
    "            if next_depth == depth + 1:\n",
    "                # RECURSIVE CALL\n",
    "                local_gui[key], last_response = buildGUI(next_response, fname)\n",
    "                # Last response is next line after nested (recursive) part is finished\n",
    "                # If depth less than current, return whatever GUI we have\n",
    "                if last_response:\n",
    "                    last_key, last_depth = last_response\n",
    "                    if last_depth < depth:\n",
    "                        return local_gui, last_response\n",
    "                    # Otherwise set current key, depth and keep going\n",
    "                    key, depth = last_response\n",
    "                else:\n",
    "                    return local_gui, last_response # RECURSIVE call reached end of file\n",
    "\n",
    "            # 3. Next line is higher up the IA, so return what we have with next line\n",
    "            elif next_depth < depth:\n",
    "                local_gui[key] = key\n",
    "                return local_gui, next_response\n",
    "            # 1. same depth, just keep going\n",
    "            else:\n",
    "                local_gui[key] = key\n",
    "                key = next_key\n",
    "\n",
    "        return local_gui, next_response #print previous_key #, next_key\n",
    "\n",
    "    my_file = open(your_file, 'r')\n",
    "    first_response = getLineInfo(my_file)\n",
    "    print first_response\n",
    "\n",
    "    # throwaway variable _ will always be False\n",
    "    GUI, _ = buildGUI(first_response, my_file)\n",
    "\n",
    "    return GUI\n",
    "\n",
    "# checking\n",
    "#file2ia ('gui_5')"
   ]
  },
  {
   "cell_type": "code",
   "execution_count": 3,
   "metadata": {
    "collapsed": true
   },
   "outputs": [],
   "source": [
    "gui5 = {\"car\":{ \"air conditioning\":{ \"ventilation settings\": \"ventilation settings\",\"pulse\": \"pulse\", \"continuous\": \"continuous\"}, \n",
    "                                    \"filter settings\":{ \"recycle interior air\": \"recycle interior air\", \"charcoal mode\": \"charcoal mode\", \"pollen mode\": \"pollen mode\"}, \n",
    "                                    \"temperature settings\":{ \"display current temperature\": \"display current temperature\", \"hotter\": \"hotter\", \"colder\": \"colder\"}}, \n",
    "                \"driving assistance\":{ \"cruise control\":{ \"activate\": \"activate\", \"turn off\": \"turn off\"}, \n",
    "                                        \"anti theft protection\":{ \"choose notification recipient\": \"choose notification recipient\", \n",
    "                                        \"phone pairing tracking\": \"phone pairing tracking\", \"stop vehicle\": \"stop vehicle\"},\n",
    "                                        \"lane change alert\":{ \"vibrate steering wheel\": \"vibrate steering wheel\", \"vibrate pedal\": \"vibrate pedal\", \"vibrate rear view mirrors\": \"vibrate rear view mirrors\"},\n",
    "                                        \"gps\":{ \"check current coordinates\": \"check current coordinates\", \"enter destination\": \"enter destination\", \"recent destination\": \"recent destination\"}},\n",
    "                \"entertainment\":{ \"gaming\":{ \"poker\": \"poker\", \"chess\": \"chess\", \"online apps\": \"online apps\"},\n",
    "                                 \"television\":{ \"documentaries\": \"documentaries\", \"movies sorted\":{ \"genre\": \"genre\", \"rating\": \"rating\", \"release date\": \"release date\"}, \n",
    "                                                                \"tv series\": \"tv series\"},\n",
    "                                                                \"radio\":{ \"classic\": \"classic\", \"pop\": \"pop\", \"electronic\": \"electronic\"}},\n",
    "                        \"phone\":{ \"contact lists\":{ \"family\": \"family\", \"work\": \"work\", \"emergency\": \"emergency\"}, \"dial\": \"dial\", \"voice mail\":{ \"listen messages\": \"listen messages\", \n",
    "                                                                    \"erase last message\": \"erase last message\", \"change greetings\": \"change greetings\"}, \"pay bills\": \"pay bills\"}}"
   ]
  },
  {
   "cell_type": "code",
   "execution_count": null,
   "metadata": {
    "collapsed": true
   },
   "outputs": [],
   "source": [
    "# This function generates IA description and syntax for drawing D3 dendrograms\n",
    "\n",
    "def ia2d3 (dico):\n",
    "    \n",
    "    print 'gui = { \"name\": \"home\", \"children\":['\n",
    "    \n",
    "    def nested2d3(dico, indent = '   '):\n",
    "        for k in dico.keys():\n",
    "            print indent + '{ \"name\": \"' + str(k) + '\",'\n",
    "            if isinstance(dico[k], dict):\n",
    "                print indent + '\"children\":['\n",
    "                nested2d3(dico[k], indent + \"   \")\n",
    "            if isinstance(dico[k], str):\n",
    "                print indent + ' \"size\": 20},'\n",
    "        print ']},'\n",
    "    \n",
    "    nested2d3(dico, indent = '   ')\n",
    "\n",
    "# Checking    \n",
    "#ia2d3(gui5)"
   ]
  },
  {
   "cell_type": "markdown",
   "metadata": {},
   "source": [
    "# Test set generation"
   ]
  },
  {
   "cell_type": "code",
   "execution_count": null,
   "metadata": {
    "collapsed": false
   },
   "outputs": [],
   "source": [
    "def wraper1 (gui):\n",
    "    \n",
    "    def list_gui_target_features(gui, f_list=[], g_list=[], t_list=[]):\n",
    "        for k in gui.keys():\n",
    "            if type(gui[k]) is str:\n",
    "                f_list.append(gui[k])\n",
    "                g_list.append('')\n",
    "                t_list.append('')\n",
    "            else:\n",
    "                list_gui_target_features(gui[k])                           \n",
    "        return zip (f_list, g_list, t_list)\n",
    "    \n",
    "    return list_gui_target_features (gui)"
   ]
  },
  {
   "cell_type": "code",
   "execution_count": null,
   "metadata": {
    "collapsed": true
   },
   "outputs": [],
   "source": [
    "def wraper2 (gui, glob): \n",
    "    \n",
    "    def steps_to_targ_feat (gui, glob , c_list = []):   \n",
    "        for v in gui.values():   \n",
    "            if type(v) is dict:\n",
    "                steps_to_targ_feat(v, glob + 1)\n",
    "            else:\n",
    "                c_list.append(glob)     \n",
    "        return c_list\n",
    "\n",
    "    return steps_to_targ_feat(gui, glob)"
   ]
  },
  {
   "cell_type": "code",
   "execution_count": null,
   "metadata": {
    "collapsed": false
   },
   "outputs": [],
   "source": [
    "def ia2test_set(gui):\n",
    "    f1 = wraper1 (gui)\n",
    "    f2 = wraper2 (gui, 1)\n",
    "    f3 = []\n",
    "    for i, elem in enumerate(f1):\n",
    "        temp = []\n",
    "        for n in elem:\n",
    "            temp.append(n)\n",
    "        temp.append(f2[i])\n",
    "        f3.append(tuple(temp))\n",
    "    return f3\n",
    "    \n",
    "# checking\n",
    "test_set_inter = ia2test_set(gui5)\n",
    "for t in test_set_inter:\n",
    "    print t"
   ]
  },
  {
   "cell_type": "code",
   "execution_count": 4,
   "metadata": {
    "collapsed": false
   },
   "outputs": [],
   "source": [
    "test_set_gui = [('pay bills', 'pay monthly phone plan', 'basic', 2),\n",
    "('family', 'display address my parents', 'basic', 3),\n",
    "('change greetings', 'record message welcoming message', 'technical', 3),\n",
    "('rating', 'list best movies', 'technical', 4)]"
   ]
  },
  {
   "cell_type": "markdown",
   "metadata": {},
   "source": [
    "# Wordnet Technicality check"
   ]
  },
  {
   "cell_type": "code",
   "execution_count": 22,
   "metadata": {
    "collapsed": false
   },
   "outputs": [
    {
     "name": "stdout",
     "output_type": "stream",
     "text": [
      "[6.5, 6.75, 9.67, 17.0]    >> wordnet familiarity\n",
      "[5.0, 5.5, 7.0, 8.0]    >> wordnet familiarity for NN pos only\n"
     ]
    }
   ],
   "source": [
    "def score_fam_wn (test_set):\n",
    "    from nltk.corpus import wordnet as wn, stopwords\n",
    "    from nltk.tokenize import RegexpTokenizer\n",
    "    wn_fam = []\n",
    "    for test in test_set:\n",
    "        tokenizer = RegexpTokenizer(r'\\w+')\n",
    "        toketxt = tokenizer.tokenize(test[1])\n",
    "        s = set(stopwords.words('english'))\n",
    "        filt_wrd = [w for w in toketxt if not w in s]\n",
    "        w_count = len(filt_wrd)\n",
    "        g_polys = 0\n",
    "\n",
    "        for word in filt_wrd:\n",
    "            w_polys = len(wn.synsets(word))\n",
    "            g_polys += w_polys\n",
    "\n",
    "        av_polys = float(g_polys)/float(w_count)\n",
    "        wn_fam.append(round(av_polys, 2))\n",
    "\n",
    "    print sorted(wn_fam), '   >> wordnet familiarity' \n",
    "    return wn_fam\n",
    "    \n",
    "def score_fam_wn_NN (test_set):\n",
    "\n",
    "    wn_fam_NN = []\n",
    "\n",
    "    for test in test_set: \n",
    "        filt_wrd = []\n",
    "        g = test[1]\n",
    "        for w, pos in tag(g): \n",
    "            if pos == \"NN\":\n",
    "                filt_wrd.append(w)\n",
    "        #print filt_wrd\n",
    "\n",
    "        w_count = len(filt_wrd)\n",
    "        g_polys = 0\n",
    "\n",
    "        for word in filt_wrd:\n",
    "            w_polys = len(wn.synsets(word))\n",
    "            g_polys += w_polys\n",
    "\n",
    "        av_polys = float(g_polys)/float(w_count)\n",
    "        wn_fam_NN.append(round(av_polys, 2))\n",
    "\n",
    "    print sorted(wn_fam_NN), '   >> wordnet familiarity for NN pos only'\n",
    "    return wn_fam_NN"
   ]
  },
  {
   "cell_type": "markdown",
   "metadata": {},
   "source": [
    "# Models"
   ]
  },
  {
   "cell_type": "code",
   "execution_count": 6,
   "metadata": {
    "collapsed": false
   },
   "outputs": [
    {
     "name": "stdout",
     "output_type": "stream",
     "text": [
      "Tokenized corpus: MmCorpus(73898 documents, 29597 features, 6418219 non-zero entries)\n",
      "Dictionary(29597 unique tokens: [u'fawn', u'schlegel', u'sonja', u'woods', u'spiders']...) \n",
      "\n",
      "Lemmatized corpus: MmCorpus(59245 documents, 26640 features, 5275674 non-zero entries)\n",
      "Dictionary(26640 unique tokens: [u'adjust/VB', u'meteor/NN', u'certificate/NN', u'alcatraz/NN', u'removal/NN']...)\n"
     ]
    }
   ],
   "source": [
    "# Load tf-idf representation and dictionary mapping for tokenized corpus\n",
    "wiki = corpora.MmCorpus('latent_tok_tfidf.mm')\n",
    "mon_dico = corpora.Dictionary.load_from_text('latent_tok_wordids.txt')\n",
    "\n",
    "# Lemmatized tf-idf representation and dictionary\n",
    "wiki_lem = corpora.MmCorpus('latent_lem_tfidf.mm')\n",
    "mon_dico_lem = corpora.Dictionary.load_from_text('latent_lem_wordids.txt')\n",
    "\n",
    "print \"Tokenized corpus:\", wiki\n",
    "print mon_dico, '\\n'\n",
    "print \"Lemmatized corpus:\", wiki_lem\n",
    "print mon_dico_lem"
   ]
  },
  {
   "cell_type": "code",
   "execution_count": 7,
   "metadata": {
    "collapsed": true
   },
   "outputs": [],
   "source": [
    "# Load model pickles\n",
    "# Model training parameters:\n",
    "#    - LSA and LDA: dictionary = 100,000; topics = 450\n",
    "#    - Word2vec: dictionary = 100,000; neural layers = 200\n",
    "    \n",
    "tok_w2v = models.word2vec.Word2Vec.load(\"word2vec_tok.model\")\n",
    "lem_w2v = models.word2vec.Word2Vec.load(\"word2vec_lem.model\")\n",
    "tok_lsi = pickle.load (open ('pickle_lsi.p', 'rb'))\n",
    "tok_lda = pickle.load (open ('pickle_lda.p', 'rb'))\n",
    "lem_lsi = pickle.load (open ('pickle_lsi_lem.p', 'rb'))\n",
    "lem_lda = pickle.load (open ('pickle_lda_lem.p', 'rb'))"
   ]
  },
  {
   "cell_type": "markdown",
   "metadata": {},
   "source": [
    "# Sniffer"
   ]
  },
  {
   "cell_type": "code",
   "execution_count": 12,
   "metadata": {
    "collapsed": false
   },
   "outputs": [],
   "source": [
    "def sim_sort(state, model, goal, model_type):\n",
    "    sorted_sims = []\n",
    "    similaritiz = {}\n",
    "    goal_v = []\n",
    "    \n",
    "    # Word2Vec models\n",
    "    if (model_type == \"w2v\") or (model_type == \"w2v_lem\"):\n",
    "        \n",
    "        goal_v = goal.lower().split()\n",
    "        if model_type == \"w2v_lem\":\n",
    "            goal_v = utils.lemmatize(goal)\n",
    "\n",
    "        for label in state.keys():\n",
    "            k = label.split()\n",
    "            if model_type == \"w2v_lem\":\n",
    "                k = utils.lemmatize(label)\n",
    "            sim = model.n_similarity(k, goal_v)\n",
    "            similaritiz[label]=sim          #adding the similarity scores for any label\n",
    "\n",
    "    # LSI/LDA models\n",
    "    elif (model_type == \"latent\") or (model_type == \"latent_lem\"):\n",
    "        \n",
    "        goal_split = goal.lower().split()\n",
    "        goal_bow = mon_dico.doc2bow(goal_split)\n",
    "        if model_type == \"latent_lem\":\n",
    "            goal_bow = mon_dico_lem.doc2bow(utils.lemmatize(goal))\n",
    "        goal_v = model[goal_bow]\n",
    "        \n",
    "        ar = []\n",
    "        for label in state.keys():\n",
    "            k = label.split()\n",
    "            if model_type == \"latent_lem\":\n",
    "                k = utils.lemmatize(label)\n",
    "            ar.append(k)\n",
    "\n",
    "        state2index = [mon_dico.doc2bow(txt) for txt in ar]\n",
    "        if model_type == \"latent_lem\":\n",
    "            state2index = [mon_dico_lem.doc2bow(txt) for txt in ar]\n",
    "        index = similarities.MatrixSimilarity(model[state2index], num_features=29000)\n",
    "        indexed_scores = list(index[goal_v])\n",
    "        \n",
    "        for index, score in enumerate(indexed_scores):       #this could be replaced by zip()\n",
    "            label = state.keys()[index]\n",
    "            similaritiz[label] = score\n",
    "        \n",
    "    sorted_sims = sorted(similaritiz.items(), key=operator.itemgetter(1), reverse = True) \n",
    "    #print sorted_sims\n",
    "    return sorted_sims                              #returns a list of tuples i.e [(,), (,)]\n",
    "\n",
    "\n",
    "#Check output\n",
    "#print sim_sort(gui5, tok_w2v, 'cook chicken', 'w2v'), \"\\n\"\n",
    "#print sim_sort(gui5, lem_lsi, 'cook chicken', 'latent_lem'), \"\\n\"\n",
    "#print sim_sort(gui5, tok_lsi, 'cook chicken', 'latent'), \"\\n\""
   ]
  },
  {
   "cell_type": "code",
   "execution_count": 13,
   "metadata": {
    "collapsed": false
   },
   "outputs": [],
   "source": [
    "def sniffer_metrics(gui, model, goal, target_feat, model_type, global_count = 0):\n",
    "    \n",
    "    state = sim_sort(gui, model, goal, model_type)    #returned content must be assigned to a variable\n",
    "    found_goal = False\n",
    "    for label, score in state:\n",
    "        global_count += 1\n",
    "        \n",
    "        if type(gui[label]) is dict:\n",
    "            found_goal, g_cnt = sniffer_metrics(gui[label], model, goal, target_feat, model_type)\n",
    "            global_count += g_cnt\n",
    "            if found_goal:\n",
    "                return True, global_count\n",
    "    \n",
    "        elif gui[label] == target_feat:\n",
    "            return True, global_count\n",
    "\n",
    "    return False, global_count\n",
    "\n",
    "# Check output\n",
    "# sniffer_metrics(gui5, tok_w2v, 'turn off cruise control', 'activate', 'w2v'), '\\n'"
   ]
  },
  {
   "cell_type": "markdown",
   "metadata": {},
   "source": [
    "# Model tester"
   ]
  },
  {
   "cell_type": "code",
   "execution_count": 14,
   "metadata": {
    "collapsed": false
   },
   "outputs": [],
   "source": [
    "def model_test(gui, test_set, model, model_type):\n",
    "    \n",
    "    wn_fam = score_fam_wn (test_set_gui)\n",
    "    wn_fam_NN = score_fam_wn_NN (test_set_gui)\n",
    "    \n",
    "    test_metrics =[]\n",
    "    goal_l = []\n",
    "    target_l=[]\n",
    "    prescrit=[]\n",
    "    fam = []\n",
    "    \n",
    "    for a, b, c, d in test_set:\n",
    "        goal_l.append(b)\n",
    "        target_l.append(a)\n",
    "        fam.append(c)\n",
    "        prescrit.append(d)\n",
    "        result = sniffer_metrics(gui, model, b, a, model_type)\n",
    "        test_metrics.append(result[1])\n",
    "    \n",
    "    print test_metrics\n",
    "    return zip(target_l, goal_l, test_metrics, prescrit, fam, wn_fam, wn_fam_NN)\n",
    "\n",
    "# checking\n",
    "# model_test(gui5, test_set_gui, tok_w2v, 'w2v')"
   ]
  },
  {
   "cell_type": "markdown",
   "metadata": {},
   "source": [
    "# Dataframe"
   ]
  },
  {
   "cell_type": "code",
   "execution_count": 23,
   "metadata": {
    "collapsed": false
   },
   "outputs": [
    {
     "name": "stdout",
     "output_type": "stream",
     "text": [
      "[2, 10, 5, 6]\n",
      "[7, 3, 5, 5]\n",
      "[2, 4, 22, 6]\n",
      "[2, 54, 50, 22]\n",
      "[7, 37, 6, 12]\n",
      "[2, 50, 56, 24]\n"
     ]
    },
    {
     "data": {
      "text/html": [
       "<div>\n",
       "<table border=\"1\" class=\"dataframe\">\n",
       "  <thead>\n",
       "    <tr style=\"text-align: right;\">\n",
       "      <th></th>\n",
       "      <th>target_feat</th>\n",
       "      <th>goal</th>\n",
       "      <th>counts</th>\n",
       "      <th>prescrite</th>\n",
       "      <th>familiarity</th>\n",
       "      <th>wn_familiarity</th>\n",
       "      <th>wn_familiarity_NN</th>\n",
       "      <th>model</th>\n",
       "      <th>prepping</th>\n",
       "    </tr>\n",
       "  </thead>\n",
       "  <tbody>\n",
       "    <tr>\n",
       "      <th>0</th>\n",
       "      <td>pay bills</td>\n",
       "      <td>pay monthly phone plan</td>\n",
       "      <td>2</td>\n",
       "      <td>2</td>\n",
       "      <td>basic</td>\n",
       "      <td>6.50</td>\n",
       "      <td>5.5</td>\n",
       "      <td>word2vec</td>\n",
       "      <td>tokens</td>\n",
       "    </tr>\n",
       "    <tr>\n",
       "      <th>1</th>\n",
       "      <td>family</td>\n",
       "      <td>display address my parents</td>\n",
       "      <td>10</td>\n",
       "      <td>3</td>\n",
       "      <td>basic</td>\n",
       "      <td>9.67</td>\n",
       "      <td>8.0</td>\n",
       "      <td>word2vec</td>\n",
       "      <td>tokens</td>\n",
       "    </tr>\n",
       "    <tr>\n",
       "      <th>2</th>\n",
       "      <td>change greetings</td>\n",
       "      <td>record message welcoming message</td>\n",
       "      <td>5</td>\n",
       "      <td>3</td>\n",
       "      <td>technical</td>\n",
       "      <td>6.75</td>\n",
       "      <td>5.0</td>\n",
       "      <td>word2vec</td>\n",
       "      <td>tokens</td>\n",
       "    </tr>\n",
       "    <tr>\n",
       "      <th>3</th>\n",
       "      <td>rating</td>\n",
       "      <td>list best movies</td>\n",
       "      <td>6</td>\n",
       "      <td>4</td>\n",
       "      <td>technical</td>\n",
       "      <td>17.00</td>\n",
       "      <td>7.0</td>\n",
       "      <td>word2vec</td>\n",
       "      <td>tokens</td>\n",
       "    </tr>\n",
       "    <tr>\n",
       "      <th>0</th>\n",
       "      <td>pay bills</td>\n",
       "      <td>pay monthly phone plan</td>\n",
       "      <td>7</td>\n",
       "      <td>2</td>\n",
       "      <td>basic</td>\n",
       "      <td>6.50</td>\n",
       "      <td>5.5</td>\n",
       "      <td>word2vec</td>\n",
       "      <td>lemmas</td>\n",
       "    </tr>\n",
       "  </tbody>\n",
       "</table>\n",
       "</div>"
      ],
      "text/plain": [
       "        target_feat                              goal  counts  prescrite  \\\n",
       "0         pay bills            pay monthly phone plan       2          2   \n",
       "1            family        display address my parents      10          3   \n",
       "2  change greetings  record message welcoming message       5          3   \n",
       "3            rating                  list best movies       6          4   \n",
       "0         pay bills            pay monthly phone plan       7          2   \n",
       "\n",
       "  familiarity  wn_familiarity  wn_familiarity_NN     model prepping  \n",
       "0       basic            6.50                5.5  word2vec   tokens  \n",
       "1       basic            9.67                8.0  word2vec   tokens  \n",
       "2   technical            6.75                5.0  word2vec   tokens  \n",
       "3   technical           17.00                7.0  word2vec   tokens  \n",
       "0       basic            6.50                5.5  word2vec   lemmas  "
      ]
     },
     "execution_count": 23,
     "metadata": {},
     "output_type": "execute_result"
    }
   ],
   "source": [
    "def test2df (gui_n, test_set_n):\n",
    "    tok_w2v_test = model_test(gui_n, test_set_n, tok_w2v, 'w2v')\n",
    "    lem_w2v_test = model_test(gui_n, test_set_n, lem_w2v, 'w2v_lem')\n",
    "    tok_lsi_test = model_test(gui_n, test_set_n, tok_lsi, 'latent')\n",
    "    tok_lda_test = model_test(gui_n, test_set_n, tok_lda, 'latent')\n",
    "    lem_lsi_test = model_test(gui_n, test_set_n, lem_lsi, 'latent_lem')\n",
    "    lem_lda_test = model_test(gui_n, test_set_n, lem_lda, 'latent_lem')\n",
    "\n",
    "    df_tok_w2v = pd.DataFrame(tok_w2v_test)\n",
    "    df_tok_w2v['model']='word2vec'\n",
    "    df_tok_w2v['prepping']='tokens'\n",
    "\n",
    "    df_lem_w2v = pd.DataFrame(lem_w2v_test)\n",
    "    df_lem_w2v['model']='word2vec'\n",
    "    df_lem_w2v['prepping']='lemmas'\n",
    "\n",
    "    df_tok_lsi = pd.DataFrame(tok_lsi_test)\n",
    "    df_tok_lsi['model']='lsi'\n",
    "    df_tok_lsi['prepping']='tokens'\n",
    "\n",
    "    df_tok_lda = pd.DataFrame(tok_lda_test)\n",
    "    df_tok_lda['model']='lda'\n",
    "    df_tok_lda['prepping']='tokens'\n",
    "\n",
    "    df_lem_lsi = pd.DataFrame(lem_lsi_test)\n",
    "    df_lem_lsi['model']='lsi'\n",
    "    df_lem_lsi['prepping']='lemmas'\n",
    "\n",
    "    df_lem_lda = pd.DataFrame(lem_lda_test)\n",
    "    df_lem_lda['model']='lda'\n",
    "    df_lem_lda['prepping']='lemmas'\n",
    "\n",
    "    frames = [df_tok_w2v, df_lem_w2v, df_tok_lsi, df_tok_lda, df_lem_lsi, df_lem_lda]\n",
    "    df_gui_n = pd.concat(frames)\n",
    "    df_gui_n.columns = ['target_feat','goal',  'counts','prescrite','familiarity','wn_familiarity','wn_familiarity_NN','model', 'prepping']\n",
    "\n",
    "    return df_gui_n\n",
    "\n",
    "#checking\n",
    "#\n",
    "a = test2df (gui5, test_set_gui)\n",
    "a.head (5)"
   ]
  },
  {
   "cell_type": "markdown",
   "metadata": {},
   "source": [
    "# Results"
   ]
  },
  {
   "cell_type": "code",
   "execution_count": 37,
   "metadata": {
    "collapsed": false
   },
   "outputs": [],
   "source": [
    "def plots (data_frame):\n",
    "    #boxplots\n",
    "    data_frame.boxplot(column = 'counts', by = 'model')\n",
    "    data_frame.boxplot(column = 'counts', by = 'prepping')\n",
    "    data_frame.boxplot(column = 'counts', by = 'familiarity')\n",
    "    data_frame.boxplot(column = 'counts', by = 'prescrite')\n",
    "    \n",
    "    #factor plots\n",
    "    e = sns.factorplot(x=\"familiarity\", y=\"counts\", col = 'model', hue=\"prepping\",data=data_frame,\n",
    "                       palette=\"YlGnBu_d\", size=5, aspect=.75)\n",
    "    e.despine(left=True)\n",
    "\n",
    "def regressions (data_frame):\n",
    "    selecta = data_frame[data_frame['model'] != 'lda']\n",
    "    print 'Regression familiarity vs wn_NN'\n",
    "\n",
    "    X = selecta['wn_familiarity_NN']\n",
    "    Y = selecta['counts']\n",
    "\n",
    "    regr = linear_model.LinearRegression()\n",
    "    regr.fit (X[:,np.newaxis], Y)\n",
    "\n",
    "    plt.xlabel('familiarity')\n",
    "    plt.scatter(X, Y, color='red')\n",
    "    plt.plot(X, regr.predict(X[:,np.newaxis]), color='blue')\n",
    "    plt.show()\n",
    "\n",
    "    # The coefficients\n",
    "    print 'Coefficients: %.3f' % regr.coef_[0]\n",
    "    # The mean square error\n",
    "    print \"Mean residual sum of squares: %.1f\" % np.mean((regr.predict(X[:,np.newaxis]) - Y) ** 2)\n",
    "    # Explained variance score: 1 is perfect prediction\n",
    "    print('Variance of Y explained by X: %.3f' % regr.score(X[:,np.newaxis], Y))\n",
    "    \n",
    "    print 'Regression familiarity vs wn'\n",
    "    X = selecta['wn_familiarity']\n",
    "    Y = selecta['counts']\n",
    "\n",
    "    regr = linear_model.LinearRegression()\n",
    "    regr.fit (X[:,np.newaxis], Y)\n",
    "\n",
    "    plt.xlabel('familiarity')\n",
    "    plt.scatter(X, Y, color='red')\n",
    "    plt.plot(X, regr.predict(X[:,np.newaxis]), color='blue')\n",
    "    plt.show()\n",
    "\n",
    "    # The coefficients\n",
    "    print 'Coefficients: %.3f' % regr.coef_[0]\n",
    "    # The mean square error\n",
    "    print \"Mean residual sum of squares: %.1f\" % np.mean((regr.predict(X[:,np.newaxis]) - Y) ** 2)\n",
    "    # Explained variance score: 1 is perfect prediction\n",
    "    print('Variance of Y explained by X: %.3f' % regr.score(X[:,np.newaxis], Y))\n",
    "    \n",
    "def anovas (data_frame):\n",
    "    \n",
    "    anova_result = ols('counts ~ C(model, Sum)*C(prepping, Sum)*C(familiarity, Sum)',\n",
    "               data=data_frame).fit()\n",
    "    table = sm.stats.anova_lm(anova_result, typ=2) # Type 2 ANOVA DataFrame\n",
    "    print table"
   ]
  },
  {
   "cell_type": "code",
   "execution_count": 30,
   "metadata": {
    "collapsed": false
   },
   "outputs": [
    {
     "data": {
      "image/png": "[encoded data removed]",
      "text/plain": [
       "<matplotlib.figure.Figure at 0x14eb1e890>"
      ]
     },
     "metadata": {},
     "output_type": "display_data"
    },
    {
     "data": {
      "image/png": "[encoded data removed]",
      "text/plain": [
       "<matplotlib.figure.Figure at 0x14eb1e910>"
      ]
     },
     "metadata": {},
     "output_type": "display_data"
    },
    {
     "data": {
      "image/png": "[encoded data removed]",
      "text/plain": [
       "<matplotlib.figure.Figure at 0x150464e50>"
      ]
     },
     "metadata": {},
     "output_type": "display_data"
    },
    {
     "data": {
      "image/png": "[encoded data removed]",
      "text/plain": [
       "<matplotlib.figure.Figure at 0x14eb37b90>"
      ]
     },
     "metadata": {},
     "output_type": "display_data"
    },
    {
     "data": {
      "image/png": "[encoded data removed]",
      "text/plain": [
       "<matplotlib.figure.Figure at 0x14f28ead0>"
      ]
     },
     "metadata": {},
     "output_type": "display_data"
    },
    {
     "data": {
      "image/png": "[encoded data removed]",
      "text/plain": [
       "<matplotlib.figure.Figure at 0x150080090>"
      ]
     },
     "metadata": {},
     "output_type": "display_data"
    },
    {
     "data": {
      "image/png": "[encoded data removed]",
      "text/plain": [
       "<matplotlib.figure.Figure at 0x15040cf10>"
      ]
     },
     "metadata": {},
     "output_type": "display_data"
    }
   ],
   "source": [
    "# checking\n",
    "plots (a)"
   ]
  },
  {
   "cell_type": "code",
   "execution_count": 31,
   "metadata": {
    "collapsed": false
   },
   "outputs": [
    {
     "name": "stdout",
     "output_type": "stream",
     "text": [
      "                                                         sum_sq  df         F  \\\n",
      "C(model, Sum)                                       3199.750000   2  4.744471   \n",
      "C(prepping, Sum)                                      35.041667   1  0.103917   \n",
      "C(familiarity, Sum)                                   63.375000   1  0.187940   \n",
      "C(model, Sum):C(prepping, Sum)                        66.083333   2  0.097986   \n",
      "C(model, Sum):C(familiarity, Sum)                    180.750000   2  0.268009   \n",
      "C(prepping, Sum):C(familiarity, Sum)                  51.041667   1  0.151365   \n",
      "C(model, Sum):C(prepping, Sum):C(familiarity, Sum)   255.083333   2  0.378228   \n",
      "Residual                                            4046.500000  12       NaN   \n",
      "\n",
      "                                                      PR(>F)  \n",
      "C(model, Sum)                                       0.030325  \n",
      "C(prepping, Sum)                                    0.752726  \n",
      "C(familiarity, Sum)                                 0.672327  \n",
      "C(model, Sum):C(prepping, Sum)                      0.907380  \n",
      "C(model, Sum):C(familiarity, Sum)                   0.769360  \n",
      "C(prepping, Sum):C(familiarity, Sum)                0.704050  \n",
      "C(model, Sum):C(prepping, Sum):C(familiarity, Sum)  0.692958  \n",
      "Residual                                                 NaN  \n"
     ]
    }
   ],
   "source": [
    "anovas (a)"
   ]
  },
  {
   "cell_type": "code",
   "execution_count": 38,
   "metadata": {
    "collapsed": false
   },
   "outputs": [
    {
     "name": "stdout",
     "output_type": "stream",
     "text": [
      "Regression familiarity vs wn_NN\n"
     ]
    },
    {
     "data": {
      "image/png": "[encoded data removed]",
      "text/plain": [
       "<matplotlib.figure.Figure at 0x14ef80b90>"
      ]
     },
     "metadata": {},
     "output_type": "display_data"
    },
    {
     "name": "stdout",
     "output_type": "stream",
     "text": [
      "Coefficients: 1.665\n",
      "Mean residual sum of squares: 71.3\n",
      "Variance of Y explained by X: 0.052\n",
      "Regression familiarity vs wn\n"
     ]
    },
    {
     "data": {
      "image/png": "[encoded data removed]",
      "text/plain": [
       "<matplotlib.figure.Figure at 0x14ef80e90>"
      ]
     },
     "metadata": {},
     "output_type": "display_data"
    },
    {
     "name": "stdout",
     "output_type": "stream",
     "text": [
      "Coefficients: 0.005\n",
      "Mean residual sum of squares: 75.2\n",
      "Variance of Y explained by X: 0.000\n"
     ]
    }
   ],
   "source": [
    "regressions (a)"
   ]
  },
  {
   "cell_type": "code",
   "execution_count": 40,
   "metadata": {
    "collapsed": false
   },
   "outputs": [
    {
     "data": {
      "image/png": "[encoded data removed]",
      "text/plain": [
       "<matplotlib.figure.Figure at 0x14ef931d0>"
      ]
     },
     "metadata": {},
     "output_type": "display_data"
    }
   ],
   "source": [
    "def goal_matrix (test_set):\n",
    "    goal_index = []\n",
    "    for goal in test_set:\n",
    "        goal_index.append(goal[1])\n",
    "\n",
    "    sim_heatmap = pd.DataFrame(index=goal_index)\n",
    "\n",
    "    for i, feat in enumerate(test_set):\n",
    "        sim_features = []\n",
    "        for j, goal in enumerate(test_set):\n",
    "            sim_features.append(tok_w2v.n_similarity(feat[0].split(), goal[1].split()) )\n",
    "        sim_heatmap[feat[0]] = sim_features\n",
    "    sim_heatmap.head()\n",
    "\n",
    "    # Plot similarity matrix as heatmap\n",
    "    f, ax = plt.subplots(figsize=(6, 7))\n",
    "\n",
    "    # Draw the heatmap \n",
    "    sns.heatmap(sim_heatmap,cmap=\"YlGnBu\",\n",
    "                robust=True,#annot=True,\n",
    "                square=True, xticklabels=True, yticklabels=True,\n",
    "                linewidths=.5, cbar_kws={\"shrink\": .5}, ax=ax)\n",
    "    \n",
    "#checking\n",
    "goal_matrix (test_set_gui)"
   ]
  },
  {
   "cell_type": "code",
   "execution_count": null,
   "metadata": {
    "collapsed": true
   },
   "outputs": [],
   "source": []
  },
  {
   "cell_type": "code",
   "execution_count": null,
   "metadata": {
    "collapsed": true
   },
   "outputs": [],
   "source": []
  }
 ],
 "metadata": {
  "kernelspec": {
   "display_name": "Python 2",
   "language": "python",
   "name": "python2"
  },
  "language_info": {
   "codemirror_mode": {
    "name": "ipython",
    "version": 2
   },
   "file_extension": ".py",
   "mimetype": "text/x-python",
   "name": "python",
   "nbconvert_exporter": "python",
   "pygments_lexer": "ipython2",
   "version": "2.7.10"
  }
 },
 "nbformat": 4,
 "nbformat_minor": 0
}
