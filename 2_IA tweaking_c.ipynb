{
 "cells": [
  {
   "cell_type": "code",
   "execution_count": null,
   "metadata": {
    "collapsed": false
   },
   "outputs": [],
   "source": [
    "@todo\n",
    "# Get analyses to Flask\n",
    "\n",
    "@in_progress\n",
    "# Refactoring for supporting analysis of any new IA (from txt file)\n",
    "\n",
    "@done\n",
    "# Added function to get path length\n",
    "# Added wrappers to integrate path length to original test set function\n",
    "# Add 2 way transition btw outline, nested dico and D3 format\n",
    "\n",
    "@later \n",
    "# Add target feature selector in IA outline?\n",
    "# Add path familiarity and similarity?"
   ]
  },
  {
   "cell_type": "markdown",
   "metadata": {},
   "source": [
    "# Testing infoscent with slightly more complex IA \n",
    "# (all terminals > level 2)\n",
    "\n",
    "This notebook explores the robustness of the analysis to IA complexification. Outcome seems positive!"
   ]
  },
  {
   "cell_type": "code",
   "execution_count": 25,
   "metadata": {
    "collapsed": false
   },
   "outputs": [
    {
     "name": "stdout",
     "output_type": "stream",
     "text": [
      "Populating the interactive namespace from numpy and matplotlib\n"
     ]
    }
   ],
   "source": [
    "import pickle, operator, json, requests\n",
    "\n",
    "import logging\n",
    "logging.basicConfig(format='%(asctime)s : %(levelname)s : %(message)s', level=logging.INFO)\n",
    "\n",
    "# Natural Language Processing modules\n",
    "from gensim import corpora, models, similarities, utils\n",
    "from pattern.en import tag, parse\n",
    "from nltk.corpus import wordnet as wn, stopwords\n",
    "from nltk.tokenize import RegexpTokenizer\n",
    "\n",
    "# Data/Visualization\n",
    "import pandas as pd\n",
    "import numpy as np\n",
    "import matplotlib.pyplot as plt\n",
    "import seaborn as sns\n",
    "\n",
    "# Statistics and Machine-learning modules\n",
    "import statsmodels.api as sm\n",
    "from statsmodels.formula.api import ols\n",
    "from sklearn import datasets, linear_model\n",
    "\n",
    "%pylab inline"
   ]
  },
  {
   "cell_type": "markdown",
   "metadata": {},
   "source": [
    "## 1. Materials"
   ]
  },
  {
   "cell_type": "markdown",
   "metadata": {},
   "source": [
    "### GUI IAs\n",
    "\n",
    "The GUI for this project follows the IA of an on-board computer."
   ]
  },
  {
   "cell_type": "code",
   "execution_count": 2,
   "metadata": {
    "collapsed": false
   },
   "outputs": [],
   "source": [
    "# GUI information architectures (IAs) represented as a nested dictionary\n",
    "\n",
    "gui4 = {\"car\":{\"air conditioning\" : {\"increase celsius degrees\": \"increase celsius degrees\",\"ventilation settings\": \"ventilation settings\", \n",
    "                  \"recycling mode\":\"recycling mode\"},\n",
    "               \"driving assistance\" : {\"gps\": \"gps\", \n",
    "                                       \"lane change alert\" : \"lane change alert\", \n",
    "                                      \"cruise control\": {\"activate cruise control\":\"activate cruise control\", \n",
    "                                                         \"turn off cruise control\":\"turn off cruise control\"}, \n",
    "                                      \"anti theft notification\" :\"anti theft notification\"}}, \n",
    "        \"phone\": {\"dial\": \"dial\",\"contact list\": \"contact list\", \n",
    "                  \"check voice mail messages\":\"check voice mail messages\"}, \n",
    "        \"entertainment\": {\"play radio\": \"play radio\",\"television\": \"television\", \n",
    "                  \"gaming\":\"gaming\"}}"
   ]
  },
  {
   "cell_type": "markdown",
   "metadata": {},
   "source": [
    "**User-friendly representations:**\n",
    "- D3 dendrogram \n",
    "- indented outline"
   ]
  },
  {
   "cell_type": "code",
   "execution_count": 3,
   "metadata": {
    "collapsed": true
   },
   "outputs": [
    {
     "name": "stdout",
     "output_type": "stream",
     "text": [
      "gui = { \"name\": \"home\", \"children\":[\n",
      "   { \"name\": \"car\",\n",
      "   \"children\":[\n",
      "      { \"name\": \"air conditioning\",\n",
      "      \"children\":[\n",
      "         { \"name\": \"ventilation settings\",\n",
      "          \"size\": 20},\n",
      "         { \"name\": \"recycling mode\",\n",
      "          \"size\": 20},\n",
      "         { \"name\": \"increase celsius degrees\",\n",
      "          \"size\": 20},\n",
      "]},\n",
      "      { \"name\": \"driving assistance\",\n",
      "      \"children\":[\n",
      "         { \"name\": \"cruise control\",\n",
      "         \"children\":[\n",
      "            { \"name\": \"activate cruise control\",\n",
      "             \"size\": 20},\n",
      "            { \"name\": \"turn off cruise control\",\n",
      "             \"size\": 20},\n",
      "]},\n",
      "         { \"name\": \"anti theft notification\",\n",
      "          \"size\": 20},\n",
      "         { \"name\": \"lane change alert\",\n",
      "          \"size\": 20},\n",
      "         { \"name\": \"gps\",\n",
      "          \"size\": 20},\n",
      "]},\n",
      "]},\n",
      "   { \"name\": \"entertainment\",\n",
      "   \"children\":[\n",
      "      { \"name\": \"gaming\",\n",
      "       \"size\": 20},\n",
      "      { \"name\": \"television\",\n",
      "       \"size\": 20},\n",
      "      { \"name\": \"play radio\",\n",
      "       \"size\": 20},\n",
      "]},\n",
      "   { \"name\": \"phone\",\n",
      "   \"children\":[\n",
      "      { \"name\": \"contact list\",\n",
      "       \"size\": 20},\n",
      "      { \"name\": \"dial\",\n",
      "       \"size\": 20},\n",
      "      { \"name\": \"check voice mail messages\",\n",
      "       \"size\": 20},\n",
      "]},\n",
      "]},\n"
     ]
    }
   ],
   "source": [
    "# This function generates IA description and syntax for drawing D3 dendrograms\n",
    "\n",
    "print 'gui = { \"name\": \"home\", \"children\":['\n",
    "def nested2d3(dico, indent = '   '):\n",
    "    for k in dico.keys():\n",
    "        print indent + '{ \"name\": \"' + str(k) + '\",'\n",
    "        if isinstance(dico[k], dict):\n",
    "            print indent + '\"children\":['\n",
    "            nested2d3(dico[k], indent + \"   \")\n",
    "        if isinstance(dico[k], str):\n",
    "            print indent + ' \"size\": 20},'\n",
    "    print ']},'\n",
    "\n",
    "nested2d3(gui4)\n",
    "\n",
    "# For now, must copy/paste output to flask_gui.py and launch server to get:\n",
    "# Will do a little thingie using boostrap @later"
   ]
  },
  {
   "cell_type": "markdown",
   "metadata": {},
   "source": [
    "<img src=\"files/D3_gui4.png\" width=400 />"
   ]
  },
  {
   "cell_type": "code",
   "execution_count": 36,
   "metadata": {
    "collapsed": true
   },
   "outputs": [
    {
     "name": "stdout",
     "output_type": "stream",
     "text": [
      "   car\n",
      "      air conditioning\n",
      "         ventilation settings\n",
      "         recycling mode\n",
      "         increase celsius degrees\n",
      "      driving assistance\n",
      "         cruise control\n",
      "            activate cruise control\n",
      "            turn off cruise control\n",
      "         anti theft notification\n",
      "         lane change alert\n",
      "         gps\n",
      "   entertainment\n",
      "      gaming\n",
      "      television\n",
      "      play radio\n",
      "   phone\n",
      "      contact list\n",
      "      dial\n",
      "      check voice mail messages\n"
     ]
    }
   ],
   "source": [
    "# This function translates a nested dictionary in intended outline\n",
    "\n",
    "def recurse_dico_keys(dico, indent = '   '):\n",
    "    for k in dico.keys():\n",
    "        print indent+str(k)\n",
    "        if isinstance(dico[k], dict):\n",
    "            recurse_dico_keys(dico[k], indent + '   ')\n",
    "            \n",
    "recurse_dico_keys(gui4)"
   ]
  },
  {
   "cell_type": "markdown",
   "metadata": {},
   "source": [
    "###  Target features, goal descriptions, and their respective familiarity/technicality "
   ]
  },
  {
   "cell_type": "markdown",
   "metadata": {},
   "source": [
    "Preparing a test_set that list all the target feature or an IA, plus slots for variables of interest and test specifications"
   ]
  },
  {
   "cell_type": "code",
   "execution_count": 37,
   "metadata": {
    "collapsed": true
   },
   "outputs": [
    {
     "data": {
      "text/plain": [
       "[('ventilation settings', '', ''),\n",
       " ('recycling mode', '', ''),\n",
       " ('increase celsius degrees', '', ''),\n",
       " ('activate cruise control', '', ''),\n",
       " ('turn off cruise control', '', ''),\n",
       " ('anti theft notification', '', ''),\n",
       " ('lane change alert', '', ''),\n",
       " ('gps', '', ''),\n",
       " ('gaming', '', ''),\n",
       " ('television', '', ''),\n",
       " ('play radio', '', ''),\n",
       " ('contact list', '', ''),\n",
       " ('dial', '', ''),\n",
       " ('check voice mail messages', '', '')]"
      ]
     },
     "execution_count": 37,
     "metadata": {},
     "output_type": "execute_result"
    }
   ],
   "source": [
    "# Function for listing any IA's target features + slots for corresponding goal descriptions and technicality\n",
    "\n",
    "def list_gui_target_features(gui, f_list=[], g_list=[], t_list=[]):\n",
    "    for k in gui.keys():\n",
    "        if type(gui[k]) is str:\n",
    "            f_list.append(gui[k])\n",
    "            g_list.append('')\n",
    "            t_list.append('')\n",
    "        else:\n",
    "            list_gui_target_features(gui[k])                           \n",
    "    return zip (f_list, g_list, t_list)\n",
    "\n",
    "list_gui_target_features(gui4)"
   ]
  },
  {
   "cell_type": "code",
   "execution_count": 38,
   "metadata": {
    "collapsed": false
   },
   "outputs": [
    {
     "data": {
      "text/plain": [
       "[3, 3, 3, 4, 4, 3, 3, 3, 2, 2, 2, 2, 2, 2]"
      ]
     },
     "execution_count": 38,
     "metadata": {},
     "output_type": "execute_result"
    }
   ],
   "source": [
    "# Function for determining path lengths (= prescribed number of steps to target feature)\n",
    "f_list = []\n",
    "def steps_to_targ_feat (gui, glob , c_list = []):   \n",
    "    for v in gui.values():   \n",
    "        if type(v) is dict:\n",
    "            steps_to_targ_feat(v, glob + 1)\n",
    "        else:\n",
    "            f_list.append(v)\n",
    "            c_list.append(glob)     \n",
    "    return c_list #, f_list\n",
    "\n",
    "steps_to_targ_feat(gui4, 1)"
   ]
  },
  {
   "cell_type": "markdown",
   "metadata": {
    "collapsed": true
   },
   "source": [
    "**Wraping the 2 above functions:**"
   ]
  },
  {
   "cell_type": "code",
   "execution_count": 40,
   "metadata": {
    "collapsed": false
   },
   "outputs": [],
   "source": [
    "def wraper1 (gui):\n",
    "    \n",
    "    def list_gui_target_features(gui, f_list=[], g_list=[], t_list=[]):\n",
    "        for k in gui.keys():\n",
    "            if type(gui[k]) is str:\n",
    "                f_list.append(gui[k])\n",
    "                g_list.append('')\n",
    "                t_list.append('')\n",
    "            else:\n",
    "                list_gui_target_features(gui[k])                           \n",
    "        return zip (f_list, g_list, t_list)\n",
    "    \n",
    "    return list_gui_target_features (gui)"
   ]
  },
  {
   "cell_type": "code",
   "execution_count": 42,
   "metadata": {
    "collapsed": false
   },
   "outputs": [],
   "source": [
    "def wraper2 (gui, glob): \n",
    "    \n",
    "    def steps_to_targ_feat (gui, glob , c_list = []):   \n",
    "        for v in gui.values():   \n",
    "            if type(v) is dict:\n",
    "                steps_to_targ_feat(v, glob + 1)\n",
    "            else:\n",
    "                f_list.append(v)\n",
    "                c_list.append(glob)     \n",
    "        return c_list #, f_list\n",
    "\n",
    "    return steps_to_targ_feat(gui, glob)\n",
    "\n",
    "#steps_to_targ_feat(gui4, 1)"
   ]
  },
  {
   "cell_type": "raw",
   "metadata": {},
   "source": [
    "def test_set(gui):\n",
    "\n",
    "    j = wraper1 (gui)\n",
    "    h = wraper2 (gui, 1)\n",
    "    print h\n",
    "  \n",
    "test_set(gui4)"
   ]
  },
  {
   "cell_type": "code",
   "execution_count": 43,
   "metadata": {
    "collapsed": true
   },
   "outputs": [
    {
     "name": "stdout",
     "output_type": "stream",
     "text": [
      "('ventilation settings', '', '', 3)\n",
      "('recycling mode', '', '', 3)\n",
      "('increase celsius degrees', '', '', 3)\n",
      "('activate cruise control', '', '', 4)\n",
      "('turn off cruise control', '', '', 4)\n",
      "('anti theft notification', '', '', 3)\n",
      "('lane change alert', '', '', 3)\n",
      "('gps', '', '', 3)\n",
      "('gaming', '', '', 2)\n",
      "('television', '', '', 2)\n",
      "('play radio', '', '', 2)\n",
      "('contact list', '', '', 2)\n",
      "('dial', '', '', 2)\n",
      "('check voice mail messages', '', '', 2)\n"
     ]
    }
   ],
   "source": [
    "def test_set(gui):\n",
    "    l1 = wraper1 (gui)\n",
    "    l2 = wraper2 (gui, 1)\n",
    "    l3 = []\n",
    "    for i, elem in enumerate(l1):\n",
    "        temp = []\n",
    "        for n in elem:\n",
    "            temp.append(n)\n",
    "        temp.append(l2[i])\n",
    "        l3.append(tuple(temp))\n",
    "    return l3\n",
    "    \n",
    "test_set_inter = test_set(gui4)\n",
    "for t in test_set_inter:\n",
    "    print t"
   ]
  },
  {
   "cell_type": "markdown",
   "metadata": {},
   "source": [
    "After running the above function, **practitioner must specify goal descriptions and technicality level for each target feature s/he wants to test.**\n",
    "\n",
    "***test_set representated as a tuple ('target feature', 'goal description', 'technicality')***"
   ]
  },
  {
   "cell_type": "code",
   "execution_count": 20,
   "metadata": {
    "collapsed": false
   },
   "outputs": [],
   "source": [
    "test_set1 = [('ventilation settings', 'change fan speed', 'basic'),\n",
    " ('increase celsius degrees', 'increase temperature', 'basic'),\n",
    " ('recycling mode', 'prevent exterior air enter', 'technical'),\n",
    " ('activate cruise control', 'control my speed', 'technical'),\n",
    " ('turn off cruise control', 'disable speed alert', 'technical'),\n",
    " ('anti theft notification', 'alert that my car stolen', 'technical'),\n",
    " ('lane change alert', 'disable car passing support system', 'technical'),\n",
    " ('gps', 'get itinerary parc', 'basic'),\n",
    " ('gaming', 'play cards', 'basic'),\n",
    " ('play radio', 'lookup classical music broadcast', 'basic'),\n",
    " ('television', 'watch favorite tv show', 'basic'),\n",
    " ('contact list', 'retrieve my friend mailing address', 'basic'),\n",
    " ('dial', 'call number', 'basic'),\n",
    " ('check voice mail messages', 'listen recent phone messages', 'basic')]"
   ]
  },
  {
   "cell_type": "markdown",
   "metadata": {},
   "source": [
    "**Wordnet familiarity as an alternative to subjective technicality labelling:**"
   ]
  },
  {
   "cell_type": "code",
   "execution_count": 21,
   "metadata": {
    "collapsed": false
   },
   "outputs": [
    {
     "name": "stdout",
     "output_type": "stream",
     "text": [
      "[3.75, 4.25, 4.5, 5.0, 6.33, 7.25, 7.75, 9.0, 12.33, 13.33, 14.5, 15.0, 29.0, 33.0]\n"
     ]
    }
   ],
   "source": [
    "#Retrieve basic polysemy proxy from nltk's interface for wordnet\n",
    "\n",
    "wn_fam = []\n",
    "\n",
    "for test in test_set1:\n",
    "    tokenizer = RegexpTokenizer(r'\\w+')\n",
    "    toketxt = tokenizer.tokenize(test[1])\n",
    "    s = set(stopwords.words('english'))\n",
    "    filt_wrd = [w for w in toketxt if not w in s]\n",
    "    w_count = len(filt_wrd)\n",
    "    g_polys = 0\n",
    "\n",
    "    for word in filt_wrd:\n",
    "        w_polys = len(wn.synsets(word))\n",
    "        g_polys += w_polys\n",
    "\n",
    "    av_polys = float(g_polys)/float(w_count)\n",
    "    wn_fam.append(round(av_polys, 2))\n",
    "\n",
    "print sorted(wn_fam)"
   ]
  },
  {
   "cell_type": "code",
   "execution_count": 23,
   "metadata": {
    "collapsed": false
   },
   "outputs": [
    {
     "name": "stdout",
     "output_type": "stream",
     "text": [
      "[1.5, 3.67, 4.0, 4.5, 5.0, 9.0, 10.0, 10.0, 10.33, 12.0, 12.33, 18.25, 29.0, 52.0]\n"
     ]
    }
   ],
   "source": [
    "wn_fam_NN = []\n",
    "\n",
    "for test in test_set1: \n",
    "    filt_wrd = []\n",
    "    g = test[1]\n",
    "    for w, pos in tag(g): \n",
    "        if pos == \"NN\":\n",
    "            filt_wrd.append(w)\n",
    "    #print filt_wrd\n",
    "\n",
    "    w_count = len(filt_wrd)\n",
    "    g_polys = 0\n",
    "\n",
    "    for word in filt_wrd:\n",
    "        w_polys = len(wn.synsets(word))\n",
    "        g_polys += w_polys\n",
    "        \n",
    "    av_polys = float(g_polys)/float(w_count)\n",
    "    wn_fam_NN.append(round(av_polys, 2))\n",
    "\n",
    "print sorted(wn_fam_NN) "
   ]
  },
  {
   "cell_type": "code",
   "execution_count": 17,
   "metadata": {
    "collapsed": false
   },
   "outputs": [
    {
     "name": "stdout",
     "output_type": "stream",
     "text": [
      "['target_feat' 'goal' 'counts' 'familiarity' 'wn_familiarity'\n",
      " 'wn_familiarity_NN' 'model' 'prepping']\n"
     ]
    },
    {
     "data": {
      "text/plain": [
       "<seaborn.axisgrid.FacetGrid at 0x1438cbf50>"
      ]
     },
     "execution_count": 17,
     "metadata": {},
     "output_type": "execute_result"
    },
    {
     "data": {
      "image/png": "[encoded data removed]",
      "text/plain": [
       "<matplotlib.figure.Figure at 0x1436957d0>"
      ]
     },
     "metadata": {},
     "output_type": "display_data"
    }
   ],
   "source": [
    "# dont run this before having df active\n",
    "\n",
    "sns.set(style=\"whitegrid\")\n",
    "print df_gui4.columns.values\n",
    "g = sns.factorplot(x=\"familiarity\", y=\"wn_familiarity\", data=df_gui4,\n",
    "                   palette=\"YlGnBu_d\", size=5, aspect=.75)\n",
    "g.despine(left=True)"
   ]
  },
  {
   "cell_type": "markdown",
   "metadata": {},
   "source": [
    "Still decent separation!"
   ]
  },
  {
   "cell_type": "markdown",
   "metadata": {},
   "source": [
    "### Language models (LSA, LDA and word2vec for wiki corpus tokens and lemmas)"
   ]
  },
  {
   "cell_type": "code",
   "execution_count": 44,
   "metadata": {
    "collapsed": false
   },
   "outputs": [
    {
     "name": "stdout",
     "output_type": "stream",
     "text": [
      "Tokenized corpus: MmCorpus(73898 documents, 29597 features, 6418219 non-zero entries)\n",
      "Dictionary(29597 unique tokens: [u'fawn', u'schlegel', u'sonja', u'woods', u'spiders']...) \n",
      "\n",
      "Lemmatized corpus: MmCorpus(59245 documents, 26640 features, 5275674 non-zero entries)\n",
      "Dictionary(26640 unique tokens: [u'adjust/VB', u'meteor/NN', u'certificate/NN', u'alcatraz/NN', u'removal/NN']...)\n"
     ]
    }
   ],
   "source": [
    "# Load tf-idf representation and dictionary mapping for tokenized corpus\n",
    "wiki = corpora.MmCorpus('latent_tok_tfidf.mm')\n",
    "mon_dico = corpora.Dictionary.load_from_text('latent_tok_wordids.txt')\n",
    "\n",
    "# Lemmatized tf-idf representation and dictionary\n",
    "wiki_lem = corpora.MmCorpus('latent_lem_tfidf.mm')\n",
    "mon_dico_lem = corpora.Dictionary.load_from_text('latent_lem_wordids.txt')\n",
    "\n",
    "print \"Tokenized corpus:\", wiki\n",
    "print mon_dico, '\\n'\n",
    "print \"Lemmatized corpus:\", wiki_lem\n",
    "print mon_dico_lem"
   ]
  },
  {
   "cell_type": "code",
   "execution_count": 45,
   "metadata": {
    "collapsed": false
   },
   "outputs": [],
   "source": [
    "# Load model pickles\n",
    "# Model training parameters:\n",
    "#    - LSA and LDA: dictionary = 100,000; topics = 450\n",
    "#    - Word2vec: dictionary = 100,000; neural layers = 200\n",
    "    \n",
    "tok_w2v = models.word2vec.Word2Vec.load(\"word2vec_tok.model\")\n",
    "lem_w2v = models.word2vec.Word2Vec.load(\"word2vec_lem.model\")\n",
    "tok_lsi = pickle.load (open ('pickle_lsi.p', 'rb'))\n",
    "tok_lda = pickle.load (open ('pickle_lda.p', 'rb'))\n",
    "lem_lsi = pickle.load (open ('pickle_lsi_lem.p', 'rb'))\n",
    "lem_lda = pickle.load (open ('pickle_lda_lem.p', 'rb'))"
   ]
  },
  {
   "cell_type": "markdown",
   "metadata": {},
   "source": [
    "## 2. Semantic \"sniffing\" algorithm\n",
    "\n",
    "The infoscent method is now applid to the GUI.\n",
    "The following function takes any state of a GUI, calculates the similarity of each feature in that state with a goal, and returns the features as a list sorted by similarity.\n"
   ]
  },
  {
   "cell_type": "code",
   "execution_count": 49,
   "metadata": {
    "collapsed": false
   },
   "outputs": [
    {
     "name": "stdout",
     "output_type": "stream",
     "text": [
      "[('phone', 0.31809471697231229), ('car', 0.15134431360520267), ('entertainment', 0.057299009097622436)] \n",
      "\n",
      "[('car', -0.0083550652), ('entertainment', -0.0085616298), ('phone', -0.078603856)] \n",
      "\n",
      "[('phone', 0.2054445), ('entertainment', -0.011600597), ('car', -0.017856039)] \n",
      "\n"
     ]
    }
   ],
   "source": [
    "# Needs to know the model type (w2v, w2v_lem, latent, latent_lem)\n",
    "def sim_sort(state, model, goal, model_type):\n",
    "    sorted_sims = []\n",
    "    similaritiz = {}\n",
    "    goal_v = []\n",
    "    \n",
    "    # Word2Vec models\n",
    "    if (model_type == \"w2v\") or (model_type == \"w2v_lem\"):\n",
    "        \n",
    "        goal_v = goal.lower().split()\n",
    "        if model_type == \"w2v_lem\":\n",
    "            goal_v = utils.lemmatize(goal)\n",
    "\n",
    "        for label in state.keys():\n",
    "            k = label.split()\n",
    "            if model_type == \"w2v_lem\":\n",
    "                k = utils.lemmatize(label)\n",
    "            sim = model.n_similarity(k, goal_v)\n",
    "            similaritiz[label]=sim          #adding the similarity scores for any label\n",
    "\n",
    "    # LSI/LDA models\n",
    "    elif (model_type == \"latent\") or (model_type == \"latent_lem\"):\n",
    "        \n",
    "        goal_split = goal.lower().split()\n",
    "        goal_bow = mon_dico.doc2bow(goal_split)\n",
    "        if model_type == \"latent_lem\":\n",
    "            goal_bow = mon_dico_lem.doc2bow(utils.lemmatize(goal))\n",
    "        goal_v = model[goal_bow]\n",
    "        \n",
    "        ar = []\n",
    "        for label in state.keys():\n",
    "            k = label.split()\n",
    "            if model_type == \"latent_lem\":\n",
    "                k = utils.lemmatize(label)\n",
    "            ar.append(k)\n",
    "\n",
    "        state2index = [mon_dico.doc2bow(txt) for txt in ar]\n",
    "        if model_type == \"latent_lem\":\n",
    "            state2index = [mon_dico_lem.doc2bow(txt) for txt in ar]\n",
    "        index = similarities.MatrixSimilarity(model[state2index], num_features=29000)\n",
    "        indexed_scores = list(index[goal_v])\n",
    "        \n",
    "        for index, score in enumerate(indexed_scores):       #this could be replaced by zip()\n",
    "            label = state.keys()[index]\n",
    "            similaritiz[label] = score\n",
    "        \n",
    "    sorted_sims = sorted(similaritiz.items(), key=operator.itemgetter(1), reverse = True) \n",
    "    #print sorted_sims\n",
    "    return sorted_sims                              #returns a list of tuples i.e [(,), (,)]\n",
    "\n",
    "\n",
    "# Check output\n",
    "print sim_sort(gui4, tok_w2v, 'call your parents', 'w2v'), \"\\n\"\n",
    "print sim_sort(gui4, lem_lsi, 'call your parents', 'latent_lem'), \"\\n\"\n",
    "print sim_sort(gui4, tok_lsi, 'call your parents', 'latent'), \"\\n\""
   ]
  },
  {
   "cell_type": "markdown",
   "metadata": {},
   "source": [
    "This function goes recursively down the GUI, comparing semantic similarity of features in each state with the goal description and following the most familiar down the Information Architecture."
   ]
  },
  {
   "cell_type": "code",
   "execution_count": 33,
   "metadata": {
    "collapsed": false
   },
   "outputs": [
    {
     "data": {
      "text/plain": [
       "((True, 8), '\\n')"
      ]
     },
     "execution_count": 33,
     "metadata": {},
     "output_type": "execute_result"
    }
   ],
   "source": [
    "def intermediate_sniffer_metrics(gui, model, goal, target_feat, model_type, global_count = 0):\n",
    "    \n",
    "    state = sim_sort(gui, model, goal, model_type)    #returned content must be assigned to a variable\n",
    "    found_goal = False\n",
    "    #print state\n",
    "    for label, score in state:\n",
    "        global_count += 1\n",
    "        \n",
    "        if type(gui[label]) is dict:\n",
    "            found_goal, g_cnt = intermediate_sniffer_metrics(gui[label], model, goal, target_feat, model_type)\n",
    "            global_count += g_cnt\n",
    "            if found_goal:\n",
    "                return True, global_count\n",
    "    \n",
    "        elif gui[label] == target_feat:\n",
    "            return True, global_count\n",
    "\n",
    "    return False, global_count\n",
    "\n",
    "intermediate_sniffer_metrics(gui4, tok_w2v, 'cruise control', 'turn off cruise control', 'w2v'), '\\n'"
   ]
  },
  {
   "cell_type": "markdown",
   "metadata": {},
   "source": [
    "## 3. Comparison of model performance\n",
    "\n",
    "For any goal, this function computes the total number of steps required to \"find\" the correct target feature. Results are stored for every model type."
   ]
  },
  {
   "cell_type": "code",
   "execution_count": 35,
   "metadata": {
    "collapsed": true
   },
   "outputs": [],
   "source": [
    "def auto_test(test_set, model, model_type):\n",
    "    test_metrics =[]\n",
    "    goal_l = []\n",
    "    target_l=[]\n",
    "    fam = []\n",
    "    for a, b, c in test_set:\n",
    "        goal_l.append(a)\n",
    "        target_l.append(b)\n",
    "        fam.append(c)\n",
    "        result = intermediate_sniffer_metrics(gui4, model, b, a , model_type)\n",
    "        test_metrics.append(result[1])\n",
    "    return zip(goal_l, target_l,test_metrics, fam, wn_fam, wn_fam_NN)"
   ]
  },
  {
   "cell_type": "code",
   "execution_count": 36,
   "metadata": {
    "collapsed": false
   },
   "outputs": [],
   "source": [
    "# testing test_set1 for gui4:\n",
    "\n",
    "tok_w2v_test = auto_test(test_set1, tok_w2v, 'w2v')\n",
    "lem_w2v_test = auto_test(test_set1, lem_w2v, 'w2v_lem')\n",
    "tok_lsi_test = auto_test(test_set1, tok_lsi, 'latent')\n",
    "tok_lda_test = auto_test(test_set1, tok_lda, 'latent')\n",
    "lem_lsi_test = auto_test(test_set1, lem_lsi, 'latent_lem')\n",
    "lem_lda_test = auto_test(test_set1, lem_lda, 'latent_lem')"
   ]
  },
  {
   "cell_type": "markdown",
   "metadata": {},
   "source": [
    "Create Pandas dataframes for each model.\n",
    "Prepare columns for visualizations and model comparison, then concatenate all models into a single dataframe."
   ]
  },
  {
   "cell_type": "code",
   "execution_count": 37,
   "metadata": {
    "collapsed": false
   },
   "outputs": [
    {
     "data": {
      "text/html": [
       "<div>\n",
       "<table border=\"1\" class=\"dataframe\">\n",
       "  <thead>\n",
       "    <tr style=\"text-align: right;\">\n",
       "      <th></th>\n",
       "      <th>target_feat</th>\n",
       "      <th>goal</th>\n",
       "      <th>counts</th>\n",
       "      <th>familiarity</th>\n",
       "      <th>wn_familiarity</th>\n",
       "      <th>wn_familiarity_NN</th>\n",
       "      <th>model</th>\n",
       "      <th>prepping</th>\n",
       "    </tr>\n",
       "  </thead>\n",
       "  <tbody>\n",
       "    <tr>\n",
       "      <th>0</th>\n",
       "      <td>ventilation settings</td>\n",
       "      <td>change fan speed</td>\n",
       "      <td>4</td>\n",
       "      <td>basic</td>\n",
       "      <td>12.33</td>\n",
       "      <td>12.33</td>\n",
       "      <td>word2vec</td>\n",
       "      <td>tokens</td>\n",
       "    </tr>\n",
       "    <tr>\n",
       "      <th>1</th>\n",
       "      <td>increase celsius degrees</td>\n",
       "      <td>increase temperature</td>\n",
       "      <td>3</td>\n",
       "      <td>basic</td>\n",
       "      <td>4.50</td>\n",
       "      <td>4.50</td>\n",
       "      <td>word2vec</td>\n",
       "      <td>tokens</td>\n",
       "    </tr>\n",
       "    <tr>\n",
       "      <th>2</th>\n",
       "      <td>recycling mode</td>\n",
       "      <td>prevent exterior air enter</td>\n",
       "      <td>5</td>\n",
       "      <td>technical</td>\n",
       "      <td>7.25</td>\n",
       "      <td>12.00</td>\n",
       "      <td>word2vec</td>\n",
       "      <td>tokens</td>\n",
       "    </tr>\n",
       "    <tr>\n",
       "      <th>3</th>\n",
       "      <td>activate cruise control</td>\n",
       "      <td>control my speed</td>\n",
       "      <td>5</td>\n",
       "      <td>technical</td>\n",
       "      <td>14.50</td>\n",
       "      <td>10.00</td>\n",
       "      <td>word2vec</td>\n",
       "      <td>tokens</td>\n",
       "    </tr>\n",
       "    <tr>\n",
       "      <th>4</th>\n",
       "      <td>turn off cruise control</td>\n",
       "      <td>disable speed alert</td>\n",
       "      <td>12</td>\n",
       "      <td>technical</td>\n",
       "      <td>6.33</td>\n",
       "      <td>10.00</td>\n",
       "      <td>word2vec</td>\n",
       "      <td>tokens</td>\n",
       "    </tr>\n",
       "  </tbody>\n",
       "</table>\n",
       "</div>"
      ],
      "text/plain": [
       "                target_feat                        goal  counts familiarity  \\\n",
       "0      ventilation settings            change fan speed       4       basic   \n",
       "1  increase celsius degrees        increase temperature       3       basic   \n",
       "2            recycling mode  prevent exterior air enter       5   technical   \n",
       "3   activate cruise control            control my speed       5   technical   \n",
       "4   turn off cruise control         disable speed alert      12   technical   \n",
       "\n",
       "   wn_familiarity  wn_familiarity_NN     model prepping  \n",
       "0           12.33              12.33  word2vec   tokens  \n",
       "1            4.50               4.50  word2vec   tokens  \n",
       "2            7.25              12.00  word2vec   tokens  \n",
       "3           14.50              10.00  word2vec   tokens  \n",
       "4            6.33              10.00  word2vec   tokens  "
      ]
     },
     "execution_count": 37,
     "metadata": {},
     "output_type": "execute_result"
    }
   ],
   "source": [
    "df_tok_w2v = pd.DataFrame(tok_w2v_test)\n",
    "df_tok_w2v['model']='word2vec'\n",
    "df_tok_w2v['prepping']='tokens'\n",
    "\n",
    "df_lem_w2v = pd.DataFrame(lem_w2v_test)\n",
    "df_lem_w2v['model']='word2vec'\n",
    "df_lem_w2v['prepping']='lemmas'\n",
    "\n",
    "df_tok_lsi = pd.DataFrame(tok_lsi_test)\n",
    "df_tok_lsi['model']='lsi'\n",
    "df_tok_lsi['prepping']='tokens'\n",
    "\n",
    "df_tok_lda = pd.DataFrame(tok_lda_test)\n",
    "df_tok_lda['model']='lda'\n",
    "df_tok_lda['prepping']='tokens'\n",
    "\n",
    "df_lem_lsi = pd.DataFrame(lem_lsi_test)\n",
    "df_lem_lsi['model']='lsi'\n",
    "df_lem_lsi['prepping']='lemmas'\n",
    "\n",
    "df_lem_lda = pd.DataFrame(lem_lda_test)\n",
    "df_lem_lda['model']='lda'\n",
    "df_lem_lda['prepping']='lemmas'\n",
    "\n",
    "frames = [df_tok_w2v, df_lem_w2v, df_tok_lsi, df_tok_lda, df_lem_lsi, df_lem_lda]\n",
    "df_gui4=pd.concat(frames)\n",
    "df_gui4.columns = ['target_feat','goal',  'counts','familiarity','wn_familiarity','wn_familiarity_NN','model', 'prepping']\n",
    "\n",
    "df_gui4.head(5)"
   ]
  },
  {
   "cell_type": "code",
   "execution_count": 38,
   "metadata": {
    "collapsed": false
   },
   "outputs": [
    {
     "data": {
      "text/plain": [
       "<matplotlib.axes._subplots.AxesSubplot at 0x108451790>"
      ]
     },
     "execution_count": 38,
     "metadata": {},
     "output_type": "execute_result"
    },
    {
     "data": {
      "image/png": "[encoded data removed]",
      "text/plain": [
       "<matplotlib.figure.Figure at 0x12bd5fb10>"
      ]
     },
     "metadata": {},
     "output_type": "display_data"
    },
    {
     "data": {
      "image/png": "[encoded data removed]",
      "text/plain": [
       "<matplotlib.figure.Figure at 0x12bd5fa50>"
      ]
     },
     "metadata": {},
     "output_type": "display_data"
    },
    {
     "data": {
      "image/png": "[encoded data removed]",
      "text/plain": [
       "<matplotlib.figure.Figure at 0x106247450>"
      ]
     },
     "metadata": {},
     "output_type": "display_data"
    }
   ],
   "source": [
    "df_gui4.boxplot(column = 'counts', by = 'model')\n",
    "df_gui4.boxplot(column = 'counts', by = 'prepping')\n",
    "df_gui4.boxplot(column = 'counts', by = 'familiarity')"
   ]
  },
  {
   "cell_type": "code",
   "execution_count": 274,
   "metadata": {
    "collapsed": false
   },
   "outputs": [
    {
     "data": {
      "text/plain": [
       "<seaborn.axisgrid.FacetGrid at 0x14e9cc650>"
      ]
     },
     "execution_count": 274,
     "metadata": {},
     "output_type": "execute_result"
    },
    {
     "data": {
      "image/png": "[encoded data removed]",
      "text/plain": [
       "<matplotlib.figure.Figure at 0x1049a9090>"
      ]
     },
     "metadata": {},
     "output_type": "display_data"
    }
   ],
   "source": [
    "e = sns.factorplot(x=\"familiarity\", y=\"counts\", col = 'model', hue=\"prepping\",data=df_gui4,\n",
    "                   palette=\"YlGnBu_d\", size=5, aspect=.75)\n",
    "e.despine(left=True)"
   ]
  },
  {
   "cell_type": "code",
   "execution_count": 21,
   "metadata": {
    "collapsed": false
   },
   "outputs": [
    {
     "name": "stdout",
     "output_type": "stream",
     "text": [
      "Index([u'target_feat', u'goal', u'counts', u'familiarity', u'wn_familiarity',\n",
      "       u'wn_familiarity_NN', u'model', u'prepping'],\n",
      "      dtype='object')\n",
      "                                                         sum_sq  df  \\\n",
      "C(model, Sum)                                        478.166667   2   \n",
      "C(prepping, Sum)                                       0.011905   1   \n",
      "C(familiarity, Sum)                                    0.222487   1   \n",
      "C(model, Sum):C(prepping, Sum)                         5.023810   2   \n",
      "C(model, Sum):C(familiarity, Sum)                    134.381481   2   \n",
      "C(prepping, Sum):C(familiarity, Sum)                   1.117725   1   \n",
      "C(model, Sum):C(prepping, Sum):C(familiarity, Sum)     1.968783   2   \n",
      "Residual                                            1558.666667  72   \n",
      "\n",
      "                                                            F    PR(>F)  \n",
      "C(model, Sum)                                       11.044055  0.000066  \n",
      "C(prepping, Sum)                                     0.000550  0.981356  \n",
      "C(familiarity, Sum)                                  0.010277  0.919533  \n",
      "C(model, Sum):C(prepping, Sum)                       0.116033  0.890612  \n",
      "C(model, Sum):C(familiarity, Sum)                    3.103764  0.050936  \n",
      "C(prepping, Sum):C(familiarity, Sum)                 0.051631  0.820892  \n",
      "C(model, Sum):C(prepping, Sum):C(familiarity, Sum)   0.045472  0.955573  \n",
      "Residual                                                  NaN       NaN  \n"
     ]
    }
   ],
   "source": [
    "print df_gui4.columns\n",
    "\n",
    "anova_1 = ols('counts ~ C(model, Sum)*C(prepping, Sum)*C(familiarity, Sum)',\n",
    "               data=df_gui4).fit()\n",
    "table = sm.stats.anova_lm(anova_1, typ=2) # Type 2 ANOVA DataFrame\n",
    "print table"
   ]
  },
  {
   "cell_type": "raw",
   "metadata": {
    "collapsed": false
   },
   "source": [
    "selecta = df_gui4[df_gui4['model'] != 'lda']\n",
    "\n",
    "X = selecta['wn_familiarity_NN']\n",
    "Y = selecta['counts']\n",
    "\n",
    "regr = linear_model.LinearRegression()\n",
    "regr.fit (X[:,np.newaxis], Y)\n",
    "\n",
    "plt.xlabel('familiarity')\n",
    "plt.scatter(X, Y, color='red')\n",
    "plt.plot(X, regr.predict(X[:,np.newaxis]), color='blue')\n",
    "plt.show()\n",
    "\n",
    "# The coefficients\n",
    "print 'Coefficients: %.3f' % regr.coef_[0]\n",
    "# The mean square error\n",
    "print \"Mean residual sum of squares: %.1f\" % np.mean((regr.predict(X[:,np.newaxis]) - Y) ** 2)\n",
    "# Explained variance score: 1 is perfect prediction\n",
    "print('Variance of Y explained by X: %.3f' % regr.score(X[:,np.newaxis], Y))"
   ]
  },
  {
   "cell_type": "markdown",
   "metadata": {},
   "source": [
    "### Similarity matrix for Goals and Target features\n"
   ]
  },
  {
   "cell_type": "code",
   "execution_count": 22,
   "metadata": {
    "collapsed": false
   },
   "outputs": [
    {
     "data": {
      "text/html": [
       "<div>\n",
       "<table border=\"1\" class=\"dataframe\">\n",
       "  <thead>\n",
       "    <tr style=\"text-align: right;\">\n",
       "      <th></th>\n",
       "      <th>ventilation settings</th>\n",
       "      <th>increase celsius degrees</th>\n",
       "      <th>recycling mode</th>\n",
       "      <th>activate cruise control</th>\n",
       "      <th>turn off cruise control</th>\n",
       "      <th>anti theft notification</th>\n",
       "      <th>lane change alert</th>\n",
       "      <th>gps</th>\n",
       "      <th>gaming</th>\n",
       "      <th>play radio</th>\n",
       "      <th>television</th>\n",
       "      <th>contact list</th>\n",
       "      <th>dial</th>\n",
       "      <th>check voice mail messages</th>\n",
       "    </tr>\n",
       "  </thead>\n",
       "  <tbody>\n",
       "    <tr>\n",
       "      <th>change fan speed</th>\n",
       "      <td>0.334732</td>\n",
       "      <td>0.350195</td>\n",
       "      <td>0.318533</td>\n",
       "      <td>0.229320</td>\n",
       "      <td>0.409647</td>\n",
       "      <td>0.239094</td>\n",
       "      <td>0.430893</td>\n",
       "      <td>0.272144</td>\n",
       "      <td>0.247755</td>\n",
       "      <td>0.170977</td>\n",
       "      <td>0.065792</td>\n",
       "      <td>0.280180</td>\n",
       "      <td>0.187660</td>\n",
       "      <td>0.271109</td>\n",
       "    </tr>\n",
       "    <tr>\n",
       "      <th>increase temperature</th>\n",
       "      <td>0.451423</td>\n",
       "      <td>0.728940</td>\n",
       "      <td>0.408928</td>\n",
       "      <td>0.248899</td>\n",
       "      <td>0.203634</td>\n",
       "      <td>0.116112</td>\n",
       "      <td>0.406705</td>\n",
       "      <td>0.198475</td>\n",
       "      <td>0.018705</td>\n",
       "      <td>-0.071758</td>\n",
       "      <td>-0.089736</td>\n",
       "      <td>0.156829</td>\n",
       "      <td>0.085851</td>\n",
       "      <td>0.079286</td>\n",
       "    </tr>\n",
       "    <tr>\n",
       "      <th>prevent exterior air enter</th>\n",
       "      <td>0.348610</td>\n",
       "      <td>0.230782</td>\n",
       "      <td>0.188675</td>\n",
       "      <td>0.452011</td>\n",
       "      <td>0.545227</td>\n",
       "      <td>0.259917</td>\n",
       "      <td>0.334229</td>\n",
       "      <td>0.207439</td>\n",
       "      <td>0.037684</td>\n",
       "      <td>0.104458</td>\n",
       "      <td>0.019115</td>\n",
       "      <td>0.260333</td>\n",
       "      <td>0.143287</td>\n",
       "      <td>0.359290</td>\n",
       "    </tr>\n",
       "    <tr>\n",
       "      <th>control my speed</th>\n",
       "      <td>0.283188</td>\n",
       "      <td>0.210514</td>\n",
       "      <td>0.274728</td>\n",
       "      <td>0.414736</td>\n",
       "      <td>0.619212</td>\n",
       "      <td>0.193429</td>\n",
       "      <td>0.338686</td>\n",
       "      <td>0.249979</td>\n",
       "      <td>0.157924</td>\n",
       "      <td>0.205507</td>\n",
       "      <td>0.066804</td>\n",
       "      <td>0.207102</td>\n",
       "      <td>0.167471</td>\n",
       "      <td>0.324617</td>\n",
       "    </tr>\n",
       "    <tr>\n",
       "      <th>disable speed alert</th>\n",
       "      <td>0.425650</td>\n",
       "      <td>0.264661</td>\n",
       "      <td>0.410974</td>\n",
       "      <td>0.449580</td>\n",
       "      <td>0.388973</td>\n",
       "      <td>0.352458</td>\n",
       "      <td>0.566966</td>\n",
       "      <td>0.413387</td>\n",
       "      <td>0.235027</td>\n",
       "      <td>0.089045</td>\n",
       "      <td>-0.032025</td>\n",
       "      <td>0.073983</td>\n",
       "      <td>0.198755</td>\n",
       "      <td>0.378668</td>\n",
       "    </tr>\n",
       "  </tbody>\n",
       "</table>\n",
       "</div>"
      ],
      "text/plain": [
       "                            ventilation settings  increase celsius degrees  \\\n",
       "change fan speed                        0.334732                  0.350195   \n",
       "increase temperature                    0.451423                  0.728940   \n",
       "prevent exterior air enter              0.348610                  0.230782   \n",
       "control my speed                        0.283188                  0.210514   \n",
       "disable speed alert                     0.425650                  0.264661   \n",
       "\n",
       "                            recycling mode  activate cruise control  \\\n",
       "change fan speed                  0.318533                 0.229320   \n",
       "increase temperature              0.408928                 0.248899   \n",
       "prevent exterior air enter        0.188675                 0.452011   \n",
       "control my speed                  0.274728                 0.414736   \n",
       "disable speed alert               0.410974                 0.449580   \n",
       "\n",
       "                            turn off cruise control  anti theft notification  \\\n",
       "change fan speed                           0.409647                 0.239094   \n",
       "increase temperature                       0.203634                 0.116112   \n",
       "prevent exterior air enter                 0.545227                 0.259917   \n",
       "control my speed                           0.619212                 0.193429   \n",
       "disable speed alert                        0.388973                 0.352458   \n",
       "\n",
       "                            lane change alert       gps    gaming  play radio  \\\n",
       "change fan speed                     0.430893  0.272144  0.247755    0.170977   \n",
       "increase temperature                 0.406705  0.198475  0.018705   -0.071758   \n",
       "prevent exterior air enter           0.334229  0.207439  0.037684    0.104458   \n",
       "control my speed                     0.338686  0.249979  0.157924    0.205507   \n",
       "disable speed alert                  0.566966  0.413387  0.235027    0.089045   \n",
       "\n",
       "                            television  contact list      dial  \\\n",
       "change fan speed              0.065792      0.280180  0.187660   \n",
       "increase temperature         -0.089736      0.156829  0.085851   \n",
       "prevent exterior air enter    0.019115      0.260333  0.143287   \n",
       "control my speed              0.066804      0.207102  0.167471   \n",
       "disable speed alert          -0.032025      0.073983  0.198755   \n",
       "\n",
       "                            check voice mail messages  \n",
       "change fan speed                             0.271109  \n",
       "increase temperature                         0.079286  \n",
       "prevent exterior air enter                   0.359290  \n",
       "control my speed                             0.324617  \n",
       "disable speed alert                          0.378668  "
      ]
     },
     "execution_count": 22,
     "metadata": {},
     "output_type": "execute_result"
    }
   ],
   "source": [
    "goal_index = []\n",
    "for goal in test_set1:\n",
    "    goal_index.append(goal[1])\n",
    "\n",
    "sim_heatmap = pd.DataFrame(index=goal_index)\n",
    "\n",
    "for i, feat in enumerate(test_set1):\n",
    "    sim_features = []\n",
    "    for j, goal in enumerate(test_set1):\n",
    "        sim_features.append(tok_w2v.n_similarity(feat[0].split(), goal[1].split()) )\n",
    "    sim_heatmap[feat[0]] = sim_features\n",
    "sim_heatmap.head()"
   ]
  },
  {
   "cell_type": "code",
   "execution_count": 23,
   "metadata": {
    "collapsed": false
   },
   "outputs": [
    {
     "data": {
      "text/plain": [
       "<matplotlib.axes._subplots.AxesSubplot at 0x150e3af90>"
      ]
     },
     "execution_count": 23,
     "metadata": {},
     "output_type": "execute_result"
    },
    {
     "data": {
      "image/png": "[encoded data removed]",
      "text/plain": [
       "<matplotlib.figure.Figure at 0x150e31210>"
      ]
     },
     "metadata": {},
     "output_type": "display_data"
    }
   ],
   "source": [
    "# Plot similarity matrix as heatmap\n",
    "f, ax = plt.subplots(figsize=(6, 7))\n",
    "\n",
    "# Draw the heatmap \n",
    "sns.heatmap(sim_heatmap,cmap=\"YlGnBu\",\n",
    "            robust=True,#annot=True,\n",
    "            square=True, xticklabels=True, yticklabels=True,\n",
    "            linewidths=.5, cbar_kws={\"shrink\": .5}, ax=ax)"
   ]
  },
  {
   "cell_type": "markdown",
   "metadata": {},
   "source": [
    "## 4. Functionality to format any outline into nested dictionary for full analysis"
   ]
  },
  {
   "cell_type": "raw",
   "metadata": {
    "collapsed": false
   },
   "source": [
    "# translate new outline into nested dico\n",
    "\n",
    "guif = open(\"toy\", \"r\")\n",
    "\n",
    "next_indent=[]\n",
    "labels=[]\n",
    "temp=0\n",
    "\n",
    "for line in guif:\n",
    "    l_cleaned = line.rstrip()\n",
    "    r_cleaned = l_cleaned.lstrip()\n",
    "    labels.append(r_cleaned)\n",
    "    \n",
    "    num_tab = (len(l_cleaned) - len(r_cleaned)) #/3\n",
    "    prev_tab = num_tab - temp\n",
    "    temp = num_tab\n",
    "    \n",
    "    next_indent.append(prev_tab)\n",
    "    short_next_indent = next_indent[1:]\n",
    "\n",
    "short_next_indent.append('fin')\n",
    "print short_next_indent, '\\n'\n",
    "new = zip (labels,short_next_indent)\n",
    "#print new\n",
    "\n",
    "nested_dico = []\n",
    "for n in new:\n",
    "    if n[1] == 0:\n",
    "        nested_dico.append('\"'+ n[0] + '\": \"' + n[0] + '\"')\n",
    "    elif n[1] == 1:\n",
    "        nested_dico.append('\"'+ n[0] + '\":{')\n",
    "    elif n[1] == -1:\n",
    "        nested_dico.append('\"'+ n[0] + ': ' + '\"'+ n[0] + '\"}')\n",
    "    elif n[1] == -2:\n",
    "        nested_dico.append('\"'+ n[0] + '\": ' + '\"'+ n[0] + '\"}}')\n",
    "\n",
    "#print nested_dico, type(nested_dico) \n",
    "\n",
    "s = str(nested_dico)    \n",
    "s1=  s.replace(\"'\", '') \n",
    "s2= s1.replace(\"{,\", '{') \n",
    "s2"
   ]
  },
  {
   "cell_type": "code",
   "execution_count": 65,
   "metadata": {
    "collapsed": false
   },
   "outputs": [
    {
     "data": {
      "text/plain": [
       "'[\"food\":{ \"salad\": \"salad\", \"meat: \"meat\"}, \"drink\":{ \"coffee\":{ \"orga\": \"orga\", \"conventional\": \"conventional\"}}, \"misc\":{ \"call Ej\":{ \"give present\": \"give present\", \"book massage\":{ \"find groupon\": \"find groupon\", \"check agenda\": \"check agenda\"}}]'"
      ]
     },
     "execution_count": 65,
     "metadata": {},
     "output_type": "execute_result"
    }
   ],
   "source": [
    "# translate new outline into nested dico\n",
    "your_file = ''\n",
    "\n",
    "def outline2dico (your_file):\n",
    "    \n",
    "    guif = open(your_file, \"r\")\n",
    "\n",
    "    next_indent=[]\n",
    "    labels=[]\n",
    "    temp=0\n",
    "\n",
    "    for line in guif:\n",
    "        l_cleaned = line.rstrip()\n",
    "        r_cleaned = l_cleaned.lstrip()\n",
    "        labels.append(r_cleaned)\n",
    "\n",
    "        num_tab = (len(l_cleaned) - len(r_cleaned)) #/3\n",
    "        prev_tab = num_tab - temp\n",
    "        temp = num_tab\n",
    "\n",
    "        next_indent.append(prev_tab)\n",
    "        short_next_indent = next_indent[1:]\n",
    "\n",
    "    short_next_indent.append('fin')\n",
    "    #print short_next_indent, '\\n'\n",
    "    new = zip (labels,short_next_indent)\n",
    "    #print new\n",
    "\n",
    "    nested_dico = []\n",
    "    for n in new:\n",
    "        if n[1] == 0:\n",
    "            nested_dico.append('\"'+ n[0] + '\": \"' + n[0] + '\"')\n",
    "        elif n[1] == 1:\n",
    "            nested_dico.append('\"'+ n[0] + '\":{')\n",
    "        elif n[1] == -1:\n",
    "            nested_dico.append('\"'+ n[0] + ': ' + '\"'+ n[0] + '\"}')\n",
    "        elif n[1] == -2:\n",
    "            nested_dico.append('\"'+ n[0] + '\": ' + '\"'+ n[0] + '\"}}')\n",
    "\n",
    "    #print nested_dico, type(nested_dico) \n",
    "\n",
    "    s = str(nested_dico)    \n",
    "    s1=  s.replace(\"'\", '') \n",
    "    s2= s1.replace(\"{,\", '{') \n",
    "    return s2\n",
    "\n",
    "# checking things\n",
    "\n",
    "outline2dico ('gui_toy')"
   ]
  },
  {
   "cell_type": "code",
   "execution_count": 66,
   "metadata": {
    "collapsed": true
   },
   "outputs": [
    {
     "name": "stdout",
     "output_type": "stream",
     "text": [
      "   food\n",
      "      meat\n",
      "      salad\n",
      "   drink\n",
      "      coffee\n",
      "         conventional\n",
      "         organic\n",
      "   misc\n",
      "      call friend\n",
      "         give present\n",
      "         book massage\n",
      "            find spa\n",
      "            check agenda\n",
      "('meat', '', '', 2)\n",
      "('salad', '', '', 2)\n",
      "('conventional', '', '', 3)\n",
      "('organic', '', '', 3)\n",
      "('give present', '', '', 3)\n",
      "('find spa', '', '', 4)\n",
      "('check agenda', '', '', 4)\n"
     ]
    }
   ],
   "source": [
    "###Trying out new gui\n",
    "\n",
    "guiX = {\"food\":{\"salad\": \"salad\", \"meat\": \"meat\"}, \n",
    "        \"drink\":{ \"coffee\":{ \"organic\": \"organic\", \"conventional\": \"conventional\"}}, \n",
    "        \"misc\":{ \"call friend\":{ \"give present\": \"give present\", \n",
    "                            \"book massage\":{ \"find spa\": \"find spa\", \"check agenda\": \"check agenda\"}}}}\n",
    "\n",
    "recurse_dico_keys(guiX)\n",
    "\n",
    "test_set_inter = test_set(guiX)\n",
    "\n",
    "for t in test_set_inter:\n",
    "    print t"
   ]
  },
  {
   "cell_type": "code",
   "execution_count": 67,
   "metadata": {
    "collapsed": true
   },
   "outputs": [],
   "source": [
    "test_set2 = [('meat', 'cook chicken', 'basic', '2'),\n",
    "('salad', 'clean lettuce', 'basic', '2'),\n",
    "('give present', 'celebrate friend birthday', 'basic', '3'),\n",
    "('check agenda', 'lookup next availability', 'technical', '4'),\n",
    "('find spa', 'find beauty salon', 'technical', '4')]"
   ]
  },
  {
   "cell_type": "code",
   "execution_count": 71,
   "metadata": {
    "collapsed": false
   },
   "outputs": [
    {
     "name": "stdout",
     "output_type": "stream",
     "text": [
      "[2.0, 3.33, 6.0, 8.0, 17.0]    >> wordnet familiarity\n",
      "[1.0, 3.0, 3.0, 3.33, 6.0]    >> wordnet familiarity for NN pos only\n"
     ]
    }
   ],
   "source": [
    "def score_fam_wn (test_set):\n",
    "    wn_fam = []\n",
    "    for test in test_set:\n",
    "        tokenizer = RegexpTokenizer(r'\\w+')\n",
    "        toketxt = tokenizer.tokenize(test[1])\n",
    "        s = set(stopwords.words('english'))\n",
    "        filt_wrd = [w for w in toketxt if not w in s]\n",
    "        w_count = len(filt_wrd)\n",
    "        g_polys = 0\n",
    "\n",
    "        for word in filt_wrd:\n",
    "            w_polys = len(wn.synsets(word))\n",
    "            g_polys += w_polys\n",
    "\n",
    "        av_polys = float(g_polys)/float(w_count)\n",
    "        wn_fam.append(round(av_polys, 2))\n",
    "\n",
    "    print sorted(wn_fam), '   >> wordnet familiarity' \n",
    "    return wn_fam\n",
    "    \n",
    "def score_fam_wn_NN (test_set):\n",
    "    wn_fam_NN = []\n",
    "\n",
    "    for test in test_set: \n",
    "        filt_wrd = []\n",
    "        g = test[1]\n",
    "        for w, pos in tag(g): \n",
    "            if pos == \"NN\":\n",
    "                filt_wrd.append(w)\n",
    "        #print filt_wrd\n",
    "\n",
    "        w_count = len(filt_wrd)\n",
    "        g_polys = 0\n",
    "\n",
    "        for word in filt_wrd:\n",
    "            w_polys = len(wn.synsets(word))\n",
    "            g_polys += w_polys\n",
    "\n",
    "        av_polys = float(g_polys)/float(w_count)\n",
    "        wn_fam_NN.append(round(av_polys, 2))\n",
    "\n",
    "    print sorted(wn_fam_NN), '   >> wordnet familiarity for NN pos only'\n",
    "    return wn_fam_NN\n",
    "\n",
    "wn_fam = score_fam_wn (test_set2)\n",
    "wn_fam_NN = score_fam_wn_NN(test_set2)"
   ]
  },
  {
   "cell_type": "code",
   "execution_count": 60,
   "metadata": {
    "collapsed": false
   },
   "outputs": [
    {
     "name": "stdout",
     "output_type": "stream",
     "text": [
      "[('food', 0.50357901457607346), ('drink', 0.39989690020306368), ('misc', 0.017622462182509485)] \n",
      "\n",
      "[('food', 0.28522587), ('misc', 0.0), ('drink', -0.040114999)] \n",
      "\n",
      "[('food', 0.47801524), ('drink', 0.070031837), ('misc', 0.0)] \n",
      "\n"
     ]
    }
   ],
   "source": [
    "# Needs to know the model type (w2v, w2v_lem, latent, latent_lem)\n",
    "\n",
    "def sim_sort(state, model, goal, model_type):\n",
    "    sorted_sims = []\n",
    "    similaritiz = {}\n",
    "    goal_v = []\n",
    "    \n",
    "    # Word2Vec models\n",
    "    if (model_type == \"w2v\") or (model_type == \"w2v_lem\"):\n",
    "        \n",
    "        goal_v = goal.lower().split()\n",
    "        if model_type == \"w2v_lem\":\n",
    "            goal_v = utils.lemmatize(goal)\n",
    "\n",
    "        for label in state.keys():\n",
    "            k = label.split()\n",
    "            if model_type == \"w2v_lem\":\n",
    "                k = utils.lemmatize(label)\n",
    "            sim = model.n_similarity(k, goal_v)\n",
    "            similaritiz[label]=sim          #adding the similarity scores for any label\n",
    "\n",
    "    # LSI/LDA models\n",
    "    elif (model_type == \"latent\") or (model_type == \"latent_lem\"):\n",
    "        \n",
    "        goal_split = goal.lower().split()\n",
    "        goal_bow = mon_dico.doc2bow(goal_split)\n",
    "        if model_type == \"latent_lem\":\n",
    "            goal_bow = mon_dico_lem.doc2bow(utils.lemmatize(goal))\n",
    "        goal_v = model[goal_bow]\n",
    "        \n",
    "        ar = []\n",
    "        for label in state.keys():\n",
    "            k = label.split()\n",
    "            if model_type == \"latent_lem\":\n",
    "                k = utils.lemmatize(label)\n",
    "            ar.append(k)\n",
    "\n",
    "        state2index = [mon_dico.doc2bow(txt) for txt in ar]\n",
    "        if model_type == \"latent_lem\":\n",
    "            state2index = [mon_dico_lem.doc2bow(txt) for txt in ar]\n",
    "        index = similarities.MatrixSimilarity(model[state2index], num_features=29000)\n",
    "        indexed_scores = list(index[goal_v])\n",
    "        \n",
    "        for index, score in enumerate(indexed_scores):       #this could be replaced by zip()\n",
    "            label = state.keys()[index]\n",
    "            similaritiz[label] = score\n",
    "        \n",
    "    sorted_sims = sorted(similaritiz.items(), key=operator.itemgetter(1), reverse = True) \n",
    "    #print sorted_sims\n",
    "    return sorted_sims                              #returns a list of tuples i.e [(,), (,)]\n",
    "\n",
    "\n",
    "# Check output\n",
    "print sim_sort(guiX, tok_w2v, 'cook chicken', 'w2v'), \"\\n\"\n",
    "print sim_sort(guiX, lem_lsi, 'cook chicken', 'latent_lem'), \"\\n\"\n",
    "print sim_sort(guiX, tok_lsi, 'cook chicken', 'latent'), \"\\n\""
   ]
  },
  {
   "cell_type": "code",
   "execution_count": 69,
   "metadata": {
    "collapsed": false
   },
   "outputs": [
    {
     "data": {
      "text/plain": [
       "((True, 2), '\\n')"
      ]
     },
     "execution_count": 69,
     "metadata": {},
     "output_type": "execute_result"
    }
   ],
   "source": [
    "def new_intermediate_sniffer_metrics(gui, model, goal, target_feat, model_type, global_count = 0):\n",
    "    \n",
    "    state = sim_sort(gui, model, goal, model_type)    #returned content must be assigned to a variable\n",
    "    found_goal = False\n",
    "    for label, score in state:\n",
    "        global_count += 1\n",
    "        \n",
    "        if type(gui[label]) is dict:\n",
    "            found_goal, g_cnt = new_intermediate_sniffer_metrics(gui[label], model, goal, target_feat, model_type)\n",
    "            global_count += g_cnt\n",
    "            if found_goal:\n",
    "                return True, global_count\n",
    "    \n",
    "        elif gui[label] == target_feat:\n",
    "            return True, global_count\n",
    "\n",
    "    return False, global_count\n",
    "\n",
    "new_intermediate_sniffer_metrics(guiX, tok_w2v, 'cook chicken', 'meat' ,'w2v'), '\\n'"
   ]
  },
  {
   "cell_type": "code",
   "execution_count": 72,
   "metadata": {
    "collapsed": false
   },
   "outputs": [
    {
     "name": "stdout",
     "output_type": "stream",
     "text": [
      "[2, 3, 10, 5, 11]\n"
     ]
    },
    {
     "data": {
      "text/plain": [
       "[('meat', 'cook chicken', 2, '2', 'basic', 6.0, 6.0),\n",
       " ('salad', 'clean lettuce', 3, '2', 'basic', 17.0, 3.0),\n",
       " ('give present', 'celebrate friend birthday', 10, '3', 'basic', 3.33, 3.33),\n",
       " ('check agenda', 'lookup next availability', 5, '4', 'technical', 2.0, 1.0),\n",
       " ('find spa', 'find beauty salon', 11, '4', 'technical', 8.0, 3.0)]"
      ]
     },
     "execution_count": 72,
     "metadata": {},
     "output_type": "execute_result"
    }
   ],
   "source": [
    "def new_auto_test(gui, test_set, model, model_type):\n",
    "    test_metrics =[]\n",
    "    goal_l = []\n",
    "    target_l=[]\n",
    "    prescrit=[]\n",
    "    fam = []\n",
    "    for a, b, c, d in test_set:\n",
    "        goal_l.append(b)\n",
    "        target_l.append(a)\n",
    "        fam.append(c)\n",
    "        prescrit.append(d)\n",
    "        result = new_intermediate_sniffer_metrics(gui, model, b, a, model_type)\n",
    "        test_metrics.append(result[1])\n",
    "    print test_metrics\n",
    "    return zip(target_l, goal_l, test_metrics, prescrit, fam, wn_fam, wn_fam_NN)\n",
    "\n",
    "new_auto_test(guiX, test_set2, tok_w2v, 'w2v')"
   ]
  },
  {
   "cell_type": "code",
   "execution_count": 73,
   "metadata": {
    "collapsed": false
   },
   "outputs": [
    {
     "name": "stdout",
     "output_type": "stream",
     "text": [
      "[2, 3, 10, 5, 11]\n",
      "[2, 2, 10, 4, 11]\n",
      "[3, 2, 7, 5, 7]\n",
      "[2, 2, 10, 13, 12]\n",
      "[2, 2, 10, 7, 10]\n",
      "[2, 3, 10, 13, 12]\n"
     ]
    }
   ],
   "source": [
    "# testing test_set2 for guiX:\n",
    "\n",
    "xtok_w2v_test = new_auto_test(guiX, test_set2, tok_w2v, 'w2v')\n",
    "xlem_w2v_test = new_auto_test(guiX, test_set2, lem_w2v, 'w2v_lem')\n",
    "xtok_lsi_test = new_auto_test(guiX, test_set2, tok_lsi, 'latent')\n",
    "xtok_lda_test = new_auto_test(guiX, test_set2, tok_lda, 'latent')\n",
    "xlem_lsi_test = new_auto_test(guiX, test_set2, lem_lsi, 'latent_lem')\n",
    "xlem_lda_test = new_auto_test(guiX, test_set2, lem_lda, 'latent_lem')"
   ]
  },
  {
   "cell_type": "code",
   "execution_count": 74,
   "metadata": {
    "collapsed": false
   },
   "outputs": [
    {
     "data": {
      "text/html": [
       "<div>\n",
       "<table border=\"1\" class=\"dataframe\">\n",
       "  <thead>\n",
       "    <tr style=\"text-align: right;\">\n",
       "      <th></th>\n",
       "      <th>target_feat</th>\n",
       "      <th>goal</th>\n",
       "      <th>counts</th>\n",
       "      <th>prescrite</th>\n",
       "      <th>familiarity</th>\n",
       "      <th>wn_familiarity</th>\n",
       "      <th>wn_familiarity_NN</th>\n",
       "      <th>model</th>\n",
       "      <th>prepping</th>\n",
       "    </tr>\n",
       "  </thead>\n",
       "  <tbody>\n",
       "    <tr>\n",
       "      <th>0</th>\n",
       "      <td>meat</td>\n",
       "      <td>cook chicken</td>\n",
       "      <td>2</td>\n",
       "      <td>2</td>\n",
       "      <td>basic</td>\n",
       "      <td>6.00</td>\n",
       "      <td>6.00</td>\n",
       "      <td>word2vec</td>\n",
       "      <td>tokens</td>\n",
       "    </tr>\n",
       "    <tr>\n",
       "      <th>1</th>\n",
       "      <td>salad</td>\n",
       "      <td>clean lettuce</td>\n",
       "      <td>3</td>\n",
       "      <td>2</td>\n",
       "      <td>basic</td>\n",
       "      <td>17.00</td>\n",
       "      <td>3.00</td>\n",
       "      <td>word2vec</td>\n",
       "      <td>tokens</td>\n",
       "    </tr>\n",
       "    <tr>\n",
       "      <th>2</th>\n",
       "      <td>give present</td>\n",
       "      <td>celebrate friend birthday</td>\n",
       "      <td>10</td>\n",
       "      <td>3</td>\n",
       "      <td>basic</td>\n",
       "      <td>3.33</td>\n",
       "      <td>3.33</td>\n",
       "      <td>word2vec</td>\n",
       "      <td>tokens</td>\n",
       "    </tr>\n",
       "    <tr>\n",
       "      <th>3</th>\n",
       "      <td>check agenda</td>\n",
       "      <td>lookup next availability</td>\n",
       "      <td>5</td>\n",
       "      <td>4</td>\n",
       "      <td>technical</td>\n",
       "      <td>2.00</td>\n",
       "      <td>1.00</td>\n",
       "      <td>word2vec</td>\n",
       "      <td>tokens</td>\n",
       "    </tr>\n",
       "    <tr>\n",
       "      <th>4</th>\n",
       "      <td>find spa</td>\n",
       "      <td>find beauty salon</td>\n",
       "      <td>11</td>\n",
       "      <td>4</td>\n",
       "      <td>technical</td>\n",
       "      <td>8.00</td>\n",
       "      <td>3.00</td>\n",
       "      <td>word2vec</td>\n",
       "      <td>tokens</td>\n",
       "    </tr>\n",
       "  </tbody>\n",
       "</table>\n",
       "</div>"
      ],
      "text/plain": [
       "    target_feat                       goal  counts prescrite familiarity  \\\n",
       "0          meat               cook chicken       2         2       basic   \n",
       "1         salad              clean lettuce       3         2       basic   \n",
       "2  give present  celebrate friend birthday      10         3       basic   \n",
       "3  check agenda   lookup next availability       5         4   technical   \n",
       "4      find spa          find beauty salon      11         4   technical   \n",
       "\n",
       "   wn_familiarity  wn_familiarity_NN     model prepping  \n",
       "0            6.00               6.00  word2vec   tokens  \n",
       "1           17.00               3.00  word2vec   tokens  \n",
       "2            3.33               3.33  word2vec   tokens  \n",
       "3            2.00               1.00  word2vec   tokens  \n",
       "4            8.00               3.00  word2vec   tokens  "
      ]
     },
     "execution_count": 74,
     "metadata": {},
     "output_type": "execute_result"
    }
   ],
   "source": [
    "xdf_tok_w2v = pd.DataFrame(xtok_w2v_test)\n",
    "xdf_tok_w2v['model']='word2vec'\n",
    "xdf_tok_w2v['prepping']='tokens'\n",
    "\n",
    "xdf_lem_w2v = pd.DataFrame(xlem_w2v_test)\n",
    "xdf_lem_w2v['model']='word2vec'\n",
    "xdf_lem_w2v['prepping']='lemmas'\n",
    "\n",
    "xdf_tok_lsi = pd.DataFrame(xtok_lsi_test)\n",
    "xdf_tok_lsi['model']='lsi'\n",
    "xdf_tok_lsi['prepping']='tokens'\n",
    "\n",
    "xdf_tok_lda = pd.DataFrame(xtok_lda_test)\n",
    "xdf_tok_lda['model']='lda'\n",
    "xdf_tok_lda['prepping']='tokens'\n",
    "\n",
    "xdf_lem_lsi = pd.DataFrame(xlem_lsi_test)\n",
    "xdf_lem_lsi['model']='lsi'\n",
    "xdf_lem_lsi['prepping']='lemmas'\n",
    "\n",
    "xdf_lem_lda = pd.DataFrame(xlem_lda_test)\n",
    "xdf_lem_lda['model']='lda'\n",
    "xdf_lem_lda['prepping']='lemmas'\n",
    "\n",
    "xframes = [xdf_tok_w2v, xdf_lem_w2v, xdf_tok_lsi, xdf_tok_lda, xdf_lem_lsi, xdf_lem_lda]\n",
    "df_guiX=pd.concat(xframes)\n",
    "df_guiX.columns = ['target_feat','goal',  'counts','prescrite','familiarity','wn_familiarity','wn_familiarity_NN','model', 'prepping']\n",
    "\n",
    "df_guiX.head(5)"
   ]
  },
  {
   "cell_type": "code",
   "execution_count": 83,
   "metadata": {
    "collapsed": false
   },
   "outputs": [
    {
     "data": {
      "text/plain": [
       "<matplotlib.axes._subplots.AxesSubplot at 0x11894bc50>"
      ]
     },
     "execution_count": 83,
     "metadata": {},
     "output_type": "execute_result"
    },
    {
     "data": {
      "image/png": "[encoded data removed]",
      "text/plain": [
       "<matplotlib.figure.Figure at 0x1170afd10>"
      ]
     },
     "metadata": {},
     "output_type": "display_data"
    },
    {
     "data": {
      "image/png": "[encoded data removed]",
      "text/plain": [
       "<matplotlib.figure.Figure at 0x1173551d0>"
      ]
     },
     "metadata": {},
     "output_type": "display_data"
    },
    {
     "data": {
      "image/png": "[encoded data removed]",
      "text/plain": [
       "<matplotlib.figure.Figure at 0x1170afe50>"
      ]
     },
     "metadata": {},
     "output_type": "display_data"
    },
    {
     "data": {
      "image/png": "[encoded data removed]",
      "text/plain": [
       "<matplotlib.figure.Figure at 0x116bfa190>"
      ]
     },
     "metadata": {},
     "output_type": "display_data"
    }
   ],
   "source": [
    "df_guiX.boxplot(column = 'counts', by = 'model')\n",
    "df_guiX.boxplot(column = 'counts', by = 'prepping')\n",
    "df_guiX.boxplot(column = 'counts', by = 'familiarity')\n",
    "df_guiX.boxplot(column = 'counts', by = 'prescrite')"
   ]
  },
  {
   "cell_type": "code",
   "execution_count": 75,
   "metadata": {
    "collapsed": false
   },
   "outputs": [
    {
     "data": {
      "text/plain": [
       "<seaborn.axisgrid.FacetGrid at 0x13c53fcd0>"
      ]
     },
     "execution_count": 75,
     "metadata": {},
     "output_type": "execute_result"
    },
    {
     "data": {
      "image/png": "[encoded data removed]",
      "text/plain": [
       "<matplotlib.figure.Figure at 0x125898f50>"
      ]
     },
     "metadata": {},
     "output_type": "display_data"
    }
   ],
   "source": [
    "e = sns.factorplot(x=\"familiarity\", y=\"counts\", col = 'model', hue=\"prepping\",data=df_guiX,\n",
    "                   palette=\"YlGnBu_d\", size=5, aspect=.75)\n",
    "e.despine(left=True)"
   ]
  },
  {
   "cell_type": "markdown",
   "metadata": {},
   "source": [
    "## 5. Analysis flow"
   ]
  },
  {
   "cell_type": "code",
   "execution_count": 18,
   "metadata": {
    "collapsed": false
   },
   "outputs": [
    {
     "data": {
      "text/plain": [
       "'[\"home\":{ \"car\":{ \"air conditioning\":{ \"ventilation settings\": \"ventilation settings\", \"saccadic\": \"saccadic\", \"continious: \"continious\"}, \"filter settings\":{ \"recycle interior air\": \"recycle interior air\", \"charcoal mode\": \"charcoal mode\", \"pollen mode: \"pollen mode\"}, \"temperature settings\":{ \"display current temperature\": \"display current temperature\", \"hotter\": \"hotter\", \"colder: \"colder\"}, \"driving assistance\":{ \"cruise control\":{ \"activate\": \"activate\", \"turn off: \"turn off\"}, \"anti theft protection\":{ \"choose notification recipient\": \"choose notification recipient\", \"phone paring for tracking\": \"phone paring for tracking\", \"distant vehicle deactivation: \"distant vehicle deactivation\"}, \"lane change alert\":{ \"vibrate steering wheel\": \"vibrate steering wheel\", \"vibrate pedal\": \"vibrate pedal\", \"vibrate rearview mirrors: \"vibrate rearview mirrors\"}, \"gps\":{ \"check current coordinates\": \"check current coordinates\", \"enter destination\": \"enter destination\", \"recent destination\": \"recent destination\", \"entertainment\":{ \"gaming\":{ \"poker\": \"poker\", \"chess\": \"chess\", \"online apps: \"online apps\"}, \"television\":{ \"documentaries\": \"documentaries\", \"movies sorted by\":{ \"genre\": \"genre\", \"rating\": \"rating\", \"release date: \"release date\"}, \"tv series: \"tv series\"}, \"radio\":{ \"classic\": \"classic\", \"pop\": \"pop\", \"electronic\": \"electronic\"}}, \"phone\":{ \"contact lists\":{ \"family\": \"family\", \"work\": \"work\", \"emergency: \"emergency\"}, \"dial\": \"dial\", \"voice mail\":{ \"listen messages\": \"listen messages\", \"erase last message\": \"erase last message\", \"change greetings: \"change greetings\"}, \"pay bills: \"pay bills\"}, \"END: \"END\"}, \"\": \"\"]'"
      ]
     },
     "execution_count": 18,
     "metadata": {},
     "output_type": "execute_result"
    }
   ],
   "source": [
    "outline2dico('gui_5')"
   ]
  },
  {
   "cell_type": "code",
   "execution_count": 5,
   "metadata": {
    "collapsed": true
   },
   "outputs": [],
   "source": [
    "gui5 = {\"car\":{ \"air conditioning\":{ \"ventilation settings\": \"ventilation settings\",\"pulse\": \"pulse\", \"continuous\": \"continuous\"}, \n",
    "                                    \"filter settings\":{ \"recycle interior air\": \"recycle interior air\", \"charcoal mode\": \"charcoal mode\", \"pollen mode\": \"pollen mode\"}, \n",
    "                                    \"temperature settings\":{ \"display current temperature\": \"display current temperature\", \"hotter\": \"hotter\", \"colder\": \"colder\"}}, \n",
    "                \"driving assistance\":{ \"cruise control\":{ \"activate\": \"activate\", \"turn off\": \"turn off\"}, \n",
    "                                        \"anti theft protection\":{ \"choose notification recipient\": \"choose notification recipient\", \n",
    "                                        \"phone pairing tracking\": \"phone pairing tracking\", \"stop vehicle\": \"stop vehicle\"},\n",
    "                                        \"lane change alert\":{ \"vibrate steering wheel\": \"vibrate steering wheel\", \"vibrate pedal\": \"vibrate pedal\", \"vibrate rear view mirrors\": \"vibrate rear view mirrors\"},\n",
    "                                        \"gps\":{ \"check current coordinates\": \"check current coordinates\", \"enter destination\": \"enter destination\", \"recent destination\": \"recent destination\"}},\n",
    "                \"entertainment\":{ \"gaming\":{ \"poker\": \"poker\", \"chess\": \"chess\", \"online apps\": \"online apps\"},\n",
    "                                 \"television\":{ \"documentaries\": \"documentaries\", \"movies sorted\":{ \"genre\": \"genre\", \"rating\": \"rating\", \"release date\": \"release date\"}, \n",
    "                                                                \"tv series\": \"tv series\"},\n",
    "                                                                \"radio\":{ \"classic\": \"classic\", \"pop\": \"pop\", \"electronic\": \"electronic\"}},\n",
    "                        \"phone\":{ \"contact lists\":{ \"family\": \"family\", \"work\": \"work\", \"emergency\": \"emergency\"}, \"dial\": \"dial\", \"voice mail\":{ \"listen messages\": \"listen messages\", \n",
    "                                                                    \"erase last message\": \"erase last message\", \"change greetings\": \"change greetings\"}, \"pay bills\": \"pay bills\"}}"
   ]
  },
  {
   "cell_type": "markdown",
   "metadata": {},
   "source": [
    "***D3 representation (nested2d3(gui5)):***\n",
    "\n",
    "<img src=\"files/D3_gui5.png\" width=900 />\n"
   ]
  },
  {
   "cell_type": "code",
   "execution_count": 79,
   "metadata": {
    "collapsed": true
   },
   "outputs": [
    {
     "name": "stdout",
     "output_type": "stream",
     "text": [
      "   car\n",
      "      air conditioning\n",
      "         ventilation settings\n",
      "         saccadic\n",
      "         continious\n",
      "      filter settings\n",
      "         recycle interior air\n",
      "         pollen mode\n",
      "         charcoal mode\n",
      "      temperature settings\n",
      "         display current temperature\n",
      "         colder\n",
      "         hotter\n",
      "   driving assistance\n",
      "      cruise control\n",
      "         activate\n",
      "         turn off\n",
      "      anti theft protection\n",
      "         phone paring for tracking\n",
      "         distant vehicle deactivation\n",
      "         choose notification recipient\n",
      "      lane change alert\n",
      "         vibrate pedal\n",
      "         vibrate rearview mirrors\n",
      "         vibrate steering wheel\n",
      "      gps\n",
      "         recent destination\n",
      "         enter destination\n",
      "         check current coordinates\n",
      "   phone\n",
      "      pay bills\n",
      "      contact lists\n",
      "         work\n",
      "         emergency\n",
      "         family\n",
      "      dial\n",
      "      voice mail\n",
      "         change greetings\n",
      "         listen messages\n",
      "         erase last message\n",
      "   entertainment\n",
      "      gaming\n",
      "         online apps\n",
      "         poker\n",
      "         chess\n",
      "      television\n",
      "         tv series\n",
      "         movies sorted by\n",
      "            genre\n",
      "            rating\n",
      "            release date\n",
      "         documentaries\n",
      "      radio\n",
      "         electronic\n",
      "         pop\n",
      "         classic\n",
      "('ventilation settings', '', '', 3)\n",
      "('saccadic', '', '', 3)\n",
      "('continious', '', '', 3)\n",
      "('recycle interior air', '', '', 3)\n",
      "('pollen mode', '', '', 3)\n",
      "('charcoal mode', '', '', 3)\n",
      "('display current temperature', '', '', 3)\n",
      "('colder', '', '', 3)\n",
      "('hotter', '', '', 3)\n",
      "('activate', '', '', 3)\n",
      "('turn off', '', '', 3)\n",
      "('phone paring for tracking', '', '', 3)\n",
      "('distant vehicle deactivation', '', '', 3)\n",
      "('choose notification recipient', '', '', 3)\n",
      "('vibrate pedal', '', '', 3)\n",
      "('vibrate rearview mirrors', '', '', 3)\n",
      "('vibrate steering wheel', '', '', 3)\n",
      "('recent destination', '', '', 3)\n",
      "('enter destination', '', '', 3)\n",
      "('check current coordinates', '', '', 3)\n",
      "('pay bills', '', '', 2)\n",
      "('work', '', '', 3)\n",
      "('emergency', '', '', 3)\n",
      "('family', '', '', 3)\n",
      "('dial', '', '', 2)\n",
      "('change greetings', '', '', 3)\n",
      "('listen messages', '', '', 3)\n",
      "('erase last message', '', '', 3)\n",
      "('online apps', '', '', 3)\n",
      "('poker', '', '', 3)\n",
      "('chess', '', '', 3)\n",
      "('tv series', '', '', 3)\n",
      "('genre', '', '', 4)\n",
      "('rating', '', '', 4)\n",
      "('release date', '', '', 4)\n",
      "('documentaries', '', '', 3)\n",
      "('electronic', '', '', 3)\n",
      "('pop', '', '', 3)\n",
      "('classic', '', '', 3)\n"
     ]
    }
   ],
   "source": [
    "###Trying out new gui\n",
    "\n",
    "recurse_dico_keys(gui5)\n",
    "\n",
    "test_set_inter = test_set(gui5)\n",
    "\n",
    "for t in test_set_inter:\n",
    "    print t"
   ]
  },
  {
   "cell_type": "code",
   "execution_count": 132,
   "metadata": {
    "collapsed": false
   },
   "outputs": [],
   "source": [
    "test_set3 = [\n",
    "('hotter', 'increase temperature', 'basic', 3),\n",
    "('pollen mode', 'set ventilation against allergies', 'technical', 3),\n",
    "('choose notification recipient', 'call police if car stolen', 'technical', 3),\n",
    "('pay bills', 'phone plan', 'basic', 2),\n",
    "('change greetings', 'record new greeting message', 'basic', 3),\n",
    "('chess', 'invite friend play chess', 'technical', 3),\n",
    "('rating', 'list best movies', 'technical', 4),\n",
    "('release date', 'list most recent movies', 'basic', 4),\n",
    "('classic', 'mozart playlist', 'basic', 3)]"
   ]
  },
  {
   "cell_type": "code",
   "execution_count": 133,
   "metadata": {
    "collapsed": false
   },
   "outputs": [
    {
     "name": "stdout",
     "output_type": "stream",
     "text": [
      "[1.5, 3.67, 4.5, 5.5, 8.75, 12.75, 16.67, 17.0, 17.0]    >> wordnet familiarity\n",
      "[1.0, 4.5, 5.0, 5.5, 7.0, 7.0, 19.67, 23.0, 24.5]    >> wordnet familiarity for NN pos only\n"
     ]
    }
   ],
   "source": [
    "wn_fam = score_fam_wn (test_set3)\n",
    "wn_fam_NN = score_fam_wn_NN(test_set3)"
   ]
  },
  {
   "cell_type": "code",
   "execution_count": 134,
   "metadata": {
    "collapsed": true
   },
   "outputs": [
    {
     "name": "stdout",
     "output_type": "stream",
     "text": [
      "[('phone', 0.23648433162637389), ('driving assistance', 0.22552974909688811), ('car', 0.15201573767600157), ('entertainment', -0.015887073376660087)] \n",
      "\n",
      "[('phone', 0.19294831), ('driving assistance', 0.053816766), ('car', 0.0087312944), ('entertainment', -0.00058004539)] \n",
      "\n",
      "[('phone', 0.28467852), ('driving assistance', 0.052090496), ('car', -0.0022740178), ('entertainment', -0.035725854)] \n",
      "\n"
     ]
    }
   ],
   "source": [
    "print sim_sort(gui5, tok_w2v, 'call parents', 'w2v'), \"\\n\"\n",
    "print sim_sort(gui5, lem_lsi, 'call parents', 'latent_lem'), \"\\n\"\n",
    "print sim_sort(gui5, tok_lsi, 'call parents', 'latent'), \"\\n\""
   ]
  },
  {
   "cell_type": "code",
   "execution_count": 135,
   "metadata": {
    "collapsed": false
   },
   "outputs": [
    {
     "data": {
      "text/plain": [
       "((True, 2), '\\n')"
      ]
     },
     "execution_count": 135,
     "metadata": {},
     "output_type": "execute_result"
    }
   ],
   "source": [
    "new_intermediate_sniffer_metrics(gui5, tok_w2v, 'call parents', 'dial' ,'w2v'), '\\n'"
   ]
  },
  {
   "cell_type": "code",
   "execution_count": 136,
   "metadata": {
    "collapsed": false
   },
   "outputs": [
    {
     "name": "stdout",
     "output_type": "stream",
     "text": [
      "[21, 36, 17, 7, 5, 30, 6, 4, 21]\n",
      "[21, 39, 18, 11, 4, 3, 5, 4, 16]\n",
      "[35, 7, 17, 3, 38, 38, 6, 5, 54]\n",
      "[3, 8, 36, 2, 50, 16, 22, 23, 29]\n",
      "[31, 3, 18, 7, 6, 54, 12, 26, 45]\n",
      "[3, 8, 33, 2, 55, 16, 20, 25, 29]\n"
     ]
    }
   ],
   "source": [
    "ytok_w2v_test = new_auto_test(gui5, test_set3, tok_w2v, 'w2v')\n",
    "ylem_w2v_test = new_auto_test(gui5, test_set3, lem_w2v, 'w2v_lem')\n",
    "ytok_lsi_test = new_auto_test(gui5, test_set3, tok_lsi, 'latent')\n",
    "ytok_lda_test = new_auto_test(gui5, test_set3, tok_lda, 'latent')\n",
    "ylem_lsi_test = new_auto_test(gui5, test_set3, lem_lsi, 'latent_lem')\n",
    "ylem_lda_test = new_auto_test(gui5, test_set3, lem_lda, 'latent_lem')"
   ]
  },
  {
   "cell_type": "code",
   "execution_count": 137,
   "metadata": {
    "collapsed": false
   },
   "outputs": [
    {
     "data": {
      "text/html": [
       "<div>\n",
       "<table border=\"1\" class=\"dataframe\">\n",
       "  <thead>\n",
       "    <tr style=\"text-align: right;\">\n",
       "      <th></th>\n",
       "      <th>target_feat</th>\n",
       "      <th>goal</th>\n",
       "      <th>counts</th>\n",
       "      <th>prescrite</th>\n",
       "      <th>familiarity</th>\n",
       "      <th>wn_familiarity</th>\n",
       "      <th>wn_familiarity_NN</th>\n",
       "      <th>model</th>\n",
       "      <th>prepping</th>\n",
       "    </tr>\n",
       "  </thead>\n",
       "  <tbody>\n",
       "    <tr>\n",
       "      <th>0</th>\n",
       "      <td>hotter</td>\n",
       "      <td>increase temperature</td>\n",
       "      <td>21</td>\n",
       "      <td>3</td>\n",
       "      <td>basic</td>\n",
       "      <td>4.50</td>\n",
       "      <td>4.5</td>\n",
       "      <td>word2vec</td>\n",
       "      <td>tokens</td>\n",
       "    </tr>\n",
       "    <tr>\n",
       "      <th>1</th>\n",
       "      <td>pollen mode</td>\n",
       "      <td>set ventilation against allergies</td>\n",
       "      <td>36</td>\n",
       "      <td>3</td>\n",
       "      <td>technical</td>\n",
       "      <td>16.67</td>\n",
       "      <td>24.5</td>\n",
       "      <td>word2vec</td>\n",
       "      <td>tokens</td>\n",
       "    </tr>\n",
       "    <tr>\n",
       "      <th>2</th>\n",
       "      <td>choose notification recipient</td>\n",
       "      <td>call police if car stolen</td>\n",
       "      <td>17</td>\n",
       "      <td>3</td>\n",
       "      <td>technical</td>\n",
       "      <td>12.75</td>\n",
       "      <td>23.0</td>\n",
       "      <td>word2vec</td>\n",
       "      <td>tokens</td>\n",
       "    </tr>\n",
       "    <tr>\n",
       "      <th>3</th>\n",
       "      <td>pay bills</td>\n",
       "      <td>phone plan</td>\n",
       "      <td>7</td>\n",
       "      <td>2</td>\n",
       "      <td>basic</td>\n",
       "      <td>5.50</td>\n",
       "      <td>5.5</td>\n",
       "      <td>word2vec</td>\n",
       "      <td>tokens</td>\n",
       "    </tr>\n",
       "    <tr>\n",
       "      <th>4</th>\n",
       "      <td>change greetings</td>\n",
       "      <td>record new greeting message</td>\n",
       "      <td>5</td>\n",
       "      <td>3</td>\n",
       "      <td>basic</td>\n",
       "      <td>8.75</td>\n",
       "      <td>5.0</td>\n",
       "      <td>word2vec</td>\n",
       "      <td>tokens</td>\n",
       "    </tr>\n",
       "  </tbody>\n",
       "</table>\n",
       "</div>"
      ],
      "text/plain": [
       "                     target_feat                               goal  counts  \\\n",
       "0                         hotter               increase temperature      21   \n",
       "1                    pollen mode  set ventilation against allergies      36   \n",
       "2  choose notification recipient          call police if car stolen      17   \n",
       "3                      pay bills                         phone plan       7   \n",
       "4               change greetings        record new greeting message       5   \n",
       "\n",
       "   prescrite familiarity  wn_familiarity  wn_familiarity_NN     model prepping  \n",
       "0          3       basic            4.50                4.5  word2vec   tokens  \n",
       "1          3   technical           16.67               24.5  word2vec   tokens  \n",
       "2          3   technical           12.75               23.0  word2vec   tokens  \n",
       "3          2       basic            5.50                5.5  word2vec   tokens  \n",
       "4          3       basic            8.75                5.0  word2vec   tokens  "
      ]
     },
     "execution_count": 137,
     "metadata": {},
     "output_type": "execute_result"
    }
   ],
   "source": [
    "ydf_tok_w2v = pd.DataFrame(ytok_w2v_test)\n",
    "ydf_tok_w2v['model']='word2vec'\n",
    "ydf_tok_w2v['prepping']='tokens'\n",
    "\n",
    "ydf_lem_w2v = pd.DataFrame(ylem_w2v_test)\n",
    "ydf_lem_w2v['model']='word2vec'\n",
    "ydf_lem_w2v['prepping']='lemmas'\n",
    "\n",
    "ydf_tok_lsi = pd.DataFrame(ytok_lsi_test)\n",
    "ydf_tok_lsi['model']='lsi'\n",
    "ydf_tok_lsi['prepping']='tokens'\n",
    "\n",
    "ydf_tok_lda = pd.DataFrame(ytok_lda_test)\n",
    "ydf_tok_lda['model']='lda'\n",
    "ydf_tok_lda['prepping']='tokens'\n",
    "\n",
    "ydf_lem_lsi = pd.DataFrame(ylem_lsi_test)\n",
    "ydf_lem_lsi['model']='lsi'\n",
    "ydf_lem_lsi['prepping']='lemmas'\n",
    "\n",
    "ydf_lem_lda = pd.DataFrame(ylem_lda_test)\n",
    "ydf_lem_lda['model']='lda'\n",
    "ydf_lem_lda['prepping']='lemmas'\n",
    "\n",
    "yframes = [ydf_tok_w2v, ydf_lem_w2v, ydf_tok_lsi, ydf_tok_lda, ydf_lem_lsi, ydf_lem_lda]\n",
    "df_gui5=pd.concat(yframes)\n",
    "df_gui5.columns = ['target_feat','goal',  'counts','prescrite','familiarity','wn_familiarity','wn_familiarity_NN','model', 'prepping']\n",
    "\n",
    "df_gui5.head(5)"
   ]
  },
  {
   "cell_type": "code",
   "execution_count": 138,
   "metadata": {
    "collapsed": false
   },
   "outputs": [
    {
     "data": {
      "text/plain": [
       "<matplotlib.axes._subplots.AxesSubplot at 0x151e2bb10>"
      ]
     },
     "execution_count": 138,
     "metadata": {},
     "output_type": "execute_result"
    },
    {
     "data": {
      "image/png": "[encoded data removed]",
      "text/plain": [
       "<matplotlib.figure.Figure at 0x150f55210>"
      ]
     },
     "metadata": {},
     "output_type": "display_data"
    },
    {
     "data": {
      "image/png": "[encoded data removed]",
      "text/plain": [
       "<matplotlib.figure.Figure at 0x150f55190>"
      ]
     },
     "metadata": {},
     "output_type": "display_data"
    },
    {
     "data": {
      "image/png": "[encoded data removed]",
      "text/plain": [
       "<matplotlib.figure.Figure at 0x150f556d0>"
      ]
     },
     "metadata": {},
     "output_type": "display_data"
    },
    {
     "data": {
      "image/png": "[encoded data removed]",
      "text/plain": [
       "<matplotlib.figure.Figure at 0x150f4ccd0>"
      ]
     },
     "metadata": {},
     "output_type": "display_data"
    }
   ],
   "source": [
    "df_gui5.boxplot(column = 'counts', by = 'model')\n",
    "df_gui5.boxplot(column = 'counts', by = 'prepping')\n",
    "df_gui5.boxplot(column = 'counts', by = 'familiarity')\n",
    "df_gui5.boxplot(column = 'counts', by = 'prescrite')"
   ]
  },
  {
   "cell_type": "code",
   "execution_count": 139,
   "metadata": {
    "collapsed": false
   },
   "outputs": [
    {
     "data": {
      "text/plain": [
       "<seaborn.axisgrid.FacetGrid at 0x14f0ad550>"
      ]
     },
     "execution_count": 139,
     "metadata": {},
     "output_type": "execute_result"
    },
    {
     "data": {
      "image/png": "[encoded data removed]",
      "text/plain": [
       "<matplotlib.figure.Figure at 0x152050310>"
      ]
     },
     "metadata": {},
     "output_type": "display_data"
    }
   ],
   "source": [
    "e = sns.factorplot(x=\"familiarity\", y=\"counts\", col = 'model', hue=\"prepping\",data=df_gui5,\n",
    "                   palette=\"YlGnBu_d\", size=5, aspect=.75)\n",
    "e.despine(left=True)"
   ]
  },
  {
   "cell_type": "markdown",
   "metadata": {
    "collapsed": true
   },
   "source": [
    "## Next steps\n",
    "\n",
    "- test for normality, if negative revert to non-parametric test \n",
    "- tweak model parameters\n",
    "- compute similarity scores for entire path\n",
    "- ..."
   ]
  },
  {
   "cell_type": "code",
   "execution_count": null,
   "metadata": {
    "collapsed": true
   },
   "outputs": [],
   "source": []
  }
 ],
 "metadata": {
  "kernelspec": {
   "display_name": "Python 2",
   "language": "python",
   "name": "python2"
  },
  "language_info": {
   "codemirror_mode": {
    "name": "ipython",
    "version": 2
   },
   "file_extension": ".py",
   "mimetype": "text/x-python",
   "name": "python",
   "nbconvert_exporter": "python",
   "pygments_lexer": "ipython2",
   "version": "2.7.10"
  }
 },
 "nbformat": 4,
 "nbformat_minor": 0
}
