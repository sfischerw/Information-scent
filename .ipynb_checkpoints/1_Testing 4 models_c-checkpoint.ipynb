{
 "cells": [
  {
   "cell_type": "code",
   "execution_count": 1,
   "metadata": {
    "collapsed": false
   },
   "outputs": [
    {
     "name": "stdout",
     "output_type": "stream",
     "text": [
      "Populating the interactive namespace from numpy and matplotlib\n"
     ]
    }
   ],
   "source": [
    "%pylab inline\n",
    "\n",
    "import logging\n",
    "logging.basicConfig(format='%(asctime)s : %(levelname)s : %(message)s', level=logging.INFO) \n",
    "import pickle\n",
    "\n",
    "from gensim import corpora, models, similarities, utils\n",
    "\n",
    "import operator\n",
    "import pandas as pd\n",
    "import matplotlib.pyplot as plt\n",
    "import numpy as np\n",
    "\n",
    "from nltk.corpus import wordnet as wn\n",
    "from nltk.corpus import stopwords\n",
    "from nltk.tokenize import RegexpTokenizer"
   ]
  },
  {
   "cell_type": "markdown",
   "metadata": {},
   "source": [
    "# Materials\n",
    "## Candidate GUI IAs"
   ]
  },
  {
   "cell_type": "code",
   "execution_count": 2,
   "metadata": {
    "collapsed": false
   },
   "outputs": [
    {
     "name": "stdout",
     "output_type": "stream",
     "text": [
      "{'car': {'lane': 'lane change assistance', 'gps': 'gps', 'air': 'air conditioning'}, 'radio': 'play radio', 'phone': {'voice': 'check voice mail messages', 'dial': 'dial a number', 'contact': 'contact list'}} \n",
      "\n",
      "{'car': {'lane change assistance': 'lane change assistance', 'air conditioning': 'air conditioning', 'gps': 'gps'}, 'play radio': 'play radio', 'phone': {'contact list': 'contact list', 'dial number': 'dial number', 'check voice mail messages': 'check voice mail messages'}} \n",
      "\n",
      "{'car': {'air conditioning': 'air conditioning', 'driving assistance': {'cruise control': {'activate cruise control': 'activate cruise control', 'turn off cruise control': 'turn off cruise control'}, 'anti theft notification': 'anti theft notification', 'lane change alert': 'lane change alert', 'gps': 'gps'}}, 'play radio': 'play radio', 'phone': {'contact list': 'contact list', 'dial number': 'dial number', 'check voice mail messages': 'check voice mail messages'}}\n"
     ]
    }
   ],
   "source": [
    "# GUI information architectures (IAs) represented as nested dictionnaries\n",
    "\n",
    "gui1 = {\"car\":{\"air\" : \"air conditioning\",\"gps\" : \"gps\",\"lane\" :\"lane change assistance\"}, \"phone\":{\"dial\": \"dial a number\",\"contact\":\"contact list\",\"voice\":\"check voice mail messages\"}, \"radio\":\"play radio\"}\n",
    "print gui1, '\\n'\n",
    "\n",
    "gui2 = {\"car\":{\"air conditioning\" : \"air conditioning\",\"gps\" : \"gps\",\"lane change assistance\" :\"lane change assistance\"}, \"phone\":{\"dial number\": \"dial number\",\"contact list\":\"contact list\",\"check voice mail messages\":\"check voice mail messages\"}, \"play radio\":\"play radio\"}\n",
    "print gui2, '\\n'\n",
    "\n",
    "gui3 = {\"car\":{\"air conditioning\" : \"air conditioning\",\"driving assistance\" :{\"gps\":\"gps\",\"lane change alert\" :\"lane change alert\", \"cruise control\":{\"activate cruise control\":\"activate cruise control\", \"turn off cruise control\":\"turn off cruise control\"}, \"anti theft notification\" :\"anti theft notification\"}} , \"phone\":{\"dial number\": \"dial number\",\"contact list\":\"contact list\",\"check voice mail messages\":\"check voice mail messages\"}, \"play radio\":\"play radio\"}\n",
    "print gui3"
   ]
  },
  {
   "cell_type": "markdown",
   "metadata": {},
   "source": [
    "## Corpora\n",
    "Using the simple english wikipedia for a start ***\n",
    "\n",
    "Interesting alternatives would be full english wikipedia, ***, and word2vec's corpus ***\n",
    "\n",
    "## Models\n",
    "### LSA and LDA, both trained on corpus tokens"
   ]
  },
  {
   "cell_type": "code",
   "execution_count": 4,
   "metadata": {
    "collapsed": true
   },
   "outputs": [],
   "source": [
    "# Step 1: generate corpus from wikipedia dump"
   ]
  },
  {
   "cell_type": "markdown",
   "metadata": {},
   "source": [
    "With vectors.make_wiki script from gensim.utils, convert articles from a Wikipedia dump to (sparse): \n",
    "\n",
    "python -m gensim.scripts.make_wikicorpus ~/gensim/results/enwiki-latest-pages-articles.xml.bz2 ~/gensim/results/wiki_en\n",
    "\n",
    "- Input is a bz2-compressed dump of Wikipedia articles, in XML format.\n",
    "- Three output files:\n",
    "    - xxx_wordids.txt: mapping between words and their integer ids\n",
    "    - xxx_bow.mm: bag-of-words (word counts) representation, in Matrix Matrix format\n",
    "    - xxx_tfidf.mm: TF-IDF representation\n",
    "- Vocabulary size set at 100,000.\n",
    "- Can work with either tok (plain alphabetic tokenizer) vs lem (fancy lemmatization, with Pattern package installed, see\n",
    "https://github.com/clips/pattern).Tok mode only for now."
   ]
  },
  {
   "cell_type": "code",
   "execution_count": 3,
   "metadata": {
    "collapsed": false
   },
   "outputs": [
    {
     "ename": "IOError",
     "evalue": "[Errno 2] No such file or directory: 'en_wiki_tfidf.mm'",
     "output_type": "error",
     "traceback": [
      "\u001b[0;31m---------------------------------------------------------------------------\u001b[0m",
      "\u001b[0;31mIOError\u001b[0m                                   Traceback (most recent call last)",
      "\u001b[0;32m<ipython-input-3-0df2ac945846>\u001b[0m in \u001b[0;36m<module>\u001b[0;34m()\u001b[0m\n\u001b[1;32m      1\u001b[0m \u001b[0;31m#Step 2: build dictionary...\u001b[0m\u001b[0;34m\u001b[0m\u001b[0;34m\u001b[0m\u001b[0m\n\u001b[1;32m      2\u001b[0m \u001b[0;34m\u001b[0m\u001b[0m\n\u001b[0;32m----> 3\u001b[0;31m \u001b[0msimp_eng_wiki\u001b[0m \u001b[0;34m=\u001b[0m \u001b[0mcorpora\u001b[0m\u001b[0;34m.\u001b[0m\u001b[0mMmCorpus\u001b[0m\u001b[0;34m(\u001b[0m\u001b[0;34m'en_wiki_tfidf.mm'\u001b[0m\u001b[0;34m)\u001b[0m\u001b[0;34m\u001b[0m\u001b[0m\n\u001b[0m\u001b[1;32m      4\u001b[0m \u001b[0;34m\u001b[0m\u001b[0m\n\u001b[1;32m      5\u001b[0m \u001b[0mmon_dico\u001b[0m \u001b[0;34m=\u001b[0m \u001b[0mcorpora\u001b[0m\u001b[0;34m.\u001b[0m\u001b[0mDictionary\u001b[0m\u001b[0;34m.\u001b[0m\u001b[0mload_from_text\u001b[0m\u001b[0;34m(\u001b[0m\u001b[0;34m'en_wiki_wordids.txt'\u001b[0m\u001b[0;34m)\u001b[0m\u001b[0;34m\u001b[0m\u001b[0m\n",
      "\u001b[0;32m/Users/eric/miniconda/envs/py2/lib/python2.7/site-packages/gensim/corpora/mmcorpus.pyc\u001b[0m in \u001b[0;36m__init__\u001b[0;34m(self, fname)\u001b[0m\n\u001b[1;32m     27\u001b[0m         \u001b[0;31m# avoid calling super(), too confusing\u001b[0m\u001b[0;34m\u001b[0m\u001b[0;34m\u001b[0m\u001b[0m\n\u001b[1;32m     28\u001b[0m         \u001b[0mIndexedCorpus\u001b[0m\u001b[0;34m.\u001b[0m\u001b[0m__init__\u001b[0m\u001b[0;34m(\u001b[0m\u001b[0mself\u001b[0m\u001b[0;34m,\u001b[0m \u001b[0mfname\u001b[0m\u001b[0;34m)\u001b[0m\u001b[0;34m\u001b[0m\u001b[0m\n\u001b[0;32m---> 29\u001b[0;31m         \u001b[0mmatutils\u001b[0m\u001b[0;34m.\u001b[0m\u001b[0mMmReader\u001b[0m\u001b[0;34m.\u001b[0m\u001b[0m__init__\u001b[0m\u001b[0;34m(\u001b[0m\u001b[0mself\u001b[0m\u001b[0;34m,\u001b[0m \u001b[0mfname\u001b[0m\u001b[0;34m)\u001b[0m\u001b[0;34m\u001b[0m\u001b[0m\n\u001b[0m\u001b[1;32m     30\u001b[0m \u001b[0;34m\u001b[0m\u001b[0m\n\u001b[1;32m     31\u001b[0m     \u001b[0;32mdef\u001b[0m \u001b[0m__iter__\u001b[0m\u001b[0;34m(\u001b[0m\u001b[0mself\u001b[0m\u001b[0;34m)\u001b[0m\u001b[0;34m:\u001b[0m\u001b[0;34m\u001b[0m\u001b[0m\n",
      "\u001b[0;32m/Users/eric/miniconda/envs/py2/lib/python2.7/site-packages/gensim/matutils.pyc\u001b[0m in \u001b[0;36m__init__\u001b[0;34m(self, input, transposed)\u001b[0m\n\u001b[1;32m    580\u001b[0m         \u001b[0mlogger\u001b[0m\u001b[0;34m.\u001b[0m\u001b[0minfo\u001b[0m\u001b[0;34m(\u001b[0m\u001b[0;34m\"initializing corpus reader from %s\"\u001b[0m \u001b[0;34m%\u001b[0m \u001b[0minput\u001b[0m\u001b[0;34m)\u001b[0m\u001b[0;34m\u001b[0m\u001b[0m\n\u001b[1;32m    581\u001b[0m         \u001b[0mself\u001b[0m\u001b[0;34m.\u001b[0m\u001b[0minput\u001b[0m\u001b[0;34m,\u001b[0m \u001b[0mself\u001b[0m\u001b[0;34m.\u001b[0m\u001b[0mtransposed\u001b[0m \u001b[0;34m=\u001b[0m \u001b[0minput\u001b[0m\u001b[0;34m,\u001b[0m \u001b[0mtransposed\u001b[0m\u001b[0;34m\u001b[0m\u001b[0m\n\u001b[0;32m--> 582\u001b[0;31m         \u001b[0;32mwith\u001b[0m \u001b[0mutils\u001b[0m\u001b[0;34m.\u001b[0m\u001b[0mfile_or_filename\u001b[0m\u001b[0;34m(\u001b[0m\u001b[0mself\u001b[0m\u001b[0;34m.\u001b[0m\u001b[0minput\u001b[0m\u001b[0;34m)\u001b[0m \u001b[0;32mas\u001b[0m \u001b[0mlines\u001b[0m\u001b[0;34m:\u001b[0m\u001b[0;34m\u001b[0m\u001b[0m\n\u001b[0m\u001b[1;32m    583\u001b[0m             \u001b[0;32mtry\u001b[0m\u001b[0;34m:\u001b[0m\u001b[0;34m\u001b[0m\u001b[0m\n\u001b[1;32m    584\u001b[0m                 \u001b[0mheader\u001b[0m \u001b[0;34m=\u001b[0m \u001b[0mutils\u001b[0m\u001b[0;34m.\u001b[0m\u001b[0mto_unicode\u001b[0m\u001b[0;34m(\u001b[0m\u001b[0mnext\u001b[0m\u001b[0;34m(\u001b[0m\u001b[0mlines\u001b[0m\u001b[0;34m)\u001b[0m\u001b[0;34m)\u001b[0m\u001b[0;34m.\u001b[0m\u001b[0mstrip\u001b[0m\u001b[0;34m(\u001b[0m\u001b[0;34m)\u001b[0m\u001b[0;34m\u001b[0m\u001b[0m\n",
      "\u001b[0;32m/Users/eric/miniconda/envs/py2/lib/python2.7/contextlib.pyc\u001b[0m in \u001b[0;36m__enter__\u001b[0;34m(self)\u001b[0m\n\u001b[1;32m     15\u001b[0m     \u001b[0;32mdef\u001b[0m \u001b[0m__enter__\u001b[0m\u001b[0;34m(\u001b[0m\u001b[0mself\u001b[0m\u001b[0;34m)\u001b[0m\u001b[0;34m:\u001b[0m\u001b[0;34m\u001b[0m\u001b[0m\n\u001b[1;32m     16\u001b[0m         \u001b[0;32mtry\u001b[0m\u001b[0;34m:\u001b[0m\u001b[0;34m\u001b[0m\u001b[0m\n\u001b[0;32m---> 17\u001b[0;31m             \u001b[0;32mreturn\u001b[0m \u001b[0mself\u001b[0m\u001b[0;34m.\u001b[0m\u001b[0mgen\u001b[0m\u001b[0;34m.\u001b[0m\u001b[0mnext\u001b[0m\u001b[0;34m(\u001b[0m\u001b[0;34m)\u001b[0m\u001b[0;34m\u001b[0m\u001b[0m\n\u001b[0m\u001b[1;32m     18\u001b[0m         \u001b[0;32mexcept\u001b[0m \u001b[0mStopIteration\u001b[0m\u001b[0;34m:\u001b[0m\u001b[0;34m\u001b[0m\u001b[0m\n\u001b[1;32m     19\u001b[0m             \u001b[0;32mraise\u001b[0m \u001b[0mRuntimeError\u001b[0m\u001b[0;34m(\u001b[0m\u001b[0;34m\"generator didn't yield\"\u001b[0m\u001b[0;34m)\u001b[0m\u001b[0;34m\u001b[0m\u001b[0m\n",
      "\u001b[0;32m/Users/eric/miniconda/envs/py2/lib/python2.7/site-packages/gensim/utils.pyc\u001b[0m in \u001b[0;36mfile_or_filename\u001b[0;34m(input)\u001b[0m\n\u001b[1;32m    131\u001b[0m     \u001b[0;32mif\u001b[0m \u001b[0misinstance\u001b[0m\u001b[0;34m(\u001b[0m\u001b[0minput\u001b[0m\u001b[0;34m,\u001b[0m \u001b[0mstring_types\u001b[0m\u001b[0;34m)\u001b[0m\u001b[0;34m:\u001b[0m\u001b[0;34m\u001b[0m\u001b[0m\n\u001b[1;32m    132\u001b[0m         \u001b[0;31m# input was a filename: open as file\u001b[0m\u001b[0;34m\u001b[0m\u001b[0;34m\u001b[0m\u001b[0m\n\u001b[0;32m--> 133\u001b[0;31m         \u001b[0;32myield\u001b[0m \u001b[0msmart_open\u001b[0m\u001b[0;34m(\u001b[0m\u001b[0minput\u001b[0m\u001b[0;34m)\u001b[0m\u001b[0;34m\u001b[0m\u001b[0m\n\u001b[0m\u001b[1;32m    134\u001b[0m     \u001b[0;32melse\u001b[0m\u001b[0;34m:\u001b[0m\u001b[0;34m\u001b[0m\u001b[0m\n\u001b[1;32m    135\u001b[0m         \u001b[0;31m# input already a file-like object; just reset to the beginning\u001b[0m\u001b[0;34m\u001b[0m\u001b[0;34m\u001b[0m\u001b[0m\n",
      "\u001b[0;32m/Users/eric/miniconda/envs/py2/lib/python2.7/site-packages/gensim/utils.pyc\u001b[0m in \u001b[0;36msmart_open\u001b[0;34m(fname, mode)\u001b[0m\n\u001b[1;32m     73\u001b[0m             \u001b[0;32mfrom\u001b[0m \u001b[0mgzip\u001b[0m \u001b[0;32mimport\u001b[0m \u001b[0mGzipFile\u001b[0m\u001b[0;34m\u001b[0m\u001b[0m\n\u001b[1;32m     74\u001b[0m             \u001b[0;32mreturn\u001b[0m \u001b[0mmake_closing\u001b[0m\u001b[0;34m(\u001b[0m\u001b[0mGzipFile\u001b[0m\u001b[0;34m)\u001b[0m\u001b[0;34m(\u001b[0m\u001b[0mfname\u001b[0m\u001b[0;34m,\u001b[0m \u001b[0mmode\u001b[0m\u001b[0;34m)\u001b[0m\u001b[0;34m\u001b[0m\u001b[0m\n\u001b[0;32m---> 75\u001b[0;31m         \u001b[0;32mreturn\u001b[0m \u001b[0mopen\u001b[0m\u001b[0;34m(\u001b[0m\u001b[0mfname\u001b[0m\u001b[0;34m,\u001b[0m \u001b[0mmode\u001b[0m\u001b[0;34m)\u001b[0m\u001b[0;34m\u001b[0m\u001b[0m\n\u001b[0m\u001b[1;32m     76\u001b[0m \u001b[0;34m\u001b[0m\u001b[0m\n\u001b[1;32m     77\u001b[0m \u001b[0;34m\u001b[0m\u001b[0m\n",
      "\u001b[0;31mIOError\u001b[0m: [Errno 2] No such file or directory: 'en_wiki_tfidf.mm'"
     ]
    }
   ],
   "source": [
    "#Step 2: build dictionary... \n",
    "\n",
    "simp_eng_wiki = corpora.MmCorpus('en_wiki_tfidf.mm')\n",
    "\n",
    "mon_dico = corpora.Dictionary.load_from_text('en_wiki_wordids.txt')\n",
    "print 'My simple english wikipedia corpus has:', simp_eng_wiki\n",
    "print 'My dictionary has:', mon_dico, '\\n'"
   ]
  },
  {
   "cell_type": "code",
   "execution_count": 10,
   "metadata": {
    "collapsed": true
   },
   "outputs": [
    {
     "name": "stdout",
     "output_type": "stream",
     "text": [
      "My simple english wikipedia corpus has: MmCorpus(73898 documents, 29597 features, 6418219 non-zero entries)\n",
      "My dictionary has: Dictionary(29597 unique tokens: [u'fawn', u'schlegel', u'sonja', u'woods', u'spiders']...) \n",
      "\n",
      "My lsi topics are: [u'0.117*\"movie\" + 0.104*\"album\" + 0.096*\"actor\" + 0.093*\"league\" + 0.092*\"music\" + 0.086*\"english\" + 0.082*\"released\" + 0.082*\"war\" + 0.082*\"actress\" + 0.080*\"singer\"', u'-0.478*\"league\" + -0.251*\"football\" + -0.236*\"team\" + 0.219*\"album\" + -0.169*\"hockey\" + -0.155*\"club\" + -0.153*\"nhl\" + -0.150*\"played\" + -0.141*\"division\" + 0.140*\"song\"', u'-0.363*\"album\" + -0.229*\"band\" + -0.218*\"song\" + -0.211*\"released\" + -0.177*\"league\" + 0.153*\"river\" + -0.140*\"chart\" + -0.131*\"albums\" + -0.128*\"music\" + 0.120*\"county\"', u'-0.214*\"river\" + 0.210*\"actor\" + 0.189*\"movie\" + 0.179*\"actress\" + -0.153*\"county\" + 0.146*\"politician\" + 0.124*\"footballer\" + 0.121*\"writer\" + -0.118*\"league\" + 0.110*\"president\"', u'0.235*\"movie\" + -0.233*\"river\" + -0.230*\"county\" + -0.228*\"album\" + -0.145*\"band\" + 0.140*\"game\" + -0.121*\"district\" + -0.117*\"song\" + 0.115*\"series\" + -0.104*\"chart\"'] \n",
      "\n",
      "My lda topics are: [u'0.014*cantons + 0.012*swiss + 0.008*canton + 0.007*switzerland + 0.007*forest + 0.007*woodland + 0.005*cannes + 0.005*consultant + 0.005*roof + 0.004*house', u'0.058*medal + 0.018*gold + 0.017*won + 0.015*silver + 0.014*bronze + 0.009*erik + 0.008*congressional + 0.008*cyclist + 0.007*brady + 0.007*march', u'0.092*trade + 0.088*elder + 0.082*julia + 0.053*marcus + 0.052*armenia + 0.042*auxiliary + 0.038*replaced + 0.035*trading + 0.034*herb + 0.026*fruiting', u'0.083*turkish + 0.064*turkey + 0.063*istanbul + 0.033*armenian + 0.027*double + 0.026*refugees + 0.026*specimen + 0.020*protein + 0.018*relating + 0.018*enzyme', u'0.047*mining + 0.047*photo + 0.044*photography + 0.043*mine + 0.040*camera + 0.038*transferred + 0.034*photograph + 0.032*conversation + 0.032*coal + 0.031*mines'] \n",
      "\n",
      "1 loops, best of 1: 9min 35s per loop\n"
     ]
    }
   ],
   "source": [
    "#... and train lda and lsa models\n",
    "lsa = models.lsimodel.LsiModel(corpus=simp_eng_wiki, id2word=mon_dico, num_topics=450)\n",
    "print 'My lsa topics are:', lsa.print_topics(5), '\\n'\n",
    "#print 'My lsa debug is:', lsa.print_debug(num_topics=5, num_words=10), '\\n'\n",
    "\n",
    "lda = models.ldamodel.LdaModel(corpus=simp_eng_wiki, id2word=mon_dico, num_topics=450, update_every=1, chunksize=2000, passes=1)\n",
    "print 'My lda topics are:', lda.print_topics(5), '\\n'\n",
    "\n",
    "#pickle the models to disk\n",
    "pickle.dump (lsa, open('lsi_pickle.p', 'wb'))\n",
    "pickle.dump (lda, open('lda_pickle.p', 'wb'))"
   ]
  },
  {
   "cell_type": "markdown",
   "metadata": {},
   "source": [
    "### Word2vec, trained on either corpus tokens and lemmas"
   ]
  },
  {
   "cell_type": "code",
   "execution_count": 12,
   "metadata": {
    "collapsed": true
   },
   "outputs": [
    {
     "name": "stdout",
     "output_type": "stream",
     "text": [
      "Saved 10000 articles\n",
      "Saved 20000 articles\n",
      "Saved 30000 articles\n",
      "Saved 40000 articles\n",
      "Saved 50000 articles\n",
      "Saved 60000 articles\n",
      "Saved 70000 articles\n",
      "DONE\n",
      "Saved 73898 articles.\n",
      "Saved 10000 articles\n",
      "Saved 20000 articles\n",
      "Saved 30000 articles\n",
      "Saved 40000 articles\n",
      "Saved 50000 articles\n",
      "DONE\n",
      "Saved 59245 articles.\n",
      "1 loops, best of 1: 28min 43s per loop\n"
     ]
    }
   ],
   "source": [
    "%%timeit -n1 -r1\n",
    "\n",
    "#Step 1:generate two corpora from wiki dump\n",
    "\n",
    "simp_eng_wiki = 'simplewiki-20150901-pages-articles.xml.bz2' \n",
    "\n",
    "#Corpus of tokens\n",
    "wiki_tok = corpora.WikiCorpus(simp_eng_wiki, lemmatize=False, dictionary={})\n",
    "#create an output file to get the corpus into a list tokenized (preprocessed) articles (every line being a bow per article)\n",
    "outfile = 'wiki_tokens.txt'\n",
    "output = open(outfile, 'w')\n",
    "space = \" \"\n",
    "i = 0\n",
    "for text in wiki_tok.get_texts():\n",
    "    output.write(space.join(text) + \"\\n\")\n",
    "    i = i + 1\n",
    "    if (i % 10000 == 0):\n",
    "        print \"Saved \" + str(i) + \" articles\"\n",
    "output.close()\n",
    "print \"DONE\"\n",
    "print \"Saved \" + str(i) + \" articles.\"\n",
    "\n",
    "\n",
    "#Corpus of lemmas\n",
    "wiki_lemm = corpora.WikiCorpus(simp_eng_wiki, lemmatize=True, dictionary={})\n",
    "#create an output file to get the corpus into a list tokenized (preprocessed) articles (every line being a bow per article)\n",
    "outfile = 'wiki_lemmes.txt'\n",
    "output = open(outfile, 'w')\n",
    "space = \" \"\n",
    "i = 0\n",
    "for text in wiki_lemm.get_texts():\n",
    "    output.write(space.join(text) + \"\\n\")\n",
    "    i = i + 1\n",
    "    if (i % 10000 == 0):\n",
    "        print \"Saved \" + str(i) + \" articles\"\n",
    "output.close()\n",
    "print \"DONE\"\n",
    "print \"Saved \" + str(i) + \" articles.\""
   ]
  },
  {
   "cell_type": "code",
   "execution_count": 24,
   "metadata": {
    "collapsed": false
   },
   "outputs": [
    {
     "name": "stdout",
     "output_type": "stream",
     "text": [
      "<function <lambda> at 0x1080a78c0>\n"
     ]
    }
   ],
   "source": [
    "#Step 2: Create dictionary of tokens and filter corpus\n",
    "\n",
    "wiki_tok = word2vec.LineSentence('wiki_tokens.txt')\n",
    "id2word = corpora.Dictionary(wiki_tok)\n",
    "id2word.filter_extremes(keep_n=100000)                         # Restrict dico to 100k most common words.\n",
    "word2id = dict((word, id) for id, word in id2word.iteritems()) \n",
    "\n",
    "filter_text = lambda text: [word for word in text if word in word2id]  # Filter all wiki doc to contain only those 100k words.\n",
    "filtered_wiki_tok = lambda: (filter_text(text) for text in wiki_tok)  # generator\n",
    "print filtered_wiki_tok"
   ]
  },
  {
   "cell_type": "code",
   "execution_count": 125,
   "metadata": {
    "collapsed": false
   },
   "outputs": [
    {
     "name": "stdout",
     "output_type": "stream",
     "text": [
      "1 loops, best of 1: 1min 32s per loop\n"
     ]
    }
   ],
   "source": [
    "%%timeit -n1 -r1\n",
    "\n",
    "#Step 3: Train the model\n",
    "    \n",
    "model_word2vec_tok = word2vec.Word2Vec (size=100, window=10, sample=0.0001, workers=4) #***hange sample?\n",
    "model_word2vec_tok.build_vocab(filtered_wiki_tok())\n",
    "model_word2vec_tok.train(filtered_wiki_tok())\n",
    "\n",
    "# pickle entire model to disk\n",
    "model_word2vec_tok.save('word2vec_tok.model')\n",
    "# store the learned weights, in a format the original C tool understands\n",
    "model_word2vec_tok.save_word2vec_format('word2vec_tok.model.bin', binary=True)"
   ]
  },
  {
   "cell_type": "code",
   "execution_count": 29,
   "metadata": {
    "collapsed": false
   },
   "outputs": [
    {
     "name": "stdout",
     "output_type": "stream",
     "text": [
      "<function <lambda> at 0x1080a7140>\n",
      "1 loops, best of 1: 3min 7s per loop\n"
     ]
    }
   ],
   "source": [
    "%%timeit -n1 -r1\n",
    "\n",
    "#Repeat Steps 2 and 3 on lemmatized corpus\n",
    "\n",
    "wiki_lemm4 = word2vec.LineSentence('wiki_lemmes.txt')\n",
    "id2word = corpora.Dictionary(wiki_lemm4)\n",
    "id2word.filter_extremes(keep_n=100000)                         # Restrict dico to 100k most common words.\n",
    "word2id = dict((word, id) for id, word in id2word.iteritems()) \n",
    "\n",
    "filter_text = lambda text: [word for word in text if word in word2id]\n",
    "filtered_wiki_lemm4 = lambda: (filter_text(text) for text in wiki_lemm4)  # generator\n",
    "print filtered_wiki_lemm4\n",
    "\n",
    "model_word2vec_lem4 = word2vec.Word2Vec (size=400, window=10, sample=0.0001, workers=4)\n",
    "model_word2vec_lem4.build_vocab(filtered_wiki_lemm4())\n",
    "model_word2vec_lem4.train(filtered_wiki_lemm4())\n",
    "\n",
    "# pickle entire model to disk\n",
    "model_word2vec_lem4.save('word2vec_lem.model')\n",
    "# store weights\n",
    "model_word2vec_lem4.save_word2vec_format('word2vec_lem.model.bin', binary=True)"
   ]
  },
  {
   "cell_type": "markdown",
   "metadata": {},
   "source": [
    "##Candidate goal descriptions, target features, and technicality "
   ]
  },
  {
   "cell_type": "code",
   "execution_count": 4,
   "metadata": {
    "collapsed": false
   },
   "outputs": [
    {
     "data": {
      "text/plain": [
       "\"\\n ('air conditioning', 'turn ventilation off', 'basic'),\\n ('activate cruise control', 'prevent speeding ticket', 'basic'),\\n ('turn off cruise control', 'stop monitoring my speed', 'basic'),\\n ('anti theft notification', 'notify me if someone tries open my car', 'technical'),\\n ('lane change alert', 'send me alert when car gets my right', 'technical'),\\n ('gps', 'guide me towards nearest hospital', 'basic'),\\n ('play radio', 'change playlist', 'basic'),\\n ('contact list', 'save my contact number', 'basic'),\\n ('dial number', 'make phone call', 'basic'),\\n ('check voice mail messages', 'listen messages', 'basic')\""
      ]
     },
     "execution_count": 4,
     "metadata": {},
     "output_type": "execute_result"
    }
   ],
   "source": [
    "# Listing my test materials (guis, target_features, goals)\n",
    "test_set1 = [('air conditioning', 'increase temperature', 'basic'),\n",
    " ('activate cruise control', 'limit my speed', 'technical'),\n",
    " ('turn off cruise control', 'disable speed alert', 'technical'),\n",
    " ('anti theft notification', 'alert that my car stolen', 'technical'),\n",
    " ('lane change alert', 'disable car passing support system', 'technical'),\n",
    " ('gps', 'get directions office', 'technical'),\n",
    " ('play radio', 'listen beatles last album', 'basic'),\n",
    " ('contact list', 'retrieve my friend mailing address', 'basic'),\n",
    " ('dial number', 'call', 'basic'),\n",
    " ('check voice mail messages', 'go through recent phone messages', 'basic')]\n",
    "\n",
    "'''\n",
    " ('air conditioning', 'turn ventilation off', 'basic'),\n",
    " ('activate cruise control', 'prevent speeding ticket', 'basic'),\n",
    " ('turn off cruise control', 'stop monitoring my speed', 'basic'),\n",
    " ('anti theft notification', 'notify me if someone tries open my car', 'technical'),\n",
    " ('lane change alert', 'send me alert when car gets my right', 'technical'),\n",
    " ('gps', 'guide me towards nearest hospital', 'basic'),\n",
    " ('play radio', 'change playlist', 'basic'),\n",
    " ('contact list', 'save my contact number', 'basic'),\n",
    " ('dial number', 'make phone call', 'basic'),\n",
    " ('check voice mail messages', 'listen messages', 'basic')'''\n",
    "\n",
    "\n",
    "#gui_set = [gui1, gui2, gui3]"
   ]
  },
  {
   "cell_type": "code",
   "execution_count": 7,
   "metadata": {
    "collapsed": false
   },
   "outputs": [
    {
     "name": "stdout",
     "output_type": "stream",
     "text": [
      "[10.5, 9.666666666666666, 20.666666666666668, 2.0, 9.666666666666666, 1.0, 28.5, 9.0, 11.5, 15.75]\n"
     ]
    }
   ],
   "source": [
    "wn_fam = []\n",
    "\n",
    "for test in test_set1:    \n",
    "    tokenizer = RegexpTokenizer(r'\\w+')\n",
    "    toketxt = tokenizer.tokenize(test[0])\n",
    "    s = set(stopwords.words('english'))\n",
    "    filt_wrd = [w for w in toketxt if not w in s]\n",
    "    \n",
    "    w_count = len(filt_wrd)\n",
    "    g_polys = 0\n",
    "\n",
    "    for word in filt_wrd:\n",
    "        w_polys = len(wn.synsets(word))\n",
    "        g_polys += w_polys\n",
    "        #print word, w_polys, g_polys\n",
    "    #print'\\n'\n",
    "\n",
    "    av_polys = float(g_polys)/w_count\n",
    "    wn_fam.append(av_polys)\n",
    "\n",
    "print wn_fam"
   ]
  },
  {
   "cell_type": "markdown",
   "metadata": {},
   "source": [
    "#Sniffing algo"
   ]
  },
  {
   "cell_type": "markdown",
   "metadata": {},
   "source": [
    "##Similiarity check"
   ]
  },
  {
   "cell_type": "code",
   "execution_count": 8,
   "metadata": {
    "collapsed": false
   },
   "outputs": [],
   "source": [
    "tok = models.word2vec.Word2Vec.load(\"word2vec_tok.model\")\n",
    "lem = models.word2vec.Word2Vec.load(\"word2vec_lem.model\")\n",
    "lsi = pickle.load (open ('lsi_pickle.p', 'rb'))\n",
    "lda = pickle.load (open ('lda_pickle.p', 'rb'))"
   ]
  },
  {
   "cell_type": "code",
   "execution_count": 9,
   "metadata": {
    "collapsed": true
   },
   "outputs": [
    {
     "name": "stdout",
     "output_type": "stream",
     "text": [
      "[('lane change alert', 0.1619151005978888), ('cruise control', 0.080856142328035965), ('anti theft notification', 0.078032829638222348), ('gps', 0.013753066393634873)] \n",
      "\n",
      "[('phone', 0.3691433970522322), ('play radio', 0.26486206731878947), ('car', 0.12135593239510035)] \n",
      "\n",
      "[('phone', 0.2239331), ('play radio', 0.001433752), ('car', -0.066520825)] \n",
      "\n"
     ]
    },
    {
     "data": {
      "text/plain": [
       "'for k, v in gui3.items():\\n    print k, v, \"\\n\"'"
      ]
     },
     "execution_count": 9,
     "metadata": {},
     "output_type": "execute_result"
    }
   ],
   "source": [
    "def sim_sort(state, model, goal, model_type):\n",
    "    sorted_sims = []\n",
    "    similaritiz = {}\n",
    "    goal_v = []\n",
    "    \n",
    "    if (model_type == \"w2v\") or (model_type == \"w2v_lem\"):\n",
    "        \n",
    "        goal_v = goal.split()\n",
    "        if model_type == \"w2v_lem\":\n",
    "            goal_v = utils.lemmatize(goal)\n",
    "\n",
    "        for label in state.keys():\n",
    "            k = label.split()\n",
    "            if model_type == \"w2v_lem\":\n",
    "                k = utils.lemmatize(label)\n",
    "            sim = model.n_similarity(k, goal_v)\n",
    "            similaritiz[label]=sim          #adding the similarity scores for any label\n",
    "\n",
    "    elif (model_type == \"latent\") or (model_type == \"latent\"):\n",
    "        goal_bow = mon_dico.doc2bow(goal.lower().split())\n",
    "        goal_v = model[goal_bow]\n",
    "        \n",
    "        ar = []\n",
    "        for label in state.keys():\n",
    "            k = label.split()\n",
    "            ar.append(k)\n",
    "\n",
    "        state2index = [mon_dico.doc2bow(txt) for txt in ar]          \n",
    "        index = similarities.MatrixSimilarity(model[state2index], num_features=29000)\n",
    "        indexed_scores = list(index[goal_v])\n",
    "        \n",
    "        for index, score in enumerate(indexed_scores):       #this could be replaced by zip()\n",
    "            label = state.keys()[index]\n",
    "            similaritiz[label] = score\n",
    "        \n",
    "    sorted_sims = sorted(similaritiz.items(), key=operator.itemgetter(1), reverse = True) \n",
    "    #print sorted_sims\n",
    "    return sorted_sims                              #returns a list of tuples i.e [(,), (,)]\n",
    "\n",
    "print sim_sort(gui3['car']['driving assistance'], lem, 'call your parents', 'w2v_lem'), \"\\n\"\n",
    "print sim_sort(gui3, tok, 'call your parents', 'w2v'), \"\\n\"\n",
    "print sim_sort(gui3, lsi, 'call your parents', 'latent'), \"\\n\"\n",
    "'''for k, v in gui3.items():\n",
    "    print k, v, \"\\n\"'''"
   ]
  },
  {
   "cell_type": "code",
   "execution_count": 10,
   "metadata": {
    "collapsed": false
   },
   "outputs": [],
   "source": [
    "def intermediate_sniffer_metrics(gui, model, goal, target_feat, model_type, global_count = 0):\n",
    "    \n",
    "    state = sim_sort(gui, model, goal, model_type)    #returned content must be assigned to a variable\n",
    "    found_goal = False\n",
    "    print state\n",
    "    for label, score in state:\n",
    "        global_count += 1\n",
    "        \n",
    "        if type(gui[label]) is dict:\n",
    "            found_goal, g_cnt = intermediate_sniffer_metrics(gui[label], model, goal, target_feat, model_type)\n",
    "            global_count += g_cnt\n",
    "            if found_goal:\n",
    "                return True, global_count\n",
    "    \n",
    "        elif gui[label] == target_feat:\n",
    "            return True, global_count\n",
    "\n",
    "    return False, global_count\n",
    "\n",
    "#intermediate_sniffer_metrics(gui3, tok, 'cruise control', 'turn off cruise control', 'w2v'), '\\n'"
   ]
  },
  {
   "cell_type": "code",
   "execution_count": 11,
   "metadata": {
    "collapsed": true
   },
   "outputs": [
    {
     "name": "stdout",
     "output_type": "stream",
     "text": [
      "[('car', 0.06040365719597976), ('phone', 0.059633878587636024), ('play radio', -0.031298180547225343)]\n",
      "[('air conditioning', 0.39474998511086068), ('driving assistance', 0.16738818702558936)]\n",
      "[('car', 0.25103159658032187), ('phone', 0.24044764629702151), ('play radio', 0.22504458872473534)]\n",
      "[('air conditioning', 0.35642804939525352), ('driving assistance', 0.27995589050432818)]\n",
      "[('lane change alert', 0.43477393653333696), ('cruise control', 0.2674637265590199), ('gps', 0.26732824057368038), ('anti theft notification', 0.13341384322481808)]\n",
      "[('turn off cruise control', 0.47669600453616889), ('activate cruise control', 0.27664932314763746)]\n",
      "[('phone', 0.39586504343904172), ('car', 0.34135056030231248), ('play radio', 0.1272002392623654)]\n",
      "[('check voice mail messages', 0.50389713929724456), ('dial number', 0.29302320870516679), ('contact list', 0.075382877082346561)]\n",
      "[('air conditioning', 0.49145409318925248), ('driving assistance', 0.45561373056915394)]\n",
      "[('lane change alert', 0.62569087111123067), ('gps', 0.48795501402605729), ('anti theft notification', 0.38257895855419399), ('cruise control', 0.27231336410789747)]\n",
      "[('activate cruise control', 0.48259003066205691), ('turn off cruise control', 0.43464880442964576)]\n",
      "[('car', 0.57737693391751987), ('phone', 0.49795168162463022), ('play radio', 0.24731619340217592)]\n",
      "[('driving assistance', 0.59007395505180482), ('air conditioning', 0.24786712331305683)]\n",
      "[('lane change alert', 0.63591538293824357), ('anti theft notification', 0.48305493711867542), ('cruise control', 0.35780952138924871), ('gps', 0.26831315374546161)]\n",
      "[('car', 0.52054186902450428), ('phone', 0.50560207075646846), ('play radio', 0.19380549998818866)]\n",
      "[('driving assistance', 0.52760755968238837), ('air conditioning', 0.44821571240859615)]\n",
      "[('gps', 0.53537548630618925), ('lane change alert', 0.49646750445672733), ('anti theft notification', 0.48035636626533512), ('cruise control', 0.40821286452700378)]\n",
      "[('phone', 0.29312358699791285), ('car', 0.25978133454185004), ('play radio', 0.20796574252798949)]\n",
      "[('contact list', 0.44760583296033185), ('dial number', 0.40867120541975288), ('check voice mail messages', 0.36034913601315499)]\n",
      "[('driving assistance', 0.4962468652395341), ('air conditioning', 0.16271472831506023)]\n",
      "[('lane change alert', 0.48306620855898824), ('cruise control', 0.36956359510297265), ('gps', 0.28095889086492709), ('anti theft notification', 0.25388336189374849)]\n",
      "[('turn off cruise control', 0.54481423802040418), ('activate cruise control', 0.40058128665094467)]\n",
      "[('play radio', 0.41847280294893868), ('phone', 0.25882717391723292), ('car', 0.10052195733468042)]\n",
      "[('phone', 0.58272939907702836), ('play radio', 0.35112519012025389), ('car', 0.12343433144610562)]\n",
      "[('check voice mail messages', 0.66243794495262853), ('dial number', 0.39685557048725278), ('contact list', 0.29093558708827322)]\n",
      "[('phone', 0.34401884373554747), ('play radio', 0.18344968662992145), ('car', 0.014057798524737396)]\n",
      "[('check voice mail messages', 0.40778395069374723), ('dial number', 0.31013902499871582), ('contact list', 0.29512975410888964)]\n",
      "[('phone', 0.83242600659319244), ('play radio', 0.42223009126593869), ('car', 0.27176267440719354)]\n",
      "[('check voice mail messages', 0.74486155646442209), ('dial number', 0.55268535084162851), ('contact list', 0.51092816409441166)]\n",
      "[('car', 0.034946546407571014), ('phone', 0.012374565542176152), ('play radio', -0.035865755368781498)]\n",
      "[('air conditioning', 0.26576745375148725), ('driving assistance', 0.096247878359669511)]\n",
      "[('car', 0.32378284950312242), ('phone', 0.15492832665696005), ('play radio', 0.082842542033931099)]\n",
      "[('driving assistance', 0.26840927666854841), ('air conditioning', 0.12435647255305959)]\n",
      "[('gps', 0.26662172592016442), ('lane change alert', 0.24016306612808988), ('cruise control', 0.1928928171197597), ('anti theft notification', 0.17410484297540066)]\n",
      "[('turn off cruise control', 0.27805758763526861), ('activate cruise control', 0.19236850356854501)]\n",
      "[('car', 0.27612073577595198), ('phone', 0.23350596747717475), ('play radio', 0.089667524722953112)]\n",
      "[('driving assistance', 0.42599111452479133), ('air conditioning', 0.25431226128853934)]\n",
      "[('lane change alert', 0.48950850119173972), ('gps', 0.41261645289725013), ('anti theft notification', 0.32113033369504596), ('cruise control', 0.19827737753306962)]\n",
      "[('activate cruise control', 0.35644895998734005), ('turn off cruise control', 0.30012805178691865)]\n",
      "[('car', 0.64946261269626926), ('phone', 0.28682850844941055), ('play radio', 0.10327628357857484)]\n",
      "[('driving assistance', 0.43745321274865001), ('air conditioning', 0.196139595941689)]\n",
      "[('lane change alert', 0.46841909438885104), ('anti theft notification', 0.38829953384720239), ('gps', 0.27096882787705878), ('cruise control', 0.24653010808828918)]\n",
      "[('car', 0.52990826048815276), ('phone', 0.3376937297171515), ('play radio', 0.15068039232737759)]\n",
      "[('driving assistance', 0.44152111421028806), ('air conditioning', 0.27508765379135425)]\n",
      "[('gps', 0.42796368844327459), ('lane change alert', 0.38294327738593104), ('anti theft notification', 0.32774980004908894), ('cruise control', 0.25096174860212506)]\n",
      "[('car', 0.16891225879180474), ('phone', 0.11706252066122406), ('play radio', 0.10600804431987926)]\n",
      "[('driving assistance', 0.3095784028261418), ('air conditioning', 0.11800279136484666)]\n",
      "[('lane change alert', 0.24477531994507362), ('cruise control', 0.18174127306574245), ('gps', 0.17289363867427049), ('anti theft notification', 0.096358458186908968)]\n",
      "[('turn off cruise control', 0.2673273210537952), ('activate cruise control', 0.20609932894655256)]\n",
      "[('play radio', 0.26117651354949356), ('phone', 0.10650852276044492), ('car', 0.066355452258405834)]\n",
      "[('phone', 0.35197917141852136), ('play radio', 0.16598476526695505), ('car', 0.032629566705133305)]\n",
      "[('check voice mail messages', 0.46320962357898177), ('contact list', 0.19142734530503458), ('dial number', 0.18387315888305727)]\n",
      "[('phone', 0.37255181319168629), ('play radio', 0.14674412273973433), ('car', 0.067580858663911725)]\n",
      "[('check voice mail messages', 0.27660924813420246), ('dial number', 0.17101355814619623), ('contact list', 0.16487891709330618)]\n",
      "[('phone', 0.79090824181575603), ('car', 0.22610965074747769), ('play radio', 0.19471731046101073)]\n",
      "[('check voice mail messages', 0.58645038173730812), ('dial number', 0.31150706177683191), ('contact list', 0.22808099190079745)]\n",
      "[('phone', -0.001892766), ('play radio', -0.010823789), ('car', -0.044736981)]\n",
      "[('contact list', 0.018630633), ('check voice mail messages', 0.0010736063), ('dial number', -0.011295793)]\n",
      "[('air conditioning', 0.076412871), ('driving assistance', -0.0018389067)]\n",
      "[('car', 0.060363442), ('play radio', 0.012902478), ('phone', -0.015053384)]\n",
      "[('driving assistance', 0.16044331), ('air conditioning', -0.024394616)]\n",
      "[('gps', 0.11437903), ('lane change alert', 0.082285315), ('anti theft notification', 0.045276009), ('cruise control', 0.00022804737)]\n",
      "[('turn off cruise control', 0.087931037), ('activate cruise control', 0.0063386485)]\n",
      "[('car', 0.045260701), ('phone', 0.043009095), ('play radio', 9.4487332e-05)]\n",
      "[('driving assistance', 0.17349644), ('air conditioning', -0.049558163)]\n",
      "[('gps', 0.28350437), ('lane change alert', 0.12006941), ('cruise control', 0.079486504), ('anti theft notification', 0.021040192)]\n",
      "[('turn off cruise control', 0.13542578), ('activate cruise control', 0.082617208)]\n",
      "[('car', 0.84403241), ('play radio', 0.0099629685), ('phone', -0.072431177)]\n",
      "[('driving assistance', 0.55342185), ('air conditioning', 0.0044467431)]\n",
      "[('anti theft notification', 0.091879666), ('gps', 0.055477019), ('lane change alert', 0.024556793), ('cruise control', -0.053050555)]\n",
      "[('car', 0.62670499), ('play radio', -0.0036670435), ('phone', -0.0049279481)]\n",
      "[('driving assistance', 0.40358895), ('air conditioning', -0.0096227489)]\n",
      "[('gps', 0.24739018), ('cruise control', 0.1846143), ('anti theft notification', 0.069160819), ('lane change alert', 0.017336654)]\n",
      "[('turn off cruise control', 0.2000289), ('activate cruise control', 0.19483596)]\n",
      "[('phone', 0.071353577), ('car', 0.011139284), ('play radio', -0.0048609804)]\n",
      "[('check voice mail messages', 0.047513463), ('contact list', 0.036353718), ('dial number', -0.022301452)]\n",
      "[('driving assistance', 0.11166111), ('air conditioning', 0.002787808)]\n",
      "[('gps', 0.096663237), ('cruise control', 0.035074182), ('anti theft notification', 0.022980709), ('lane change alert', 0.017425433)]\n",
      "[('phone', -0.0043477034), ('play radio', -0.008766681), ('car', -0.018574711)]\n",
      "[('check voice mail messages', 0.020480381), ('contact list', 0.019791707), ('dial number', 0.0075423494)]\n",
      "[('phone', 0.033450324), ('play radio', 0.026918795), ('car', 0.020679016)]\n",
      "[('check voice mail messages', 0.036841378), ('dial number', -0.0052692303), ('contact list', -0.021763381)]\n",
      "[('phone', 0.53943515), ('play radio', 0.060148306), ('car', -0.093570486)]\n",
      "[('dial number', 0.088388443), ('check voice mail messages', 0.084030263), ('contact list', -0.051135115)]\n",
      "[('phone', 0.47379398), ('play radio', 0.034530558), ('car', 0.01587815)]\n",
      "[('check voice mail messages', 0.093621522), ('dial number', 0.064197525), ('contact list', -0.020855349)]\n",
      "[('car', 0.0), ('play radio', 0.0), ('phone', 0.0)]\n",
      "[('air conditioning', 0.0), ('driving assistance', 0.0)]\n",
      "[('car', 0.0), ('play radio', 0.0), ('phone', 0.0)]\n",
      "[('air conditioning', 0.0), ('driving assistance', 0.0)]\n",
      "[('cruise control', 0.0), ('anti theft notification', 0.0), ('lane change alert', 0.0), ('gps', 0.0)]\n",
      "[('activate cruise control', 0.0), ('turn off cruise control', 0.0)]\n",
      "[('car', 0.0), ('play radio', 0.0), ('phone', 0.0)]\n",
      "[('air conditioning', 0.0), ('driving assistance', 0.0)]\n",
      "[('lane change alert', 0.31650844), ('cruise control', 0.0), ('anti theft notification', 0.0), ('gps', 0.0)]\n",
      "[('activate cruise control', 0.0), ('turn off cruise control', 0.0)]\n",
      "[('car', 0.5), ('play radio', 0.0), ('phone', 0.0)]\n",
      "[('air conditioning', 0.0), ('driving assistance', 0.0)]\n",
      "[('lane change alert', 0.22380526), ('cruise control', 0.0), ('anti theft notification', 0.0), ('gps', 0.0)]\n",
      "[('activate cruise control', 0.0), ('turn off cruise control', 0.0)]\n",
      "[('car', 0.40862083), ('play radio', 0.0), ('phone', 0.0)]\n",
      "[('air conditioning', 0.0), ('driving assistance', 0.0)]\n",
      "[('cruise control', 0.038779281), ('anti theft notification', 0.0), ('lane change alert', 0.0), ('gps', 0.0)]\n",
      "[('turn off cruise control', 0.33566219), ('activate cruise control', 0.0)]\n",
      "[('car', 0.0), ('play radio', 0.0), ('phone', 0.0)]\n",
      "[('air conditioning', 0.0), ('driving assistance', 0.0)]\n",
      "[('cruise control', 0.0), ('anti theft notification', 0.0), ('lane change alert', 0.0), ('gps', 0.0)]\n",
      "[('activate cruise control', 0.0), ('turn off cruise control', 0.0)]\n",
      "[('car', 0.0), ('play radio', 0.0), ('phone', 0.0)]\n",
      "[('air conditioning', 0.0), ('driving assistance', 0.0)]\n",
      "[('cruise control', 0.0), ('anti theft notification', 0.0), ('lane change alert', 0.0), ('gps', 0.0)]\n",
      "[('activate cruise control', 0.0), ('turn off cruise control', 0.0)]\n",
      "[('car', 0.0), ('play radio', 0.0), ('phone', 0.0)]\n",
      "[('air conditioning', 0.0), ('driving assistance', 0.0)]\n",
      "[('cruise control', 0.0), ('anti theft notification', 0.0), ('lane change alert', 0.0), ('gps', 0.0)]\n",
      "[('activate cruise control', 0.0), ('turn off cruise control', 0.0)]\n",
      "[('check voice mail messages', 0.37778473), ('contact list', 0.0), ('dial number', 0.0)]\n",
      "[('car', 0.0), ('play radio', 0.0), ('phone', 0.0)]\n",
      "[('air conditioning', 0.0), ('driving assistance', 0.0)]\n",
      "[('cruise control', 0.0), ('anti theft notification', 0.0), ('lane change alert', 0.0), ('gps', 0.0)]\n",
      "[('activate cruise control', 0.0), ('turn off cruise control', 0.0)]\n",
      "[('contact list', 0.0), ('dial number', 0.0), ('check voice mail messages', 0.0)]\n",
      "[('phone', 0.37226784), ('car', 0.0), ('play radio', 0.0)]\n",
      "[('check voice mail messages', 0.18601494), ('contact list', 0.0), ('dial number', 0.0)]\n"
     ]
    }
   ],
   "source": [
    "def auto_test(test_set, model, model_type):\n",
    "    test_metrics =[]\n",
    "    goal_l = []\n",
    "    target_l=[]\n",
    "    fam = []\n",
    "    for a,b, c in test_set:\n",
    "        goal_l.append(a)\n",
    "        target_l.append(b)\n",
    "        fam.append(c)\n",
    "        result = intermediate_sniffer_metrics(gui3, model, b, a , model_type)\n",
    "        test_metrics.append(result[1])\n",
    "    return zip(goal_l, target_l,test_metrics, fam, wn_fam)\n",
    "    \n",
    "tok_test = auto_test(test_set1, tok, 'w2v')\n",
    "lem_test = auto_test(test_set1, lem, 'w2v_lem')\n",
    "lsi_test = auto_test(test_set1, lsi, 'latent')\n",
    "lda_test = auto_test(test_set1, lda, 'latent')"
   ]
  },
  {
   "cell_type": "markdown",
   "metadata": {},
   "source": [
    "#Plots"
   ]
  },
  {
   "cell_type": "code",
   "execution_count": 12,
   "metadata": {
    "collapsed": false
   },
   "outputs": [
    {
     "data": {
      "text/html": [
       "<div>\n",
       "<table border=\"1\" class=\"dataframe\">\n",
       "  <thead>\n",
       "    <tr style=\"text-align: right;\">\n",
       "      <th></th>\n",
       "      <th>0</th>\n",
       "      <th>1</th>\n",
       "      <th>2</th>\n",
       "      <th>3</th>\n",
       "      <th>4</th>\n",
       "      <th>model</th>\n",
       "    </tr>\n",
       "  </thead>\n",
       "  <tbody>\n",
       "    <tr>\n",
       "      <th>0</th>\n",
       "      <td>air conditioning</td>\n",
       "      <td>increase temperature</td>\n",
       "      <td>2</td>\n",
       "      <td>basic</td>\n",
       "      <td>10</td>\n",
       "      <td>tok</td>\n",
       "    </tr>\n",
       "    <tr>\n",
       "      <th>1</th>\n",
       "      <td>activate cruise control</td>\n",
       "      <td>limit my speed</td>\n",
       "      <td>7</td>\n",
       "      <td>technical</td>\n",
       "      <td>9</td>\n",
       "      <td>tok</td>\n",
       "    </tr>\n",
       "    <tr>\n",
       "      <th>2</th>\n",
       "      <td>turn off cruise control</td>\n",
       "      <td>disable speed alert</td>\n",
       "      <td>13</td>\n",
       "      <td>technical</td>\n",
       "      <td>20</td>\n",
       "      <td>tok</td>\n",
       "    </tr>\n",
       "    <tr>\n",
       "      <th>3</th>\n",
       "      <td>anti theft notification</td>\n",
       "      <td>alert that my car stolen</td>\n",
       "      <td>4</td>\n",
       "      <td>technical</td>\n",
       "      <td>2</td>\n",
       "      <td>tok</td>\n",
       "    </tr>\n",
       "    <tr>\n",
       "      <th>4</th>\n",
       "      <td>lane change alert</td>\n",
       "      <td>disable car passing support system</td>\n",
       "      <td>4</td>\n",
       "      <td>technical</td>\n",
       "      <td>9</td>\n",
       "      <td>tok</td>\n",
       "    </tr>\n",
       "  </tbody>\n",
       "</table>\n",
       "</div>"
      ],
      "text/plain": [
       "                         0                                   1   2          3  \\\n",
       "0         air conditioning                increase temperature   2      basic   \n",
       "1  activate cruise control                      limit my speed   7  technical   \n",
       "2  turn off cruise control                 disable speed alert  13  technical   \n",
       "3  anti theft notification            alert that my car stolen   4  technical   \n",
       "4        lane change alert  disable car passing support system   4  technical   \n",
       "\n",
       "    4 model  \n",
       "0  10   tok  \n",
       "1   9   tok  \n",
       "2  20   tok  \n",
       "3   2   tok  \n",
       "4   9   tok  "
      ]
     },
     "execution_count": 12,
     "metadata": {},
     "output_type": "execute_result"
    }
   ],
   "source": [
    "df_tok = pd.DataFrame(tok_test)\n",
    "df_tok['model']='tok'\n",
    "\n",
    "df_lem = pd.DataFrame(lem_test)\n",
    "df_lem['model']='lem'\n",
    "\n",
    "df_lsi = pd.DataFrame(lsi_test)\n",
    "df_lsi['model']='lsi'\n",
    "\n",
    "df_lda = pd.DataFrame(lda_test)\n",
    "df_lda['model']='lda'\n",
    "\n",
    "frames = [df_tok, df_lem, df_lsi, df_lda]\n",
    "df_gui3=pd.concat(frames)\n",
    "df_gui3.head()"
   ]
  },
  {
   "cell_type": "code",
   "execution_count": 13,
   "metadata": {
    "collapsed": false
   },
   "outputs": [
    {
     "data": {
      "text/html": [
       "<div>\n",
       "<table border=\"1\" class=\"dataframe\">\n",
       "  <thead>\n",
       "    <tr style=\"text-align: right;\">\n",
       "      <th></th>\n",
       "      <th>target_feat</th>\n",
       "      <th>goal</th>\n",
       "      <th>counts</th>\n",
       "      <th>familiarity</th>\n",
       "      <th>wn_familiarity</th>\n",
       "      <th>model</th>\n",
       "    </tr>\n",
       "  </thead>\n",
       "  <tbody>\n",
       "    <tr>\n",
       "      <th>0</th>\n",
       "      <td>air conditioning</td>\n",
       "      <td>increase temperature</td>\n",
       "      <td>2</td>\n",
       "      <td>basic</td>\n",
       "      <td>10</td>\n",
       "      <td>tok</td>\n",
       "    </tr>\n",
       "    <tr>\n",
       "      <th>1</th>\n",
       "      <td>activate cruise control</td>\n",
       "      <td>limit my speed</td>\n",
       "      <td>7</td>\n",
       "      <td>technical</td>\n",
       "      <td>9</td>\n",
       "      <td>tok</td>\n",
       "    </tr>\n",
       "    <tr>\n",
       "      <th>2</th>\n",
       "      <td>turn off cruise control</td>\n",
       "      <td>disable speed alert</td>\n",
       "      <td>13</td>\n",
       "      <td>technical</td>\n",
       "      <td>20</td>\n",
       "      <td>tok</td>\n",
       "    </tr>\n",
       "    <tr>\n",
       "      <th>3</th>\n",
       "      <td>anti theft notification</td>\n",
       "      <td>alert that my car stolen</td>\n",
       "      <td>4</td>\n",
       "      <td>technical</td>\n",
       "      <td>2</td>\n",
       "      <td>tok</td>\n",
       "    </tr>\n",
       "    <tr>\n",
       "      <th>4</th>\n",
       "      <td>lane change alert</td>\n",
       "      <td>disable car passing support system</td>\n",
       "      <td>4</td>\n",
       "      <td>technical</td>\n",
       "      <td>9</td>\n",
       "      <td>tok</td>\n",
       "    </tr>\n",
       "  </tbody>\n",
       "</table>\n",
       "</div>"
      ],
      "text/plain": [
       "               target_feat                                goal  counts  \\\n",
       "0         air conditioning                increase temperature       2   \n",
       "1  activate cruise control                      limit my speed       7   \n",
       "2  turn off cruise control                 disable speed alert      13   \n",
       "3  anti theft notification            alert that my car stolen       4   \n",
       "4        lane change alert  disable car passing support system       4   \n",
       "\n",
       "  familiarity  wn_familiarity model  \n",
       "0       basic              10   tok  \n",
       "1   technical               9   tok  \n",
       "2   technical              20   tok  \n",
       "3   technical               2   tok  \n",
       "4   technical               9   tok  "
      ]
     },
     "execution_count": 13,
     "metadata": {},
     "output_type": "execute_result"
    }
   ],
   "source": [
    "df_tok.columns = ['target_feat','goal',  'counts', 'familiarity','wn_familiarity', 'model']\n",
    "df_lem.columns = ['target_feat','goal',  'counts', 'familiarity','wn_familiarity', 'model']\n",
    "df_lsi.columns = ['target_feat','goal',  'counts', 'familiarity','wn_familiarity', 'model']\n",
    "df_lda.columns = ['target_feat','goal',  'counts', 'familiarity','wn_familiarity', 'model']\n",
    "df_gui3.columns = ['target_feat','goal',  'counts','familiarity','wn_familiarity', 'model']\n",
    "df_gui3.head(5)"
   ]
  },
  {
   "cell_type": "code",
   "execution_count": 14,
   "metadata": {
    "collapsed": false
   },
   "outputs": [
    {
     "data": {
      "text/plain": [
       "<matplotlib.axes._subplots.AxesSubplot at 0x148a2a610>"
      ]
     },
     "execution_count": 14,
     "metadata": {},
     "output_type": "execute_result"
    },
    {
     "data": {
      "image/png": "[encoded data removed]",
      "text/plain": [
       "<matplotlib.figure.Figure at 0x10384ba50>"
      ]
     },
     "metadata": {},
     "output_type": "display_data"
    },
    {
     "data": {
      "image/png": "[encoded data removed]",
      "text/plain": [
       "<matplotlib.figure.Figure at 0x12a3bfd50>"
      ]
     },
     "metadata": {},
     "output_type": "display_data"
    }
   ],
   "source": [
    "df_gui3.boxplot(column = 'counts', by = 'familiarity')\n",
    "df_gui3.boxplot(column = 'counts', by = 'model')"
   ]
  },
  {
   "cell_type": "code",
   "execution_count": 49,
   "metadata": {
    "collapsed": false
   },
   "outputs": [
    {
     "data": {
      "text/plain": [
       "<matplotlib.axes._subplots.AxesSubplot at 0x114133210>"
      ]
     },
     "execution_count": 49,
     "metadata": {},
     "output_type": "execute_result"
    },
    {
     "data": {
      "image/png": "[encoded data removed]",
      "text/plain": [
       "<matplotlib.figure.Figure at 0x114025490>"
      ]
     },
     "metadata": {},
     "output_type": "display_data"
    }
   ],
   "source": [
    "df_gui3.plot(kind = 'scatter', x = 'wn_familiarity', y = 'counts')"
   ]
  },
  {
   "cell_type": "code",
   "execution_count": 48,
   "metadata": {
    "collapsed": false
   },
   "outputs": [
    {
     "name": "stdout",
     "output_type": "stream",
     "text": [
      "[1.0, 2.0, 9.0, 9.0, 9.0, 10.0, 11.0, 15.0, 20.0, 28.0]\n"
     ]
    }
   ],
   "source": [
    "print sorted(wn_fam)"
   ]
  },
  {
   "cell_type": "code",
   "execution_count": null,
   "metadata": {
    "collapsed": true
   },
   "outputs": [],
   "source": []
  }
 ],
 "metadata": {
  "kernelspec": {
   "display_name": "Python 2",
   "language": "python",
   "name": "python2"
  },
  "language_info": {
   "codemirror_mode": {
    "name": "ipython",
    "version": 2
   },
   "file_extension": ".py",
   "mimetype": "text/x-python",
   "name": "python",
   "nbconvert_exporter": "python",
   "pygments_lexer": "ipython2",
   "version": "2.7.10"
  }
 },
 "nbformat": 4,
 "nbformat_minor": 0
}
