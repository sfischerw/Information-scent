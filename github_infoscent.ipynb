{
 "cells": [
  {
   "cell_type": "markdown",
   "metadata": {},
   "source": [
    "# Infoscent\n",
    "\n",
    "This notebook **simulates** user exploration of graphical user interfaces (GUIs) through **semantic analysis of their menus and labels**. \n",
    "\n",
    "Users are assumed to navigate the menu architecture (aka **information architecture or IA**) of GUIs by **iteratively clicking on the feature label the most similar, semantically, to a goal**. While this \"means-end analysis\" strategy insures convergence to the goal, navigation errors occur, which practitioners (designers, information architects) typically assess during user tests. \n",
    "\n",
    "An alternative approach, called **infoscent**, is examined here that uses **semantic similarity models for predicting user navigation errors**. Previous infoscent tools (see [Cogtool IBM](http://researcher.watson.ibm.com/researcher/view_group.php?id=2238) aka [cognitive crash dummies](http://cogtool.com/publications/)) used Latent Sematic Analysis (LSA) language models for **simulating the similarity jusgments inherent to searching websites**.\n",
    "\n",
    "Here, infoscent is generalized to simulating the semantic exploration of GUI materials, and **the original LSA approach is compared to 2 alternative language models**:\n",
    "- **Latent Dirichlet Analysis (LDA)**\n",
    "- **Word Vector Representation (Word2Vec)**\n",
    "\n",
    "The 3 models (LSA, LDA, word2vec) are trained with plain English and lemmatized tokenizations."
   ]
  },
  {
   "cell_type": "code",
   "execution_count": 4,
   "metadata": {
    "collapsed": false
   },
   "outputs": [
    {
     "name": "stdout",
     "output_type": "stream",
     "text": [
      "Populating the interactive namespace from numpy and matplotlib\n"
     ]
    }
   ],
   "source": [
    "import pickle\n",
    "import operator\n",
    "\n",
    "import logging\n",
    "logging.basicConfig(format='%(asctime)s : %(levelname)s : %(message)s', level=logging.INFO) \n",
    "\n",
    "# Natural Language Processing modules\n",
    "from gensim import corpora, models, similarities, utils\n",
    "from pattern.en import tag, parse\n",
    "from nltk.corpus import wordnet as wn, stopwords\n",
    "from nltk.tokenize import RegexpTokenizer\n",
    "\n",
    "# Data/Visualization\n",
    "import pandas as pd\n",
    "import numpy as np\n",
    "import matplotlib.pyplot as plt\n",
    "import seaborn as sns\n",
    "\n",
    "# Statistics and Machine-learning modules\n",
    "import statsmodels.api as sm\n",
    "from statsmodels.formula.api import ols\n",
    "from sklearn import datasets, linear_model\n",
    "\n",
    "%pylab inline"
   ]
  },
  {
   "cell_type": "markdown",
   "metadata": {},
   "source": [
    "## 1. Materials"
   ]
  },
  {
   "cell_type": "markdown",
   "metadata": {},
   "source": [
    "### 1.1. GUI IA, target features, and goal descriptions\n",
    "\n",
    "In practice, a practitioner would specify the IA s/he wants to assess. The IA chosen in this notebook is that of a toy on-board computer.\n",
    "\n",
    "***IAs stored as nested dictionnaries:***"
   ]
  },
  {
   "cell_type": "code",
   "execution_count": 5,
   "metadata": {
    "collapsed": false
   },
   "outputs": [],
   "source": [
    "# GUI information architectures (IAs) represented as a nested dictionary\n",
    "gui3 = {\"car\":{\"air conditioning\" : \"air conditioning\",\n",
    "               \"driving assistance\" : {\"gps\": \"gps\", \n",
    "                                       \"lane change alert\" : \"lane change alert\", \n",
    "                                      \"cruise control\": {\"activate cruise control\":\"activate cruise control\", \n",
    "                                                         \"turn off cruise control\":\"turn off cruise control\"}, \n",
    "                                      \"anti theft notification\" :\"anti theft notification\"}}, \n",
    "        \"phone\": {\"dial number\": \"dial number\",\"contact list\": \"contact list\", \n",
    "                  \"check voice mail messages\":\"check voice mail messages\"}, \n",
    "        \"play radio\": \"play radio\"}"
   ]
  },
  {
   "cell_type": "markdown",
   "metadata": {},
   "source": [
    "***D3.js dendrogram representation of gui3 (also in [flask app](https://github.com/sfischerw/infoscent/blob/master/flask_gui/flask_gui.py)):***"
   ]
  },
  {
   "cell_type": "markdown",
   "metadata": {},
   "source": [
    "<img src= \"./files/gui3D3.png\" width=400/>"
   ]
  },
  {
   "cell_type": "markdown",
   "metadata": {},
   "source": [
    "**Getting the target features and goal descriptions ready to test an IA:**"
   ]
  },
  {
   "cell_type": "code",
   "execution_count": 6,
   "metadata": {
    "collapsed": true
   },
   "outputs": [
    {
     "data": {
      "text/plain": [
       "[('air conditioning', '', ''),\n",
       " ('activate cruise control', '', ''),\n",
       " ('turn off cruise control', '', ''),\n",
       " ('anti theft notification', '', ''),\n",
       " ('lane change alert', '', ''),\n",
       " ('gps', '', ''),\n",
       " ('play radio', '', ''),\n",
       " ('contact list', '', ''),\n",
       " ('dial number', '', ''),\n",
       " ('check voice mail messages', '', '')]"
      ]
     },
     "execution_count": 6,
     "metadata": {},
     "output_type": "execute_result"
    }
   ],
   "source": [
    "# Function crawling any GUI IA for 'target features.'\n",
    "\n",
    "def list_gui_target_features(gui, g_list = [], h_list = [], u_list = []):\n",
    "    for k in gui.keys():\n",
    "        if type(gui[k]) is str:\n",
    "            g_list.append(gui[k])\n",
    "            h_list.append('')\n",
    "            u_list.append('')\n",
    "        else:\n",
    "            list_gui_target_features(gui[k])                           \n",
    "    return zip (g_list, h_list, u_list)\n",
    "\n",
    "list_gui_target_features(gui3)"
   ]
  },
  {
   "cell_type": "markdown",
   "metadata": {},
   "source": [
    "In practice, the practitioner would specify **goal descriptions** of his/her IA's **target features** (viz. terminal values of the nested dictionnary/last nodes in dendrogram). The practitioner would also perform **subjective** annotations such as ** which target feature are basic and which are technical**.\n",
    "\n",
    "Target features, goal descriptions and technicality levels are formatted as ('target feature', 'goal description', 'technicality levels') and form the **test set** for a given IA.\n",
    "\n",
    "***Test sets stored as tuples:***"
   ]
  },
  {
   "cell_type": "code",
   "execution_count": 229,
   "metadata": {
    "collapsed": true
   },
   "outputs": [],
   "source": [
    "# Test set 1 (target_features, goals, level) for gui3\n",
    "\n",
    "test_set1 = [('air conditioning', 'increase temperature', 'basic'),\n",
    " ('activate cruise control', 'limit my speed', 'technical'),\n",
    " ('turn off cruise control', 'disable speed alert', 'technical'),\n",
    " ('anti theft notification', 'alert that my car stolen', 'technical'),\n",
    " ('lane change alert', 'disable car passing support system', 'technical'),\n",
    " ('gps', 'get directions office', 'technical'),\n",
    " ('play radio', 'listen beatles last album', 'basic'),\n",
    " ('contact list', 'retrieve my friend mailing address', 'basic'),\n",
    " ('dial number', 'call', 'basic'),\n",
    " ('check voice mail messages', 'go through recent phone messages', 'basic')]"
   ]
  },
  {
   "cell_type": "markdown",
   "metadata": {},
   "source": [
    "### 1.2. Technicality vs Familiarity\n",
    "\n",
    "Technicality was assigned subjectively. One may want to appraise such attributes more objectively. In wordnet, the relative familiarity of a phrase can be determined by its polysemy, i.e. **number of synsets (wordnet synonyms)**. See [reference](https://books.google.com/books?id=Rehu8OOzMIMC&pg=PA112&lpg=PA112&dq=WordNet+index+of+the+familiarity+of+each+word.&source=bl&ots=IqkeMkQRf5&sig=Te1Pkam6kuOOT7U224ogLdjUtGM&hl=en&sa=X&ved=0CB0Q6AEwAGoVChMIvsapi8aRyQIVSNpjCh0gywpX#v=onepage&q=WordNet%20index%20of%20the%20familiarity%20of%20each%20word.&f=false)."
   ]
  },
  {
   "cell_type": "code",
   "execution_count": 8,
   "metadata": {
    "collapsed": false
   },
   "outputs": [
    {
     "name": "stdout",
     "output_type": "stream",
     "text": [
      "[1.0, 2.0, 9.0, 9.67, 9.67, 10.5, 11.5, 15.75, 20.67, 28.5]\n"
     ]
    }
   ],
   "source": [
    "#Retrieve basic polysemy proxy from nltk's interface for wordnet\n",
    "\n",
    "wn_fam = []\n",
    "\n",
    "for test in test_set1:\n",
    "    tokenizer = RegexpTokenizer(r'\\w+')\n",
    "    toketxt = tokenizer.tokenize(test[0])\n",
    "    s = set(stopwords.words('english'))\n",
    "    filt_wrd = [w for w in toketxt if not w in s]\n",
    "    w_count = len(filt_wrd)\n",
    "    g_polys = 0\n",
    "\n",
    "    for word in filt_wrd:\n",
    "        w_polys = len(wn.synsets(word))\n",
    "        g_polys += w_polys\n",
    "\n",
    "    av_polys = float(g_polys)/float(w_count)\n",
    "    wn_fam.append(round(av_polys, 2))\n",
    "\n",
    "print sorted(wn_fam)"
   ]
  },
  {
   "cell_type": "code",
   "execution_count": 9,
   "metadata": {
    "collapsed": false
   },
   "outputs": [
    {
     "name": "stdout",
     "output_type": "stream",
     "text": [
      "[1.0, 2.0, 7.0, 10.5, 11.0, 12.0, 12.0, 17.0, 19.33, 28.5]\n"
     ]
    }
   ],
   "source": [
    "#Same, yet by only counting noun parts of speech, using Pattern\n",
    "\n",
    "wn_fam_NN = []\n",
    "\n",
    "for test in test_set1: \n",
    "    filt_wrd = []\n",
    "    g = test[0]\n",
    "    for w, pos in tag(g): \n",
    "        if pos == \"NN\":\n",
    "            filt_wrd.append(w)\n",
    "\n",
    "    w_count = len(filt_wrd)\n",
    "    g_polys = 0\n",
    "\n",
    "    for word in filt_wrd:\n",
    "        w_polys = len(wn.synsets(word))\n",
    "        g_polys += w_polys\n",
    "        \n",
    "    av_polys = float(g_polys)/float(w_count)\n",
    "    wn_fam_NN.append(round(av_polys, 2))\n",
    "\n",
    "print sorted(wn_fam_NN) "
   ]
  },
  {
   "cell_type": "code",
   "execution_count": 222,
   "metadata": {
    "collapsed": false
   },
   "outputs": [
    {
     "name": "stdout",
     "output_type": "stream",
     "text": [
      "['target_features' 'goals' 'steps' 'technicality_levels' 'wn_familiarity'\n",
      " 'wn_familiarity_NN' 'model' 'prepping']\n"
     ]
    },
    {
     "data": {
      "text/plain": [
       "<seaborn.axisgrid.FacetGrid at 0x12654fe90>"
      ]
     },
     "execution_count": 222,
     "metadata": {},
     "output_type": "execute_result"
    },
    {
     "data": {
      "image/png": "[encoded data removed]",
      "text/plain": [
       "<matplotlib.figure.Figure at 0x12b17e0d0>"
      ]
     },
     "metadata": {},
     "output_type": "display_data"
    }
   ],
   "source": [
    "# Check that subjective technicality and wordnet familiarity are fairly consistent\n",
    "\n",
    "sns.set(style=\"whitegrid\")\n",
    "print df_gui3.columns.values\n",
    "\n",
    "g = sns.factorplot(x=\"technicality_levels\", y=\"wn_familiarity_NN\", data=df_gui3,\n",
    "                   palette=\"YlGnBu_d\", size=5, aspect=.75)\n",
    "g.despine(left=True)"
   ]
  },
  {
   "cell_type": "markdown",
   "metadata": {},
   "source": [
    "The technicality annotation I gave to GUI3's goals seems indeed consistent with the familiarity (aka polysemy) of its target features."
   ]
  },
  {
   "cell_type": "markdown",
   "metadata": {},
   "source": [
    "### 1.2. Language models\n",
    "\n",
    "#### 1.2.1. Corpus\n",
    "\n",
    "Simple English Wikipedia corpus.\n",
    "File name: [simplewiki-20150901-pages-articles.xml.bz2](http://dumps.wikimedia.org/simplewiki/20150901/) (106.3 MB)\n",
    "\n",
    "***Input file must be a bz2-compressed dump of Wikipedia articles in XML format***\n",
    "\n",
    "\n",
    "Other interesting alternatives include:\n",
    "- The [UMBC WebBase corpus](http://ebiquity.umbc.edu/blogger/2013/05/01/umbc-webbase-corpus-of-3b-english-words/)\n",
    "- The college-level [TASA corpus](http://lsa.colorado.edu/spaces.html)"
   ]
  },
  {
   "cell_type": "markdown",
   "metadata": {},
   "source": [
    "#### 1.2.2. LSA and LDA models\n",
    "The following cells perform the following steps:\n",
    "- create dictionaries and tfidf representations for top 100K words\n",
    "- train lSA and LDA models\n",
    "\n",
    "***Dictionary mapping and tf-idf representation must be loaded for later similarity calculations to work***"
   ]
  },
  {
   "cell_type": "code",
   "execution_count": null,
   "metadata": {
    "collapsed": true
   },
   "outputs": [],
   "source": [
    "# Step 1: Create dictionnaries and tfidf representations"
   ]
  },
  {
   "cell_type": "markdown",
   "metadata": {},
   "source": [
    "**Script to run for plain english** [gensim.scripts.make_wiki](http://pydoc.net/Python/gensim/0.9.1/gensim.scripts.make_wiki/): \n",
    "    \n",
    "    python -m gensim.scripts.make_wikicorpus ./enwiki-latest-pages-articles.xml.bz2 ./results/wiki_en\n",
    "\n",
    "**Script to run for lemmatization** [script](http://pydoc.net/Python/gensim/0.9.1/gensim.scripts.make_wiki_lemma/):\n",
    "    \n",
    "    python -m gensim.scripts.make_wiki_lemma ./enwiki-latest-pages-articles.xml.bz2 ./results_lem/wiki_en\n",
    "    \n",
    "Three output files:\n",
    "\n",
    "- wiki_en_wordids.txt (mapping between words and their integer IDs)\n",
    "- wiki_en_bow.mm: bag-of-words (word count) representation, in Matrix Market format\n",
    "- wiki_en_tfidf.mm: TF-IDF representation\n",
    "\n",
    "**Vocabulary size set to 100,000 most frequent words** using plain alphabetic tokenizer. "
   ]
  },
  {
   "cell_type": "code",
   "execution_count": 11,
   "metadata": {
    "collapsed": false
   },
   "outputs": [
    {
     "name": "stdout",
     "output_type": "stream",
     "text": [
      "Tokenized corpus: MmCorpus(73898 documents, 29597 features, 6418219 non-zero entries)\n",
      "Dictionary(29597 unique tokens: [u'fawn', u'schlegel', u'sonja', u'woods', u'spiders']...) \n",
      "\n",
      "Lemmatized corpus: MmCorpus(59245 documents, 26640 features, 5275674 non-zero entries)\n",
      "Dictionary(26640 unique tokens: [u'adjust/VB', u'meteor/NN', u'certificate/NN', u'alcatraz/NN', u'removal/NN']...)\n"
     ]
    }
   ],
   "source": [
    "# Step 2: Load tf-idf representation and dictionary mapping...\n",
    "\n",
    "#for tokenized corpus\n",
    "wiki = corpora.MmCorpus('latent_tok_tfidf.mm')\n",
    "mon_dico = corpora.Dictionary.load_from_text('latent_tok_wordids.txt')\n",
    "\n",
    "#lemmatized corpus\n",
    "wiki_lem = corpora.MmCorpus('latent_lem_tfidf.mm')\n",
    "mon_dico_lem = corpora.Dictionary.load_from_text('latent_lem_wordids.txt')\n",
    "\n",
    "print \"Tokenized corpus:\", wiki\n",
    "print mon_dico, '\\n'\n",
    "print \"Lemmatized corpus:\", wiki_lem\n",
    "print mon_dico_lem"
   ]
  },
  {
   "cell_type": "code",
   "execution_count": 15,
   "metadata": {
    "collapsed": false
   },
   "outputs": [],
   "source": [
    "#Step 3 |OPTIONAL:  train LSA and LDA models\n",
    "\n",
    "#If either model has already been trained and pickled, training in this cell will be skipped. \n",
    "#cell does NOT load the pickle files. Only checks if they exist!\n",
    "\n",
    "#for tokenized corpus:\n",
    "try:\n",
    "    pickle.load(open('pickle_lsi.p', 'rb'))\n",
    "except:\n",
    "    print \"Pickle not found, training new LSA model... \\n\"\n",
    "    lsi = models.lsimodel.LsiModel(corpus=wiki, id2word=mon_dico, num_topics=450)\n",
    "    print 'Top LSA topics:', lsi.print_topics(5), '\\n'\n",
    "    pickle.dump(lsi, open('pickle_lsi.p', 'wb'))\n",
    "\n",
    "try:\n",
    "    pickle.load(open ('pickle_lda.p', 'rb'))\n",
    "except:\n",
    "    print \"Pickle not found, training new LDA model... \\n\"\n",
    "    lda = models.ldamodel.LdaModel(corpus=wiki, id2word=mon_dico, \n",
    "                                   num_topics=450, update_every=1, chunksize=2000, passes=1)\n",
    "    print 'Top LDA topics:', lda.print_topics(5), '\\n'\n",
    "    pickle.dump(lda, open('pickle_lda.p', 'wb'))\n",
    "    \n",
    "\n",
    "#for lemmatized corpus:\n",
    "try:\n",
    "    pickle.load(open('pickle_lsi_lem.p', 'rb'))\n",
    "except:\n",
    "    print \"Pickle not found, training new lemmatized LSA model... \\n\"\n",
    "    lsi_lem = models.lsimodel.LsiModel(corpus=wiki_lem, id2word=mon_dico_lem, num_topics=450)\n",
    "    print 'Top LSA topics:', lsi_lem.print_topics(5), '\\n'\n",
    "    pickle.dump(lsi_lem, open('pickle_lsi_lem.p', 'wb'))\n",
    "\n",
    "try:\n",
    "    pickle.load(open('pickle_lda_lem.p', 'rb'))\n",
    "except:\n",
    "    print \"Pickle not found, training new lemmatized LDA model... \\n\"\n",
    "    lda_lem = models.ldamodel.LdaModel(corpus=wiki_lem, id2word=mon_dico_lem, \n",
    "                                       num_topics=450, update_every=1, chunksize=2000, passes=1)\n",
    "    print 'Top LDA topics:', lda_lem.print_topics(5), '\\n'\n",
    "    pickle.dump(lda_lem, open('pickle_lda_lem.p', 'wb'))"
   ]
  },
  {
   "cell_type": "markdown",
   "metadata": {},
   "source": [
    "#### 1.2.3. Word2vec model\n",
    "The following cells perform the following steps:\n",
    "- create dictionaries\n",
    "- filter top 100K words\n",
    "- train word2vec models"
   ]
  },
  {
   "cell_type": "code",
   "execution_count": 19,
   "metadata": {
    "collapsed": false
   },
   "outputs": [
    {
     "name": "stdout",
     "output_type": "stream",
     "text": [
      "Tokenization DONE\n",
      "Saved 73898 articles.\n",
      "Lemmatization DONE\n",
      "Saved 59245 articles.\n"
     ]
    }
   ],
   "source": [
    "# Step 1: Prepare tokenized or lemmatized corpus from simple English Wikipedia\n",
    "wiki_w2v = 'simplewiki-20150901-pages-articles.xml.bz2' \n",
    "\n",
    "#for tokenized corpus\n",
    "wiki_w2v_tok = corpora.WikiCorpus(wiki_w2v, lemmatize=False, dictionary={})\n",
    "\n",
    "# Process each article, each line in output doc is BOW article\n",
    "outfile = 'wiki_w2v_tokens.txt'\n",
    "output = open(outfile, 'w')\n",
    "space = \" \"\n",
    "i = 0\n",
    "for text in wiki_w2v_tok.get_texts():\n",
    "    output.write(space.join(text) + \"\\n\")\n",
    "    i = i + 1\n",
    "output.close()\n",
    "print \"Tokenization DONE\"\n",
    "print \"Saved \" + str(i) + \" articles.\"\n",
    "\n",
    "#for lemmatized corpus\n",
    "wiki_w2v_lem = corpora.WikiCorpus(wiki_w2v, lemmatize=True, dictionary={})\n",
    "\n",
    "outfile = 'wiki_w2v_lemmes.txt'\n",
    "output = open(outfile, 'w')\n",
    "space = \" \"\n",
    "i = 0\n",
    "for text in wiki_w2v_lem.get_texts():\n",
    "    output.write(space.join(text) + \"\\n\")\n",
    "    i = i + 1\n",
    "output.close()\n",
    "print \"Lemmatization DONE\"\n",
    "print \"Saved \" + str(i) + \" articles.\""
   ]
  },
  {
   "cell_type": "code",
   "execution_count": null,
   "metadata": {
    "collapsed": true
   },
   "outputs": [],
   "source": [
    "#for tokenized corpus\n",
    "# Step 2: Create dictionary and filter the tokenized corpus\n",
    "\n",
    "wiki_w2v_tok = models.word2vec.LineSentence('wiki_w2v_tokens.txt')\n",
    "id2word = corpora.Dictionary(wiki_w2v_tok)\n",
    "id2word.filter_extremes(keep_n=100000)                 # Restrict dico to 100k most common words.\n",
    "word2id = dict((word, id) for id, word in id2word.iteritems()) \n",
    "\n",
    "filter_text = lambda text: [word for word in text if word in word2id]  # Filter all wiki doc to contain only those 100k words.\n",
    "filtered_wiki_tok = lambda: (filter_text(text) for text in wiki_w2v_tok)  # generator\n",
    "\n",
    "# Step 3: Train model\n",
    "model_w2v_tok = models.word2vec.Word2Vec (size=200, window=10, sample=0.0001, workers=4)\n",
    "model_w2v_tok.build_vocab(filtered_wiki_tok())\n",
    "model_w2v_tok.train(filtered_wiki_tok())\n",
    "\n",
    "# Pickle model to disk\n",
    "model_w2v_tok.save('word2vec_tok.model')\n",
    "\n",
    "# Store the learned weights, in a format the original C tool understands\n",
    "model_w2v_tok.save_word2vec_format('word2vec_tok.model.bin', binary=True)"
   ]
  },
  {
   "cell_type": "code",
   "execution_count": 141,
   "metadata": {
    "collapsed": false
   },
   "outputs": [
    {
     "name": "stdout",
     "output_type": "stream",
     "text": [
      "<function <lambda> at 0x12a9aacf8>\n"
     ]
    }
   ],
   "source": [
    "#for lemmatized corpus\n",
    "#Step 2: Create dictionary and filter the lemmatized corpus\n",
    "\n",
    "wiki_w2v_lem = models.word2vec.LineSentence('wiki_w2v_lemmes.txt')\n",
    "id2word = corpora.Dictionary(wiki_w2v_lem)\n",
    "id2word.filter_extremes(keep_n=100000)              # Restrict dico to 100k most common words.\n",
    "word2id = dict((word, id) for id, word in id2word.iteritems()) \n",
    "\n",
    "filter_text = lambda text: [word for word in text if word in word2id]\n",
    "filtered_wiki_w2v_lem = lambda: (filter_text(text) for text in wiki_w2v_lem)  # generator\n",
    "print filtered_wiki_w2v_lem\n",
    "\n",
    "# Step 3: Train lemmatized model\n",
    "\n",
    "model_w2v_lem = models.word2vec.Word2Vec (size=200, window=10, sample=0.0001, workers=4)\n",
    "model_w2v_lem.build_vocab(filtered_wiki_w2v_lem())\n",
    "model_w2v_lem.train(filtered_wiki_w2v_lem())\n",
    "\n",
    "# Pickle entire model to disk\n",
    "model_w2v_lem.save('word2vec_lem.model')\n",
    "\n",
    "# Store weights\n",
    "model_w2v_lem.save_word2vec_format('word2vec_lem.model.bin', binary=True)"
   ]
  },
  {
   "cell_type": "markdown",
   "metadata": {},
   "source": [
    "# 2. Load trained models"
   ]
  },
  {
   "cell_type": "code",
   "execution_count": 20,
   "metadata": {
    "collapsed": false
   },
   "outputs": [],
   "source": [
    "# Load model pickles\n",
    "tok_w2v = models.word2vec.Word2Vec.load(\"word2vec_tok.model\")\n",
    "lem_w2v = models.word2vec.Word2Vec.load(\"word2vec_lem.model\")\n",
    "tok_lsi = pickle.load (open ('pickle_lsi.p', 'rb'))\n",
    "tok_lda = pickle.load (open ('pickle_lda.p', 'rb'))\n",
    "lem_lsi = pickle.load (open ('pickle_lsi_lem.p', 'rb'))\n",
    "lem_lda = pickle.load (open ('pickle_lda_lem.p', 'rb'))"
   ]
  },
  {
   "cell_type": "markdown",
   "metadata": {},
   "source": [
    "# 3. Semantic \"sniffing\" algorithm\n",
    "\n",
    "The infoscent method is now applid to the GUI.\n",
    "The following function takes any state of a GUI, **calculates the similarity of each feature in that state with a goal, and returns the features as a list sorted by similarity**.\n"
   ]
  },
  {
   "cell_type": "code",
   "execution_count": 38,
   "metadata": {
    "collapsed": false
   },
   "outputs": [
    {
     "name": "stdout",
     "output_type": "stream",
     "text": [
      "State features'car vs phone vs play radio' for goal 'Call your parents': \n",
      "\n",
      "Model w2v token: [('phone', 0.318), ('play radio', 0.18), ('car', 0.151)] \n",
      "\n",
      "Model LSA token: [('phone', 0.205), ('play radio', -0.0), ('car', -0.018)] \n",
      "\n",
      "Model LSA lem: [('play radio', 0.028), ('car', -0.008), ('phone', -0.079)] \n",
      "\n"
     ]
    }
   ],
   "source": [
    "# Needs to know the model type (w2v, w2v_lem, latent, latent_lem)\n",
    "\n",
    "def sim_sort(state, model, goal, model_type):\n",
    "    sorted_sims = []\n",
    "    similaritiz = {}\n",
    "    goal_v = []\n",
    "    \n",
    "    # Word2Vec models\n",
    "    if (model_type == \"w2v\") or (model_type == \"w2v_lem\"):\n",
    "        \n",
    "        goal_v = goal.lower().split()\n",
    "        if model_type == \"w2v_lem\":\n",
    "            goal_v = utils.lemmatize(goal)\n",
    "\n",
    "        for label in state.keys():\n",
    "            k = label.split()\n",
    "            if model_type == \"w2v_lem\":\n",
    "                k = utils.lemmatize(label)\n",
    "            sim = round(model.n_similarity(k, goal_v), 3)\n",
    "            similaritiz[label]=sim          #adding the similarity scores for any feature label\n",
    "\n",
    "    # LSA/LDA models\n",
    "    elif (model_type == \"latent\") or (model_type == \"latent_lem\"):\n",
    "        \n",
    "        goal_split = goal.lower().split()\n",
    "        goal_bow = mon_dico.doc2bow(goal_split)\n",
    "        if model_type == \"latent_lem\":\n",
    "            goal_bow = mon_dico_lem.doc2bow(utils.lemmatize(goal))\n",
    "        goal_v = model[goal_bow]\n",
    "        \n",
    "        ar = []\n",
    "        for label in state.keys():\n",
    "            k = label.split()\n",
    "            if model_type == \"latent_lem\":\n",
    "                k = utils.lemmatize(label)\n",
    "            ar.append(k)\n",
    "\n",
    "        state2index = [mon_dico.doc2bow(txt) for txt in ar]\n",
    "        if model_type == \"latent_lem\":\n",
    "            state2index = [mon_dico_lem.doc2bow(txt) for txt in ar]\n",
    "        index = similarities.MatrixSimilarity(model[state2index], num_features=29000)\n",
    "        indexed_scores = list(index[goal_v])\n",
    "        \n",
    "        for index, score in enumerate(indexed_scores):   #this could be replaced by zip()\n",
    "            label = state.keys()[index]\n",
    "            similaritiz[label] = round (score, 3)\n",
    "        \n",
    "    sorted_sims = sorted(similaritiz.items(), key=operator.itemgetter(1), reverse = True) \n",
    "    #print sorted_sims\n",
    "    return sorted_sims                           #returns a list of tuples i.e [(,), (,)]\n",
    "\n",
    "\n",
    "# Check output\n",
    "print \"State features'car vs phone vs play radio' for goal 'Call your parents': \\n\"\n",
    "print \"Model w2v token:\", sim_sort(gui3, tok_w2v, 'call your parents', 'w2v'), \"\\n\"\n",
    "print \"Model LSA token:\",sim_sort(gui3, tok_lsi, 'call your parents', 'latent'), \"\\n\"\n",
    "print \"Model LSA lem:\",sim_sort(gui3, lem_lsi, 'call your parents', 'latent_lem'), \"\\n\""
   ]
  },
  {
   "cell_type": "markdown",
   "metadata": {},
   "source": [
    "**Now is the function that goes recursively down the IA, comparing semantic similarity of features in each state with the goal description and following the most familiar feature.** If the target feature attained is not the one given to the function, the sniffer tries the second most similar feature, or backs up if all terminal features have been exhausted.\n",
    "\n",
    "For any goal, the function computes **the total number of steps required to \"find\" the correct target feature**. \n",
    "\n",
    "***Results stored for every model type as tuples***"
   ]
  },
  {
   "cell_type": "code",
   "execution_count": 39,
   "metadata": {
    "collapsed": false
   },
   "outputs": [],
   "source": [
    "def intermediate_sniffer_metrics(gui, model, goal, target_feat, model_type, global_count = 0):\n",
    "    \n",
    "    state = sim_sort(gui, model, goal, model_type)    #returned content must be assigned to a variable\n",
    "    found_goal = False\n",
    "    #print state\n",
    "    for label, score in state:\n",
    "        global_count += 1\n",
    "        \n",
    "        if type(gui[label]) is dict:\n",
    "            found_goal, g_cnt = intermediate_sniffer_metrics(gui[label], model, goal, target_feat, model_type)\n",
    "            global_count += g_cnt\n",
    "            if found_goal:\n",
    "                return True, global_count\n",
    "    \n",
    "        elif gui[label] == target_feat:\n",
    "            return True, global_count\n",
    "\n",
    "    return False, global_count\n",
    "\n",
    "#intermediate_sniffer_metrics(gui3, tok, 'cruise control', 'turn off cruise control', 'w2v'), '\\n'"
   ]
  },
  {
   "cell_type": "markdown",
   "metadata": {},
   "source": [
    "## 4. Results\n",
    "### 4.1. Gathering data"
   ]
  },
  {
   "cell_type": "code",
   "execution_count": 40,
   "metadata": {
    "collapsed": false
   },
   "outputs": [],
   "source": [
    "def auto_test(test_set, model, model_type):\n",
    "    test_metrics =[]\n",
    "    goal_l = []\n",
    "    target_l=[]\n",
    "    fam = []\n",
    "    for a, b, c in test_set:\n",
    "        goal_l.append(a)\n",
    "        target_l.append(b)\n",
    "        fam.append(c)\n",
    "        result = intermediate_sniffer_metrics(gui3, model, b, a , model_type)\n",
    "        test_metrics.append(result[1])\n",
    "    return zip(goal_l, target_l,test_metrics, fam, wn_fam, wn_fam_NN)\n",
    "    \n",
    "tok_w2v_test = auto_test(test_set1, tok_w2v, 'w2v')\n",
    "lem_w2v_test = auto_test(test_set1, lem_w2v, 'w2v_lem')\n",
    "tok_lsi_test = auto_test(test_set1, tok_lsi, 'latent')\n",
    "tok_lda_test = auto_test(test_set1, tok_lda, 'latent')\n",
    "lem_lsi_test = auto_test(test_set1, lem_lsi, 'latent_lem')\n",
    "lem_lda_test = auto_test(test_set1, lem_lda, 'latent_lem')"
   ]
  },
  {
   "cell_type": "code",
   "execution_count": 213,
   "metadata": {
    "collapsed": false
   },
   "outputs": [
    {
     "data": {
      "text/html": [
       "<div>\n",
       "<table border=\"1\" class=\"dataframe\">\n",
       "  <thead>\n",
       "    <tr style=\"text-align: right;\">\n",
       "      <th></th>\n",
       "      <th>target_features</th>\n",
       "      <th>goals</th>\n",
       "      <th>steps</th>\n",
       "      <th>technicality_levels</th>\n",
       "      <th>wn_familiarity</th>\n",
       "      <th>wn_familiarity_NN</th>\n",
       "      <th>model</th>\n",
       "      <th>prepping</th>\n",
       "    </tr>\n",
       "  </thead>\n",
       "  <tbody>\n",
       "    <tr>\n",
       "      <th>0</th>\n",
       "      <td>air conditioning</td>\n",
       "      <td>increase temperature</td>\n",
       "      <td>2</td>\n",
       "      <td>basic</td>\n",
       "      <td>10.50</td>\n",
       "      <td>10.5</td>\n",
       "      <td>word2vec</td>\n",
       "      <td>tokens</td>\n",
       "    </tr>\n",
       "    <tr>\n",
       "      <th>1</th>\n",
       "      <td>activate cruise control</td>\n",
       "      <td>limit my speed</td>\n",
       "      <td>7</td>\n",
       "      <td>technical</td>\n",
       "      <td>9.67</td>\n",
       "      <td>12.0</td>\n",
       "      <td>word2vec</td>\n",
       "      <td>tokens</td>\n",
       "    </tr>\n",
       "    <tr>\n",
       "      <th>2</th>\n",
       "      <td>turn off cruise control</td>\n",
       "      <td>disable speed alert</td>\n",
       "      <td>9</td>\n",
       "      <td>technical</td>\n",
       "      <td>20.67</td>\n",
       "      <td>12.0</td>\n",
       "      <td>word2vec</td>\n",
       "      <td>tokens</td>\n",
       "    </tr>\n",
       "    <tr>\n",
       "      <th>3</th>\n",
       "      <td>anti theft notification</td>\n",
       "      <td>alert that my car stolen</td>\n",
       "      <td>4</td>\n",
       "      <td>technical</td>\n",
       "      <td>2.00</td>\n",
       "      <td>2.0</td>\n",
       "      <td>word2vec</td>\n",
       "      <td>tokens</td>\n",
       "    </tr>\n",
       "    <tr>\n",
       "      <th>4</th>\n",
       "      <td>lane change alert</td>\n",
       "      <td>disable car passing support system</td>\n",
       "      <td>8</td>\n",
       "      <td>technical</td>\n",
       "      <td>9.67</td>\n",
       "      <td>11.0</td>\n",
       "      <td>word2vec</td>\n",
       "      <td>tokens</td>\n",
       "    </tr>\n",
       "  </tbody>\n",
       "</table>\n",
       "</div>"
      ],
      "text/plain": [
       "           target_features                               goals  steps  \\\n",
       "0         air conditioning                increase temperature      2   \n",
       "1  activate cruise control                      limit my speed      7   \n",
       "2  turn off cruise control                 disable speed alert      9   \n",
       "3  anti theft notification            alert that my car stolen      4   \n",
       "4        lane change alert  disable car passing support system      8   \n",
       "\n",
       "  technicality_levels  wn_familiarity  wn_familiarity_NN     model prepping  \n",
       "0               basic           10.50               10.5  word2vec   tokens  \n",
       "1           technical            9.67               12.0  word2vec   tokens  \n",
       "2           technical           20.67               12.0  word2vec   tokens  \n",
       "3           technical            2.00                2.0  word2vec   tokens  \n",
       "4           technical            9.67               11.0  word2vec   tokens  "
      ]
     },
     "execution_count": 213,
     "metadata": {},
     "output_type": "execute_result"
    }
   ],
   "source": [
    "#Create Pandas dataframes for each model\n",
    "#Prepare columns for visualizations and model comparison\n",
    "\n",
    "df_tok_w2v = pd.DataFrame(tok_w2v_test)\n",
    "df_tok_w2v['model']='word2vec'\n",
    "df_tok_w2v['prepping']='tokens'\n",
    "\n",
    "df_lem_w2v = pd.DataFrame(lem_w2v_test)\n",
    "df_lem_w2v['model']='word2vec'\n",
    "df_lem_w2v['prepping']='lemmas'\n",
    "\n",
    "df_tok_lsi = pd.DataFrame(tok_lsi_test)\n",
    "df_tok_lsi['model']='lsa'\n",
    "df_tok_lsi['prepping']='tokens'\n",
    "\n",
    "df_tok_lda = pd.DataFrame(tok_lda_test)\n",
    "df_tok_lda['model']='lda'\n",
    "df_tok_lda['prepping']='tokens'\n",
    "\n",
    "df_lem_lsi = pd.DataFrame(lem_lsi_test)\n",
    "df_lem_lsi['model']='lsa'\n",
    "df_lem_lsi['prepping']='lemmas'\n",
    "\n",
    "df_lem_lda = pd.DataFrame(lem_lda_test)\n",
    "df_lem_lda['model']='lda'\n",
    "df_lem_lda['prepping']='lemmas'\n",
    "\n",
    "#Concatenate all models into a single dataframe.\n",
    "frames = [df_tok_w2v, df_lem_w2v, df_tok_lsi, df_tok_lda, df_lem_lsi, df_lem_lda]\n",
    "df_gui3=pd.concat(frames)\n",
    "df_gui3.columns = ['target_features','goals',  'steps','technicality_levels','wn_familiarity','wn_familiarity_NN','model', 'prepping']\n",
    "df_gui3.head(5)"
   ]
  },
  {
   "cell_type": "markdown",
   "metadata": {},
   "source": [
    "### 4.2. EDA for task steps as a function of model, prepping, and goal technicality"
   ]
  },
  {
   "cell_type": "code",
   "execution_count": 215,
   "metadata": {
    "collapsed": false
   },
   "outputs": [
    {
     "data": {
      "text/plain": [
       "<matplotlib.axes._subplots.AxesSubplot at 0x12b74e350>"
      ]
     },
     "execution_count": 215,
     "metadata": {},
     "output_type": "execute_result"
    },
    {
     "data": {
      "image/png": "[encoded data removed]",
      "text/plain": [
       "<matplotlib.figure.Figure at 0x125e8dc10>"
      ]
     },
     "metadata": {},
     "output_type": "display_data"
    },
    {
     "data": {
      "image/png": "[encoded data removed]",
      "text/plain": [
       "<matplotlib.figure.Figure at 0x12c8a3490>"
      ]
     },
     "metadata": {},
     "output_type": "display_data"
    },
    {
     "data": {
      "image/png": "[encoded data removed]",
      "text/plain": [
       "<matplotlib.figure.Figure at 0x12bd19990>"
      ]
     },
     "metadata": {},
     "output_type": "display_data"
    }
   ],
   "source": [
    "df_gui3.boxplot(column = 'steps', by = 'model')\n",
    "df_gui3.boxplot(column = 'steps', by = 'prepping')\n",
    "df_gui3.boxplot(column = 'steps', by = 'technicality_levels')"
   ]
  },
  {
   "cell_type": "markdown",
   "metadata": {},
   "source": [
    "### 4.3. Model performance"
   ]
  },
  {
   "cell_type": "code",
   "execution_count": 216,
   "metadata": {
    "collapsed": false
   },
   "outputs": [
    {
     "data": {
      "text/plain": [
       "<seaborn.axisgrid.FacetGrid at 0x11f67a3d0>"
      ]
     },
     "execution_count": 216,
     "metadata": {},
     "output_type": "execute_result"
    },
    {
     "data": {
      "image/png": "[encoded data removed]",
      "text/plain": [
       "<matplotlib.figure.Figure at 0x12c693c10>"
      ]
     },
     "metadata": {},
     "output_type": "display_data"
    }
   ],
   "source": [
    "e = sns.factorplot(x=\"technicality_levels\", y=\"steps\", col = 'model', hue=\"prepping\",data=df_gui3,\n",
    "                   palette=\"YlGnBu_d\", size=5, aspect=.75)\n",
    "e.despine(left=True)"
   ]
  },
  {
   "cell_type": "markdown",
   "metadata": {},
   "source": [
    "The LDA model performed poorly, probably because IA labels are too concise. I'll outline avenues to overcoming this limitation soon.\n",
    "\n",
    "**The original LSA model and the word2vec model perfom equally well**. However, **word2vec seems to better reflect the usage technical goals (= unfamiliar, advanced, etc.) make behavior more vicariant than basic usge goals** (cf. the SD for W2V on basic goals more realistic AND **better differentiated from technical goals than the SD for LSA**).\n",
    "\n",
    "**Thus far, Word2vec seems to be a good challenger to previous LSA-based infoscent approaches.**"
   ]
  },
  {
   "cell_type": "code",
   "execution_count": 217,
   "metadata": {
    "collapsed": false
   },
   "outputs": [
    {
     "name": "stdout",
     "output_type": "stream",
     "text": [
      "Index([u'target_features', u'goals', u'steps', u'technicality_levels',\n",
      "       u'wn_familiarity', u'wn_familiarity_NN', u'model', u'prepping'],\n",
      "      dtype='object')\n",
      "                                                        sum_sq  df          F  \\\n",
      "C(model, Sum)                                        79.600000   2   4.047458   \n",
      "C(prepping, Sum)                                      6.666667   1   0.677966   \n",
      "C(technicality_levels, Sum)                         112.066667   1  11.396610   \n",
      "C(model, Sum):C(prepping, Sum)                        0.933333   2   0.047458   \n",
      "C(model, Sum):C(technicality_levels, Sum)            93.733333   2   4.766102   \n",
      "C(prepping, Sum):C(technicality_levels, Sum)          5.400000   1   0.549153   \n",
      "C(model, Sum):C(prepping, Sum):C(technicality_l...    3.600000   2   0.183051   \n",
      "Residual                                            472.000000  48        NaN   \n",
      "\n",
      "                                                      PR(>F)  \n",
      "C(model, Sum)                                       0.023748  \n",
      "C(prepping, Sum)                                    0.414360  \n",
      "C(technicality_levels, Sum)                         0.001465  \n",
      "C(model, Sum):C(prepping, Sum)                      0.953696  \n",
      "C(model, Sum):C(technicality_levels, Sum)           0.012940  \n",
      "C(prepping, Sum):C(technicality_levels, Sum)        0.462274  \n",
      "C(model, Sum):C(prepping, Sum):C(technicality_l...  0.833304  \n",
      "Residual                                                 NaN  \n"
     ]
    }
   ],
   "source": [
    "print df_gui3.columns\n",
    "\n",
    "anova_1 = ols('steps ~ C(model, Sum)*C(prepping, Sum)*C(technicality_levels, Sum)',\n",
    "               data=df_gui3).fit()\n",
    "table = sm.stats.anova_lm(anova_1, typ=2) # Type 2 ANOVA DataFrame\n",
    "print table"
   ]
  },
  {
   "cell_type": "markdown",
   "metadata": {},
   "source": [
    "This ANOVA shows that **prepping (tokenization vs lemmatization) did not significantly impact the simulations**- contrary to model type, technicality which were significant and significantly interacted."
   ]
  },
  {
   "cell_type": "markdown",
   "metadata": {},
   "source": [
    "### 4.4. Attributes of target feature attributes consistent with sniffer yet not substituable\n",
    "\n",
    "Should target features that are more polysemic have a stronger infoscent (e.g. due to a higher number of related words), **the number of steps and familiarity should be inversely proportional**.\n",
    "\n",
    "However, the fact that **target features are nested in a menu/sub menu architecture is likely to affect the tracing of their infoscent from the root state of the IA.** \n",
    "\n",
    "Lets' examine the relationship btw these 2 variables for the two best models (w2v and LSA). "
   ]
  },
  {
   "cell_type": "code",
   "execution_count": 220,
   "metadata": {
    "collapsed": false
   },
   "outputs": [
    {
     "data": {
      "image/png": "[encoded data removed]",
      "text/plain": [
       "<matplotlib.figure.Figure at 0x1268c1110>"
      ]
     },
     "metadata": {},
     "output_type": "display_data"
    },
    {
     "name": "stdout",
     "output_type": "stream",
     "text": [
      "Coefficients: -0.149\n",
      "Mean residual sum of squares: 9.5\n",
      "Variance of Y explained by X: 0.123\n"
     ]
    }
   ],
   "source": [
    "selecta = df_gui3[df_gui3['model'] != 'lda']\n",
    "\n",
    "X = selecta['wn_familiarity_NN']\n",
    "Y = selecta['steps']\n",
    "\n",
    "regr = linear_model.LinearRegression()\n",
    "regr.fit (X[:,np.newaxis], Y)\n",
    "\n",
    "plt.xlabel('Familiarity scores of target features in wordnet')\n",
    "plt.scatter(X, Y, color='red')\n",
    "plt.plot(X, regr.predict(X[:,np.newaxis]), color='blue')\n",
    "plt.show()\n",
    "\n",
    "# The coefficients\n",
    "print 'Coefficients: %.3f' % regr.coef_[0]\n",
    "# The mean square error\n",
    "print \"Mean residual sum of squares: %.1f\" % np.mean((regr.predict(X[:,np.newaxis]) - Y) ** 2)\n",
    "# Explained variance score: 1 is perfect prediction\n",
    "print('Variance of Y explained by X: %.3f' % regr.score(X[:,np.newaxis], Y))"
   ]
  },
  {
   "cell_type": "markdown",
   "metadata": {},
   "source": [
    "This trend was expected, yet the explained variance is low. Should the number of steps fundamentally depend on the familiarity of target features, the explained variance in the above regression would be higher. **In reality though, the number of steps depends on intermediary semantic judgments which depend on the IA**. This explains the above regression and showcases the importance of coding a sniffer.\n",
    "\n",
    "Same reasoning with the infoscent (semantic similarity to goal) of target features, below:"
   ]
  },
  {
   "cell_type": "code",
   "execution_count": 201,
   "metadata": {
    "collapsed": false
   },
   "outputs": [
    {
     "data": {
      "image/png": "[encoded data removed]",
      "text/plain": [
       "<matplotlib.figure.Figure at 0x12072b450>"
      ]
     },
     "metadata": {},
     "output_type": "display_data"
    },
    {
     "name": "stdout",
     "output_type": "stream",
     "text": [
      "Coefficients: -0.016\n",
      "Mean residual sum of squares: 0.0\n",
      "Variance of Y explained by X: 0.133\n"
     ]
    }
   ],
   "source": [
    "gf_sim = []\n",
    "f = []\n",
    "for t in test_set1:\n",
    "    sim = round(tok_w2v.n_similarity(t[0].split(), t[1].split()), 3)\n",
    "    gf_sim.append(sim)\n",
    "    f.append(t[0])\n",
    "zap = zip(f, gf_sim)*4\n",
    "gf_similarity = pd.DataFrame(zap)\n",
    "gf_similarity.columns = ['features', 'to_goal_sim']\n",
    "\n",
    "cnts = pd.DataFrame(selecta['steps'])\n",
    "\n",
    "ko = pd.concat([gf_similarity, cnts], axis = 1, join = 'inner')\n",
    "\n",
    "X = ko['steps']\n",
    "Y = ko['to_goal_sim']\n",
    "\n",
    "regr = linear_model.LinearRegression()\n",
    "regr.fit (X[:,np.newaxis], Y)\n",
    "\n",
    "plt.xlabel('goal feature w2v similarity')\n",
    "plt.scatter(X, Y, color='red')\n",
    "plt.plot(X, regr.predict(X[:,np.newaxis]), color='blue')\n",
    "plt.show()\n",
    "\n",
    "# The coefficients\n",
    "print 'Coefficients: %.3f' % regr.coef_[0]\n",
    "# The mean square error\n",
    "print \"Mean residual sum of squares: %.1f\" % np.mean((regr.predict(X[:,np.newaxis]) - Y) ** 2)\n",
    "# Explained variance score: 1 is perfect prediction\n",
    "print('Variance of Y explained by X: %.3f' % regr.score(X[:,np.newaxis], Y))\n"
   ]
  },
  {
   "cell_type": "markdown",
   "metadata": {},
   "source": [
    "In sum, **one cannot substitute task steps as measured by algorithm that sniffes a goal throughout an architecture of menus with mere target feature scores**, be those of familiarity or of infoscent."
   ]
  },
  {
   "cell_type": "markdown",
   "metadata": {},
   "source": [
    "### 4.5. Similarity matrix for goals and target features\n",
    "\n",
    "Word2vec n_similarity function is used to calculate a similarity score between each goal description and target feature.\n",
    "\n",
    "***Entire matrix stored in a Pandas dataframe.***"
   ]
  },
  {
   "cell_type": "code",
   "execution_count": 223,
   "metadata": {
    "collapsed": false
   },
   "outputs": [
    {
     "data": {
      "text/html": [
       "<div>\n",
       "<table border=\"1\" class=\"dataframe\">\n",
       "  <thead>\n",
       "    <tr style=\"text-align: right;\">\n",
       "      <th></th>\n",
       "      <th>air conditioning</th>\n",
       "      <th>activate cruise control</th>\n",
       "      <th>turn off cruise control</th>\n",
       "      <th>anti theft notification</th>\n",
       "      <th>lane change alert</th>\n",
       "      <th>gps</th>\n",
       "      <th>play radio</th>\n",
       "      <th>contact list</th>\n",
       "      <th>dial number</th>\n",
       "      <th>check voice mail messages</th>\n",
       "    </tr>\n",
       "  </thead>\n",
       "  <tbody>\n",
       "    <tr>\n",
       "      <th>increase temperature</th>\n",
       "      <td>0.343821</td>\n",
       "      <td>0.248899</td>\n",
       "      <td>0.203634</td>\n",
       "      <td>0.116112</td>\n",
       "      <td>0.406705</td>\n",
       "      <td>0.198475</td>\n",
       "      <td>-0.071758</td>\n",
       "      <td>0.156829</td>\n",
       "      <td>0.149088</td>\n",
       "      <td>0.079286</td>\n",
       "    </tr>\n",
       "    <tr>\n",
       "      <th>limit my speed</th>\n",
       "      <td>0.246538</td>\n",
       "      <td>0.225209</td>\n",
       "      <td>0.412864</td>\n",
       "      <td>0.149728</td>\n",
       "      <td>0.315220</td>\n",
       "      <td>0.251474</td>\n",
       "      <td>0.154433</td>\n",
       "      <td>0.155063</td>\n",
       "      <td>0.277318</td>\n",
       "      <td>0.251444</td>\n",
       "    </tr>\n",
       "    <tr>\n",
       "      <th>disable speed alert</th>\n",
       "      <td>0.387455</td>\n",
       "      <td>0.449580</td>\n",
       "      <td>0.388973</td>\n",
       "      <td>0.352458</td>\n",
       "      <td>0.566966</td>\n",
       "      <td>0.413387</td>\n",
       "      <td>0.089045</td>\n",
       "      <td>0.073983</td>\n",
       "      <td>0.200452</td>\n",
       "      <td>0.378668</td>\n",
       "    </tr>\n",
       "  </tbody>\n",
       "</table>\n",
       "</div>"
      ],
      "text/plain": [
       "                      air conditioning  activate cruise control  \\\n",
       "increase temperature          0.343821                 0.248899   \n",
       "limit my speed                0.246538                 0.225209   \n",
       "disable speed alert           0.387455                 0.449580   \n",
       "\n",
       "                      turn off cruise control  anti theft notification  \\\n",
       "increase temperature                 0.203634                 0.116112   \n",
       "limit my speed                       0.412864                 0.149728   \n",
       "disable speed alert                  0.388973                 0.352458   \n",
       "\n",
       "                      lane change alert       gps  play radio  contact list  \\\n",
       "increase temperature           0.406705  0.198475   -0.071758      0.156829   \n",
       "limit my speed                 0.315220  0.251474    0.154433      0.155063   \n",
       "disable speed alert            0.566966  0.413387    0.089045      0.073983   \n",
       "\n",
       "                      dial number  check voice mail messages  \n",
       "increase temperature     0.149088                   0.079286  \n",
       "limit my speed           0.277318                   0.251444  \n",
       "disable speed alert      0.200452                   0.378668  "
      ]
     },
     "execution_count": 223,
     "metadata": {},
     "output_type": "execute_result"
    }
   ],
   "source": [
    "goal_index = []\n",
    "for goal in test_set1:\n",
    "    goal_index.append(goal[1])\n",
    "\n",
    "sim_heatmap = pd.DataFrame(index=goal_index)\n",
    "\n",
    "for i, feat in enumerate(test_set1):\n",
    "    sim_features = []\n",
    "    for j, goal in enumerate(test_set1):\n",
    "        sim_features.append(tok_w2v.n_similarity(feat[0].split(), goal[1].split()) )\n",
    "    sim_heatmap[feat[0]] = sim_features\n",
    "sim_heatmap.head(3)"
   ]
  },
  {
   "cell_type": "code",
   "execution_count": 224,
   "metadata": {
    "collapsed": false
   },
   "outputs": [
    {
     "data": {
      "text/plain": [
       "<matplotlib.axes._subplots.AxesSubplot at 0x12c885c90>"
      ]
     },
     "execution_count": 224,
     "metadata": {},
     "output_type": "execute_result"
    },
    {
     "data": {
      "image/png": "[encoded data removed]",
      "text/plain": [
       "<matplotlib.figure.Figure at 0x12c891b10>"
      ]
     },
     "metadata": {},
     "output_type": "display_data"
    }
   ],
   "source": [
    "# Plot similarity matrix as heatmap\n",
    "\n",
    "f, ax = plt.subplots(figsize=(6, 7))\n",
    "\n",
    "# Draw the heatmap \n",
    "sns.heatmap(sim_heatmap,cmap=\"YlGnBu\",\n",
    "            robust=True,#annot=True,\n",
    "            square=True, xticklabels=True, yticklabels=True,\n",
    "            linewidths=.5, cbar_kws={\"shrink\": .5}, ax=ax)"
   ]
  },
  {
   "cell_type": "markdown",
   "metadata": {
    "collapsed": true
   },
   "source": [
    "## Next steps\n",
    "\n",
    "- see if the above results change with IAs complification (see this [notebook](https://github.com/sfischerw/infoscent/blob/master/1_IA%20Tweating_b.ipynb))\n",
    "- test for normality, if negative revert to non-parametric test \n",
    "- tweak model parameters\n",
    "- compute similarity scores for entire path"
   ]
  },
  {
   "cell_type": "code",
   "execution_count": null,
   "metadata": {
    "collapsed": true
   },
   "outputs": [],
   "source": []
  }
 ],
 "metadata": {
  "kernelspec": {
   "display_name": "Python 2",
   "language": "python",
   "name": "python2"
  },
  "language_info": {
   "codemirror_mode": {
    "name": "ipython",
    "version": 2
   },
   "file_extension": ".py",
   "mimetype": "text/x-python",
   "name": "python",
   "nbconvert_exporter": "python",
   "pygments_lexer": "ipython2",
   "version": "2.7.10"
  }
 },
 "nbformat": 4,
 "nbformat_minor": 0
}
