{
 "cells": [
  {
   "cell_type": "markdown",
   "metadata": {},
   "source": [
    "# Infoscent\n",
    "\n",
    "In this notebook, I simulate user exploration of GUIs through semantic analysis of their Information Architecture. \n",
    "\n",
    "This project is motivated by previous research (Fu & Pirolli, 2007; Blackmon, Kitajima, & Polson, 2005) on predicting user exploration of websites. \n",
    "\n",
    "Users are assumed to navigate a GUI by iteratively clicking the label of each state that is the most semantically similar to a goal (infoscent).\n",
    "\n",
    "Previous infoscent models were based on Latent Sematic Indexing (LSI) language models. \n",
    "\n",
    "This project simulates and compares a user's semantic exploration of an on-board automative GUI using 3 different language models:\n",
    "- Latent Sematic Indexing (LSI)\n",
    "- Latent Dirichlet Analysis (LDA)\n",
    "- Word Vector Representation (Word2Vec)\n",
    "\n",
    "Each model is trained with plain English and lemmatized tokenizations."
   ]
  },
  {
   "cell_type": "code",
   "execution_count": 57,
   "metadata": {
    "collapsed": false
   },
   "outputs": [
    {
     "name": "stdout",
     "output_type": "stream",
     "text": [
      "Populating the interactive namespace from numpy and matplotlib\n"
     ]
    }
   ],
   "source": [
    "import pickle\n",
    "import operator\n",
    "\n",
    "import logging\n",
    "logging.basicConfig(format='%(asctime)s : %(levelname)s : %(message)s', level=logging.INFO) \n",
    "\n",
    "# Natural Language Processing modules\n",
    "from gensim import corpora, models, similarities, utils\n",
    "from pattern.en import tag, parse\n",
    "from nltk.corpus import wordnet as wn, stopwords\n",
    "from nltk.tokenize import RegexpTokenizer\n",
    "\n",
    "# Data/Visualization\n",
    "import pandas as pd\n",
    "import numpy as np\n",
    "import matplotlib.pyplot as plt\n",
    "import seaborn as sns\n",
    "\n",
    "# Statistics and Machine-learning modules\n",
    "import statsmodels.api as sm\n",
    "from statsmodels.formula.api import ols\n",
    "from sklearn import datasets, linear_model\n",
    "\n",
    "%pylab inline"
   ]
  },
  {
   "cell_type": "markdown",
   "metadata": {},
   "source": [
    "## Materials"
   ]
  },
  {
   "cell_type": "markdown",
   "metadata": {},
   "source": [
    "###GUI IA, target features, and goal descriptions\n",
    "\n",
    "The GUI for this project follows the IA of an on-board computer."
   ]
  },
  {
   "cell_type": "code",
   "execution_count": 58,
   "metadata": {
    "collapsed": false
   },
   "outputs": [],
   "source": [
    "# GUI information architectures (IAs) represented as a nested dictionary\n",
    "gui3 = {\"car\":{\"air conditioning\" : \"air conditioning\",\n",
    "               \"driving assistance\" : {\"gps\": \"gps\", \n",
    "                                       \"lane change alert\" : \"lane change alert\", \n",
    "                                      \"cruise control\": {\"activate cruise control\":\"activate cruise control\", \n",
    "                                                         \"turn off cruise control\":\"turn off cruise control\"}, \n",
    "                                      \"anti theft notification\" :\"anti theft notification\"}}, \n",
    "        \"phone\": {\"dial number\": \"dial number\",\"contact list\": \"contact list\", \n",
    "                  \"check voice mail messages\":\"check voice mail messages\"}, \n",
    "        \"play radio\": \"play radio\"}"
   ]
  },
  {
   "cell_type": "markdown",
   "metadata": {},
   "source": [
    "Goal descriptions are plain English descriptions of certain task, e.g. \"find my friend's contact number.\"\n",
    "The target feature is the feature in the interface that accomplishes this goal.\n",
    "Each task is classified as \"basic\" or \"technical\".\n",
    "Each task in the following test_set is formatted as:\n",
    "\n",
    "('target feature', 'goal description', 'classification')"
   ]
  },
  {
   "cell_type": "code",
   "execution_count": 59,
   "metadata": {
    "collapsed": true
   },
   "outputs": [],
   "source": [
    "# List of test materials (target_features, goals, level)\n",
    "test_set1 = [('air conditioning', 'increase temperature', 'basic'),\n",
    " ('activate cruise control', 'limit my speed', 'technical'),\n",
    " ('turn off cruise control', 'disable speed alert', 'technical'),\n",
    " ('anti theft notification', 'alert that my car stolen', 'technical'),\n",
    " ('lane change alert', 'disable car passing support system', 'technical'),\n",
    " ('gps', 'get directions office', 'technical'),\n",
    " ('play radio', 'listen beatles last album', 'basic'),\n",
    " ('contact list', 'retrieve my friend mailing address', 'basic'),\n",
    " ('dial number', 'call', 'basic'),\n",
    " ('check voice mail messages', 'go through recent phone messages', 'basic')]"
   ]
  },
  {
   "cell_type": "markdown",
   "metadata": {},
   "source": [
    "Familiarity of a target feature is calculated by counting the number of synsets associated with each word in the feature. Total number is counted and stored in a list."
   ]
  },
  {
   "cell_type": "code",
   "execution_count": 60,
   "metadata": {
    "collapsed": false
   },
   "outputs": [
    {
     "name": "stdout",
     "output_type": "stream",
     "text": [
      "[1.0, 2.0, 9.0, 9.67, 9.67, 10.5, 11.5, 15.75, 20.67, 28.5]\n"
     ]
    }
   ],
   "source": [
    "#Retrieve basic polysemy proxy from nltk's interface for wordnet\n",
    "\n",
    "wn_fam = []\n",
    "\n",
    "for test in test_set1:\n",
    "    tokenizer = RegexpTokenizer(r'\\w+')\n",
    "    toketxt = tokenizer.tokenize(test[0])\n",
    "    s = set(stopwords.words('english'))\n",
    "    filt_wrd = [w for w in toketxt if not w in s]\n",
    "    w_count = len(filt_wrd)\n",
    "    g_polys = 0\n",
    "\n",
    "    for word in filt_wrd:\n",
    "        w_polys = len(wn.synsets(word))\n",
    "        g_polys += w_polys\n",
    "\n",
    "    av_polys = float(g_polys)/float(w_count)\n",
    "    wn_fam.append(round(av_polys, 2))\n",
    "\n",
    "print sorted(wn_fam)"
   ]
  },
  {
   "cell_type": "code",
   "execution_count": 61,
   "metadata": {
    "collapsed": false
   },
   "outputs": [
    {
     "name": "stdout",
     "output_type": "stream",
     "text": [
      "[1.0, 2.0, 7.0, 10.5, 11.0, 12.0, 12.0, 17.0, 19.33, 28.5]\n"
     ]
    }
   ],
   "source": [
    "wn_fam_NN = []\n",
    "\n",
    "for test in test_set1: \n",
    "    filt_wrd = []\n",
    "    g = test[0]\n",
    "    for w, pos in tag(g): \n",
    "        if pos == \"NN\":\n",
    "            filt_wrd.append(w)\n",
    "\n",
    "    w_count = len(filt_wrd)\n",
    "    g_polys = 0\n",
    "\n",
    "    for word in filt_wrd:\n",
    "        w_polys = len(wn.synsets(word))\n",
    "        g_polys += w_polys\n",
    "        \n",
    "    av_polys = float(g_polys)/float(w_count)\n",
    "    wn_fam_NN.append(round(av_polys, 2))\n",
    "\n",
    "print sorted(wn_fam_NN) "
   ]
  },
  {
   "cell_type": "code",
   "execution_count": 27,
   "metadata": {
    "collapsed": false
   },
   "outputs": [
    {
     "name": "stdout",
     "output_type": "stream",
     "text": [
      "['target_feat' 'goal' 'counts' 'familiarity' 'wn_familiarity'\n",
      " 'wn_familiarity_NN' 'model' 'prepping']\n"
     ]
    },
    {
     "data": {
      "text/plain": [
       "<seaborn.axisgrid.FacetGrid at 0x14d30abd0>"
      ]
     },
     "execution_count": 27,
     "metadata": {},
     "output_type": "execute_result"
    },
    {
     "data": {
      "image/png": "[encoded data removed]",
      "text/plain": [
       "<matplotlib.figure.Figure at 0x13f21ba50>"
      ]
     },
     "metadata": {},
     "output_type": "display_data"
    }
   ],
   "source": [
    "sns.set(style=\"whitegrid\")\n",
    "print df_gui3.columns.values\n",
    "g = sns.factorplot(x=\"familiarity\", y=\"wn_familiarity_NN\", data=df_gui3,\n",
    "                   palette=\"YlGnBu_d\", size=5, aspect=.75)\n",
    "g.despine(left=True)"
   ]
  },
  {
   "cell_type": "markdown",
   "metadata": {},
   "source": [
    "## Similarity matrix for Goals and Target features\n",
    "\n",
    "Word2vec n_similarity function is used to calculate a similarity score between each goal description and target feature.\n",
    "The entire matrix is stored in a Pandas dataframe."
   ]
  },
  {
   "cell_type": "code",
   "execution_count": 79,
   "metadata": {
    "collapsed": false
   },
   "outputs": [
    {
     "data": {
      "text/html": [
       "<div>\n",
       "<table border=\"1\" class=\"dataframe\">\n",
       "  <thead>\n",
       "    <tr style=\"text-align: right;\">\n",
       "      <th></th>\n",
       "      <th>air conditioning</th>\n",
       "      <th>activate cruise control</th>\n",
       "      <th>turn off cruise control</th>\n",
       "      <th>anti theft notification</th>\n",
       "      <th>lane change alert</th>\n",
       "      <th>gps</th>\n",
       "      <th>play radio</th>\n",
       "      <th>contact list</th>\n",
       "      <th>dial number</th>\n",
       "      <th>check voice mail messages</th>\n",
       "    </tr>\n",
       "  </thead>\n",
       "  <tbody>\n",
       "    <tr>\n",
       "      <th>increase temperature</th>\n",
       "      <td>0.343821</td>\n",
       "      <td>0.248899</td>\n",
       "      <td>0.203634</td>\n",
       "      <td>0.116112</td>\n",
       "      <td>0.406705</td>\n",
       "      <td>0.198475</td>\n",
       "      <td>-0.071758</td>\n",
       "      <td>0.156829</td>\n",
       "      <td>0.149088</td>\n",
       "      <td>0.079286</td>\n",
       "    </tr>\n",
       "    <tr>\n",
       "      <th>limit my speed</th>\n",
       "      <td>0.246538</td>\n",
       "      <td>0.225209</td>\n",
       "      <td>0.412864</td>\n",
       "      <td>0.149728</td>\n",
       "      <td>0.315220</td>\n",
       "      <td>0.251474</td>\n",
       "      <td>0.154433</td>\n",
       "      <td>0.155063</td>\n",
       "      <td>0.277318</td>\n",
       "      <td>0.251444</td>\n",
       "    </tr>\n",
       "    <tr>\n",
       "      <th>disable speed alert</th>\n",
       "      <td>0.387455</td>\n",
       "      <td>0.449580</td>\n",
       "      <td>0.388973</td>\n",
       "      <td>0.352458</td>\n",
       "      <td>0.566966</td>\n",
       "      <td>0.413387</td>\n",
       "      <td>0.089045</td>\n",
       "      <td>0.073983</td>\n",
       "      <td>0.200452</td>\n",
       "      <td>0.378668</td>\n",
       "    </tr>\n",
       "    <tr>\n",
       "      <th>alert that my car stolen</th>\n",
       "      <td>0.213606</td>\n",
       "      <td>0.348870</td>\n",
       "      <td>0.432120</td>\n",
       "      <td>0.381996</td>\n",
       "      <td>0.565726</td>\n",
       "      <td>0.212202</td>\n",
       "      <td>0.196193</td>\n",
       "      <td>0.247469</td>\n",
       "      <td>0.209524</td>\n",
       "      <td>0.362186</td>\n",
       "    </tr>\n",
       "    <tr>\n",
       "      <th>disable car passing support system</th>\n",
       "      <td>0.340408</td>\n",
       "      <td>0.549172</td>\n",
       "      <td>0.493006</td>\n",
       "      <td>0.423879</td>\n",
       "      <td>0.395586</td>\n",
       "      <td>0.468855</td>\n",
       "      <td>0.187575</td>\n",
       "      <td>0.257031</td>\n",
       "      <td>0.347098</td>\n",
       "      <td>0.442792</td>\n",
       "    </tr>\n",
       "  </tbody>\n",
       "</table>\n",
       "</div>"
      ],
      "text/plain": [
       "                                    air conditioning  activate cruise control  \\\n",
       "increase temperature                        0.343821                 0.248899   \n",
       "limit my speed                              0.246538                 0.225209   \n",
       "disable speed alert                         0.387455                 0.449580   \n",
       "alert that my car stolen                    0.213606                 0.348870   \n",
       "disable car passing support system          0.340408                 0.549172   \n",
       "\n",
       "                                    turn off cruise control  \\\n",
       "increase temperature                               0.203634   \n",
       "limit my speed                                     0.412864   \n",
       "disable speed alert                                0.388973   \n",
       "alert that my car stolen                           0.432120   \n",
       "disable car passing support system                 0.493006   \n",
       "\n",
       "                                    anti theft notification  \\\n",
       "increase temperature                               0.116112   \n",
       "limit my speed                                     0.149728   \n",
       "disable speed alert                                0.352458   \n",
       "alert that my car stolen                           0.381996   \n",
       "disable car passing support system                 0.423879   \n",
       "\n",
       "                                    lane change alert       gps  play radio  \\\n",
       "increase temperature                         0.406705  0.198475   -0.071758   \n",
       "limit my speed                               0.315220  0.251474    0.154433   \n",
       "disable speed alert                          0.566966  0.413387    0.089045   \n",
       "alert that my car stolen                     0.565726  0.212202    0.196193   \n",
       "disable car passing support system           0.395586  0.468855    0.187575   \n",
       "\n",
       "                                    contact list  dial number  \\\n",
       "increase temperature                    0.156829     0.149088   \n",
       "limit my speed                          0.155063     0.277318   \n",
       "disable speed alert                     0.073983     0.200452   \n",
       "alert that my car stolen                0.247469     0.209524   \n",
       "disable car passing support system      0.257031     0.347098   \n",
       "\n",
       "                                    check voice mail messages  \n",
       "increase temperature                                 0.079286  \n",
       "limit my speed                                       0.251444  \n",
       "disable speed alert                                  0.378668  \n",
       "alert that my car stolen                             0.362186  \n",
       "disable car passing support system                   0.442792  "
      ]
     },
     "execution_count": 79,
     "metadata": {},
     "output_type": "execute_result"
    }
   ],
   "source": [
    "goal_index = []\n",
    "for goal in test_set1:\n",
    "    goal_index.append(goal[1])\n",
    "\n",
    "sim_heatmap = pd.DataFrame(index=goal_index)\n",
    "\n",
    "for i, feat in enumerate(test_set1):\n",
    "    sim_features = []\n",
    "    for j, goal in enumerate(test_set1):\n",
    "        sim_features.append(tok_w2v.n_similarity(feat[0].split(), goal[1].split()) )\n",
    "    sim_heatmap[feat[0]] = sim_features\n",
    "sim_heatmap.head()"
   ]
  },
  {
   "cell_type": "code",
   "execution_count": 80,
   "metadata": {
    "collapsed": false
   },
   "outputs": [
    {
     "data": {
      "text/plain": [
       "<matplotlib.axes._subplots.AxesSubplot at 0x158950f50>"
      ]
     },
     "execution_count": 80,
     "metadata": {},
     "output_type": "execute_result"
    },
    {
     "data": {
      "image/png": "[encoded data removed]",
      "text/plain": [
       "<matplotlib.figure.Figure at 0x12aad9210>"
      ]
     },
     "metadata": {},
     "output_type": "display_data"
    }
   ],
   "source": [
    "# Plot similarity matrix as heatmap\n",
    "f, ax = plt.subplots(figsize=(6, 7))\n",
    "\n",
    "# Draw the heatmap \n",
    "sns.heatmap(sim_heatmap,cmap=\"YlGnBu\",\n",
    "            robust=True,#annot=True,\n",
    "            square=True, xticklabels=True, yticklabels=True,\n",
    "            linewidths=.5, cbar_kws={\"shrink\": .5}, ax=ax)"
   ]
  },
  {
   "cell_type": "markdown",
   "metadata": {},
   "source": [
    "### Corpus\n",
    "\n",
    "Models on the Simple English Wikipedia corpus.\n",
    "File name: [simplewiki-20150901-pages-articles.xml.bz2](http://dumps.wikimedia.org/simplewiki/20150901/) (106.3 MB)\n",
    "\n",
    "Other interesting alternatives include:\n",
    "- The [UMBC WebBase corpus](http://ebiquity.umbc.edu/blogger/2013/05/01/umbc-webbase-corpus-of-3b-english-words/)\n",
    "- The college-level [TASA corpus](http://lsa.colorado.edu/spaces.html)\n"
   ]
  },
  {
   "cell_type": "markdown",
   "metadata": {},
   "source": [
    "GRRRR\n",
    "### LSI and LDA Models\n",
    "\n",
    "#### Plain versions\n",
    "Generation of dictionaries and tf-idf representations are built from the [gensim.scripts.make_wiki](http://pydoc.net/Python/gensim/0.9.1/gensim.scripts.make_wiki/) script. Sparse representation of the Simple English Wikipedia corpus can be obtained by running the script: \n",
    "\n",
    "    python -m gensim.scripts.make_wikicorpus ./enwiki-latest-pages-articles.xml.bz2 ./results/wiki_en\n",
    "\n",
    "Input file is a bz2-compressed dump of Wikipedia articles in XML format. Three output files are created:\n",
    "\n",
    "- wiki_en_wordids.txt (mapping between words and their integer IDs)\n",
    "- wiki_en_bow.mm: bag-of-words (word count) representation, in Matrix Market format\n",
    "- wiki_en_tfidf.mm: TF-IDF representation\n",
    "\n",
    "Vocabulary size is set to 100,000 most frequent words using plain alphabetic tokenizer. \n",
    "\n",
    "#### Lemmatized versions\n",
    "\n",
    "To tokenize with \"fancy\" lemmatization, we use the Pattern package (see https://github.com/clips/pattern).\n",
    "Lemmatized versions of the same three files can be created by running this [script](http://pydoc.net/Python/gensim/0.9.1/gensim.scripts.make_wiki_lemma/):\n",
    "\n",
    "    python -m gensim.scripts.make_wiki_lemma ./enwiki-latest-pages-articles.xml.bz2 ./results_lem/wiki_en"
   ]
  },
  {
   "cell_type": "code",
   "execution_count": 5,
   "metadata": {
    "collapsed": false
   },
   "outputs": [
    {
     "name": "stdout",
     "output_type": "stream",
     "text": [
      "Tokenized corpus: MmCorpus(73898 documents, 29597 features, 6418219 non-zero entries)\n",
      "Dictionary(29597 unique tokens: [u'fawn', u'schlegel', u'sonja', u'woods', u'spiders']...) \n",
      "\n",
      "Lemmatized corpus: MmCorpus(59245 documents, 26640 features, 5275674 non-zero entries)\n",
      "Dictionary(26640 unique tokens: [u'adjust/VB', u'meteor/NN', u'certificate/NN', u'alcatraz/NN', u'removal/NN']...)\n"
     ]
    }
   ],
   "source": [
    "# Load tf-idf representation and dictionary mapping for tokenized corpus\n",
    "wiki = corpora.MmCorpus('latent_tok_tfidf.mm')\n",
    "mon_dico = corpora.Dictionary.load_from_text('latent_tok_wordids.txt')\n",
    "\n",
    "# Lemmatized tf-idf representation and dictionary\n",
    "wiki_lem = corpora.MmCorpus('latent_lem_tfidf.mm')\n",
    "mon_dico_lem = corpora.Dictionary.load_from_text('latent_lem_wordids.txt')\n",
    "\n",
    "print \"Tokenized corpus:\", wiki\n",
    "print mon_dico, '\\n'\n",
    "print \"Lemmatized corpus:\", wiki_lem\n",
    "print mon_dico_lem"
   ]
  },
  {
   "cell_type": "markdown",
   "metadata": {},
   "source": [
    "### Train LSI and LDA models\n",
    "\n",
    "If either model has already been trained and pickled, the training in this cell will be skipped. \n",
    "\n",
    "**Note: this cell does NOT load the pickle files, but only checks if they exist!**"
   ]
  },
  {
   "cell_type": "code",
   "execution_count": 62,
   "metadata": {
    "collapsed": false
   },
   "outputs": [],
   "source": [
    "try:\n",
    "    pickle.load(open('pickle_lsi.p', 'rb'))\n",
    "except:\n",
    "    print \"Pickle not found, training new LSI model... \\n\"\n",
    "    lsi = models.lsimodel.LsiModel(corpus=wiki, id2word=mon_dico, num_topics=450)\n",
    "    print 'Top LSI topics:', lsi.print_topics(5), '\\n'\n",
    "    pickle.dump(lsi, open('pickle_lsi.p', 'wb'))\n",
    "\n",
    "try:\n",
    "    pickle.load(open ('pickle_lda.p', 'rb'))\n",
    "except:\n",
    "    print \"Pickle not found, training new LDA model... \\n\"\n",
    "    lda = models.ldamodel.LdaModel(corpus=wiki, id2word=mon_dico, \n",
    "                                   num_topics=450, update_every=1, chunksize=2000, passes=1)\n",
    "    print 'Top LDA topics:', lda.print_topics(5), '\\n'\n",
    "    pickle.dump(lda, open('pickle_lda.p', 'wb'))"
   ]
  },
  {
   "cell_type": "markdown",
   "metadata": {},
   "source": [
    "### Train lemmatized LSI and LDA models\n",
    "\n",
    "If either model has already been trained and pickled, the training in this cell will be skipped. \n",
    "\n",
    "**Note: this cell does NOT load the pickle files, but only checks if they exist!**"
   ]
  },
  {
   "cell_type": "code",
   "execution_count": 7,
   "metadata": {
    "collapsed": false
   },
   "outputs": [],
   "source": [
    "try:\n",
    "    pickle.load(open('pickle_lsi_lem.p', 'rb'))\n",
    "except:\n",
    "    print \"Pickle not found, training new lemmatized LSI model... \\n\"\n",
    "    lsi_lem = models.lsimodel.LsiModel(corpus=wiki_lem, id2word=mon_dico_lem, num_topics=450)\n",
    "    print 'Top LSI topics:', lsi_lem.print_topics(5), '\\n'\n",
    "    pickle.dump(lsi_lem, open('pickle_lsi_lem.p', 'wb'))\n",
    "\n",
    "try:\n",
    "    pickle.load(open('pickle_lda_lem.p', 'rb'))\n",
    "except:\n",
    "    print \"Pickle not found, training new lemmatized LDA model... \\n\"\n",
    "    lda_lem = models.ldamodel.LdaModel(corpus=wiki_lem, id2word=mon_dico_lem, \n",
    "                                       num_topics=450, update_every=1, chunksize=2000, passes=1)\n",
    "    print 'Top LDA topics:', lda_lem.print_topics(5), '\\n'\n",
    "    pickle.dump(lda_lem, open('pickle_lda_lem.p', 'wb'))"
   ]
  },
  {
   "cell_type": "markdown",
   "metadata": {},
   "source": [
    "## Word2vec model\n",
    "\n",
    "We use the word2vec included in the Gensim package.\n",
    "The following model uses plain English tokenization.\n",
    "\n",
    "**Note: this cell can be skipped if the file 'wiki_w2v_tokens.txt' already exists!**"
   ]
  },
  {
   "cell_type": "code",
   "execution_count": 8,
   "metadata": {
    "collapsed": false
   },
   "outputs": [
    {
     "name": "stdout",
     "output_type": "stream",
     "text": [
      "DONE\n",
      "Saved 73898 articles.\n"
     ]
    }
   ],
   "source": [
    "# Simple English Wikipedia corpus\n",
    "wiki_w2v = 'simplewiki-20150901-pages-articles.xml.bz2' \n",
    "\n",
    "# Tokenize the corpus\n",
    "wiki_w2v_tok = corpora.WikiCorpus(wiki_w2v, lemmatize=False, dictionary={})\n",
    "\n",
    "# Process each article, each line in output doc is BOW article\n",
    "outfile = 'wiki_w2v_tokens.txt'\n",
    "output = open(outfile, 'w')\n",
    "space = \" \"\n",
    "i = 0\n",
    "for text in wiki_w2v_tok.get_texts():\n",
    "    output.write(space.join(text) + \"\\n\")\n",
    "    i = i + 1\n",
    "output.close()\n",
    "print \"DONE\"\n",
    "print \"Saved \" + str(i) + \" articles.\""
   ]
  },
  {
   "cell_type": "markdown",
   "metadata": {},
   "source": [
    "### Lemmatized version\n",
    "\n",
    "This model uses lemmatization provided by the Pattern package.\n",
    "\n",
    "**Note: this cell can be skipped if the file 'wiki_w2v_lemmes.txt' already exists!**"
   ]
  },
  {
   "cell_type": "code",
   "execution_count": 9,
   "metadata": {
    "collapsed": false
   },
   "outputs": [
    {
     "name": "stdout",
     "output_type": "stream",
     "text": [
      "DONE\n",
      "Saved 59245 articles.\n"
     ]
    }
   ],
   "source": [
    "#Corpus of lemmas\n",
    "wiki_w2v_lem = corpora.WikiCorpus(wiki_w2v, lemmatize=True, dictionary={})\n",
    "\n",
    "#create an output file to get the corpus into a list tokenized (preprocessed) articles (every line being a bow per article)\n",
    "outfile = 'wiki_w2v_lemmes.txt'\n",
    "output = open(outfile, 'w')\n",
    "space = \" \"\n",
    "i = 0\n",
    "for text in wiki_w2v_lem.get_texts():\n",
    "    output.write(space.join(text) + \"\\n\")\n",
    "    i = i + 1\n",
    "output.close()\n",
    "print \"DONE\"\n",
    "print \"Saved \" + str(i) + \" articles.\""
   ]
  },
  {
   "cell_type": "markdown",
   "metadata": {},
   "source": [
    "## Train word2vec models\n",
    "\n",
    "The following cell performs the following steps:\n",
    "- dictionary is created from tokens\n",
    "- top 100K words are filtered\n",
    "- word2vec model is trained"
   ]
  },
  {
   "cell_type": "code",
   "execution_count": 139,
   "metadata": {
    "collapsed": false
   },
   "outputs": [
    {
     "name": "stdout",
     "output_type": "stream",
     "text": [
      "<function <lambda> at 0x12be6a488>\n"
     ]
    }
   ],
   "source": [
    "# Create dictionary of tokens and filter the corpus\n",
    "wiki_w2v_tok = models.word2vec.LineSentence('wiki_w2v_tokens.txt')\n",
    "id2word = corpora.Dictionary(wiki_w2v_tok)\n",
    "id2word.filter_extremes(keep_n=100000)                 # Restrict dico to 100k most common words.\n",
    "word2id = dict((word, id) for id, word in id2word.iteritems()) \n",
    "\n",
    "# Functions to filter the corpus\n",
    "filter_text = lambda text: [word for word in text if word in word2id]  # Filter all wiki doc to contain only those 100k words.\n",
    "filtered_wiki_tok = lambda: (filter_text(text) for text in wiki_w2v_tok)  # generator\n",
    "\n",
    "# Train model\n",
    "model_w2v_tok = models.word2vec.Word2Vec (size=200, window=10, sample=0.0001, workers=4)\n",
    "model_w2v_tok.build_vocab(filtered_wiki_tok())\n",
    "model_w2v_tok.train(filtered_wiki_tok())\n",
    "\n",
    "# Pickle model to disk\n",
    "model_w2v_tok.save('word2vec_tok.model')\n",
    "\n",
    "# Store the learned weights, in a format the original C tool understands\n",
    "model_w2v_tok.save_word2vec_format('word2vec_tok.model.bin', binary=True)"
   ]
  },
  {
   "cell_type": "markdown",
   "metadata": {},
   "source": [
    "### Train lemmatized version\n",
    "\n",
    "Previous cell is repeated for lemmatized version of word2vec model."
   ]
  },
  {
   "cell_type": "code",
   "execution_count": 141,
   "metadata": {
    "collapsed": false
   },
   "outputs": [
    {
     "name": "stdout",
     "output_type": "stream",
     "text": [
      "<function <lambda> at 0x12a9aacf8>\n"
     ]
    }
   ],
   "source": [
    "#Repeat above cell on lemmatized corpus\n",
    "wiki_w2v_lem = models.word2vec.LineSentence('wiki_w2v_lemmes.txt')\n",
    "id2word = corpora.Dictionary(wiki_w2v_lem)\n",
    "id2word.filter_extremes(keep_n=100000)              # Restrict dico to 100k most common words.\n",
    "word2id = dict((word, id) for id, word in id2word.iteritems()) \n",
    "\n",
    "filter_text = lambda text: [word for word in text if word in word2id]\n",
    "filtered_wiki_w2v_lem = lambda: (filter_text(text) for text in wiki_w2v_lem)  # generator\n",
    "print filtered_wiki_w2v_lem\n",
    "\n",
    "# Train lemmatized model\n",
    "model_w2v_lem = models.word2vec.Word2Vec (size=200, window=10, sample=0.0001, workers=4)\n",
    "model_w2v_lem.build_vocab(filtered_wiki_w2v_lem())\n",
    "model_w2v_lem.train(filtered_wiki_w2v_lem())\n",
    "\n",
    "# Pickle entire model to disk\n",
    "model_w2v_lem.save('word2vec_lem.model')\n",
    "\n",
    "# Store weights\n",
    "model_w2v_lem.save_word2vec_format('word2vec_lem.model.bin', binary=True)"
   ]
  },
  {
   "cell_type": "markdown",
   "metadata": {},
   "source": [
    "# Load trained models"
   ]
  },
  {
   "cell_type": "code",
   "execution_count": 63,
   "metadata": {
    "collapsed": false
   },
   "outputs": [],
   "source": [
    "# Load model pickles\n",
    "tok_w2v = models.word2vec.Word2Vec.load(\"word2vec_tok.model\")\n",
    "lem_w2v = models.word2vec.Word2Vec.load(\"word2vec_lem.model\")\n",
    "tok_lsi = pickle.load (open ('pickle_lsi.p', 'rb'))\n",
    "tok_lda = pickle.load (open ('pickle_lda.p', 'rb'))\n",
    "lem_lsi = pickle.load (open ('pickle_lsi_lem.p', 'rb'))\n",
    "lem_lda = pickle.load (open ('pickle_lda_lem.p', 'rb'))"
   ]
  },
  {
   "cell_type": "markdown",
   "metadata": {},
   "source": [
    "# Semantic \"sniffing\" algorithm\n",
    "\n",
    "The infoscent method is now applid to the GUI.\n",
    "The following function takes any state of a GUI, calculates the similarity of each feature in that state with a goal, and returns the features as a list sorted by similarity.\n"
   ]
  },
  {
   "cell_type": "code",
   "execution_count": 64,
   "metadata": {
    "collapsed": false
   },
   "outputs": [
    {
     "name": "stdout",
     "output_type": "stream",
     "text": [
      "[('phone', 0.31809471697231229), ('play radio', 0.1796213105050215), ('car', 0.15134431360520267)] \n",
      "\n",
      "[('play radio', 0.027771166), ('car', -0.0083550652), ('phone', -0.078603856)] \n",
      "\n",
      "[('phone', 0.2054445), ('play radio', -4.966557e-05), ('car', -0.017856039)] \n",
      "\n"
     ]
    }
   ],
   "source": [
    "# Needs to know the model type (w2v, w2v_lem, latent, latent_lem)\n",
    "def sim_sort(state, model, goal, model_type):\n",
    "    sorted_sims = []\n",
    "    similaritiz = {}\n",
    "    goal_v = []\n",
    "    \n",
    "    # Word2Vec models\n",
    "    if (model_type == \"w2v\") or (model_type == \"w2v_lem\"):\n",
    "        \n",
    "        goal_v = goal.lower().split()\n",
    "        if model_type == \"w2v_lem\":\n",
    "            goal_v = utils.lemmatize(goal)\n",
    "\n",
    "        for label in state.keys():\n",
    "            k = label.split()\n",
    "            if model_type == \"w2v_lem\":\n",
    "                k = utils.lemmatize(label)\n",
    "            sim = model.n_similarity(k, goal_v)\n",
    "            similaritiz[label]=sim          #adding the similarity scores for any label\n",
    "\n",
    "    # LSI/LDA models\n",
    "    elif (model_type == \"latent\") or (model_type == \"latent_lem\"):\n",
    "        \n",
    "        goal_split = goal.lower().split()\n",
    "        goal_bow = mon_dico.doc2bow(goal_split)\n",
    "        if model_type == \"latent_lem\":\n",
    "            goal_bow = mon_dico_lem.doc2bow(utils.lemmatize(goal))\n",
    "        goal_v = model[goal_bow]\n",
    "        \n",
    "        ar = []\n",
    "        for label in state.keys():\n",
    "            k = label.split()\n",
    "            if model_type == \"latent_lem\":\n",
    "                k = utils.lemmatize(label)\n",
    "            ar.append(k)\n",
    "\n",
    "        state2index = [mon_dico.doc2bow(txt) for txt in ar]\n",
    "        if model_type == \"latent_lem\":\n",
    "            state2index = [mon_dico_lem.doc2bow(txt) for txt in ar]\n",
    "        index = similarities.MatrixSimilarity(model[state2index], num_features=29000)\n",
    "        indexed_scores = list(index[goal_v])\n",
    "        \n",
    "        for index, score in enumerate(indexed_scores):       #this could be replaced by zip()\n",
    "            label = state.keys()[index]\n",
    "            similaritiz[label] = score\n",
    "        \n",
    "    sorted_sims = sorted(similaritiz.items(), key=operator.itemgetter(1), reverse = True) \n",
    "    #print sorted_sims\n",
    "    return sorted_sims                              #returns a list of tuples i.e [(,), (,)]\n",
    "\n",
    "\n",
    "# Check output\n",
    "print sim_sort(gui3, tok_w2v, 'call your parents', 'w2v'), \"\\n\"\n",
    "print sim_sort(gui3, lem_lsi, 'call your parents', 'latent_lem'), \"\\n\"\n",
    "print sim_sort(gui3, tok_lsi, 'call your parents', 'latent'), \"\\n\""
   ]
  },
  {
   "cell_type": "markdown",
   "metadata": {},
   "source": [
    "This function goes recursively down the GUI, comparing semantic similarity of features in each state with the goal description and following the most familiar down the Information Architecture."
   ]
  },
  {
   "cell_type": "code",
   "execution_count": 65,
   "metadata": {
    "collapsed": false
   },
   "outputs": [],
   "source": [
    "def intermediate_sniffer_metrics(gui, model, goal, target_feat, model_type, global_count = 0):\n",
    "    \n",
    "    state = sim_sort(gui, model, goal, model_type)    #returned content must be assigned to a variable\n",
    "    found_goal = False\n",
    "    #print state\n",
    "    for label, score in state:\n",
    "        global_count += 1\n",
    "        \n",
    "        if type(gui[label]) is dict:\n",
    "            found_goal, g_cnt = intermediate_sniffer_metrics(gui[label], model, goal, target_feat, model_type)\n",
    "            global_count += g_cnt\n",
    "            if found_goal:\n",
    "                return True, global_count\n",
    "    \n",
    "        elif gui[label] == target_feat:\n",
    "            return True, global_count\n",
    "\n",
    "    return False, global_count\n",
    "\n",
    "#intermediate_sniffer_metrics(gui3, tok, 'cruise control', 'turn off cruise control', 'w2v'), '\\n'"
   ]
  },
  {
   "cell_type": "markdown",
   "metadata": {},
   "source": [
    "## Comparison of model performance\n",
    "\n",
    "For any goal, this function computes the total number of steps required to \"find\" the correct target feature. Results are stored for every model type."
   ]
  },
  {
   "cell_type": "code",
   "execution_count": 66,
   "metadata": {
    "collapsed": false
   },
   "outputs": [],
   "source": [
    "def auto_test(test_set, model, model_type):\n",
    "    test_metrics =[]\n",
    "    goal_l = []\n",
    "    target_l=[]\n",
    "    fam = []\n",
    "    for a, b, c in test_set:\n",
    "        goal_l.append(a)\n",
    "        target_l.append(b)\n",
    "        fam.append(c)\n",
    "        result = intermediate_sniffer_metrics(gui3, model, b, a , model_type)\n",
    "        test_metrics.append(result[1])\n",
    "    return zip(goal_l, target_l,test_metrics, fam, wn_fam, wn_fam_NN)\n",
    "    \n",
    "tok_w2v_test = auto_test(test_set1, tok_w2v, 'w2v')\n",
    "lem_w2v_test = auto_test(test_set1, lem_w2v, 'w2v_lem')\n",
    "tok_lsi_test = auto_test(test_set1, tok_lsi, 'latent')\n",
    "tok_lda_test = auto_test(test_set1, tok_lda, 'latent')\n",
    "lem_lsi_test = auto_test(test_set1, lem_lsi, 'latent_lem')\n",
    "lem_lda_test = auto_test(test_set1, lem_lda, 'latent_lem')"
   ]
  },
  {
   "cell_type": "markdown",
   "metadata": {},
   "source": [
    "Create Pandas dataframes for each model.\n",
    "Prepare columns for visualizations and model comparison, then concatenate all models into a single dataframe."
   ]
  },
  {
   "cell_type": "code",
   "execution_count": 72,
   "metadata": {
    "collapsed": false
   },
   "outputs": [
    {
     "data": {
      "text/html": [
       "<div>\n",
       "<table border=\"1\" class=\"dataframe\">\n",
       "  <thead>\n",
       "    <tr style=\"text-align: right;\">\n",
       "      <th></th>\n",
       "      <th>target_feat</th>\n",
       "      <th>goal</th>\n",
       "      <th>counts</th>\n",
       "      <th>familiarity</th>\n",
       "      <th>wn_familiarity</th>\n",
       "      <th>wn_familiarity_NN</th>\n",
       "      <th>model</th>\n",
       "      <th>prepping</th>\n",
       "    </tr>\n",
       "  </thead>\n",
       "  <tbody>\n",
       "    <tr>\n",
       "      <th>0</th>\n",
       "      <td>air conditioning</td>\n",
       "      <td>increase temperature</td>\n",
       "      <td>2</td>\n",
       "      <td>basic</td>\n",
       "      <td>10.50</td>\n",
       "      <td>10.5</td>\n",
       "      <td>word2vec</td>\n",
       "      <td>tokens</td>\n",
       "    </tr>\n",
       "    <tr>\n",
       "      <th>1</th>\n",
       "      <td>activate cruise control</td>\n",
       "      <td>limit my speed</td>\n",
       "      <td>7</td>\n",
       "      <td>technical</td>\n",
       "      <td>9.67</td>\n",
       "      <td>12.0</td>\n",
       "      <td>word2vec</td>\n",
       "      <td>tokens</td>\n",
       "    </tr>\n",
       "    <tr>\n",
       "      <th>2</th>\n",
       "      <td>turn off cruise control</td>\n",
       "      <td>disable speed alert</td>\n",
       "      <td>9</td>\n",
       "      <td>technical</td>\n",
       "      <td>20.67</td>\n",
       "      <td>12.0</td>\n",
       "      <td>word2vec</td>\n",
       "      <td>tokens</td>\n",
       "    </tr>\n",
       "    <tr>\n",
       "      <th>3</th>\n",
       "      <td>anti theft notification</td>\n",
       "      <td>alert that my car stolen</td>\n",
       "      <td>4</td>\n",
       "      <td>technical</td>\n",
       "      <td>2.00</td>\n",
       "      <td>2.0</td>\n",
       "      <td>word2vec</td>\n",
       "      <td>tokens</td>\n",
       "    </tr>\n",
       "    <tr>\n",
       "      <th>4</th>\n",
       "      <td>lane change alert</td>\n",
       "      <td>disable car passing support system</td>\n",
       "      <td>8</td>\n",
       "      <td>technical</td>\n",
       "      <td>9.67</td>\n",
       "      <td>11.0</td>\n",
       "      <td>word2vec</td>\n",
       "      <td>tokens</td>\n",
       "    </tr>\n",
       "  </tbody>\n",
       "</table>\n",
       "</div>"
      ],
      "text/plain": [
       "               target_feat                                goal  counts  \\\n",
       "0         air conditioning                increase temperature       2   \n",
       "1  activate cruise control                      limit my speed       7   \n",
       "2  turn off cruise control                 disable speed alert       9   \n",
       "3  anti theft notification            alert that my car stolen       4   \n",
       "4        lane change alert  disable car passing support system       8   \n",
       "\n",
       "  familiarity  wn_familiarity  wn_familiarity_NN     model prepping  \n",
       "0       basic           10.50               10.5  word2vec   tokens  \n",
       "1   technical            9.67               12.0  word2vec   tokens  \n",
       "2   technical           20.67               12.0  word2vec   tokens  \n",
       "3   technical            2.00                2.0  word2vec   tokens  \n",
       "4   technical            9.67               11.0  word2vec   tokens  "
      ]
     },
     "execution_count": 72,
     "metadata": {},
     "output_type": "execute_result"
    }
   ],
   "source": [
    "df_tok_w2v = pd.DataFrame(tok_w2v_test)\n",
    "df_tok_w2v['model']='word2vec'\n",
    "df_tok_w2v['prepping']='tokens'\n",
    "\n",
    "df_lem_w2v = pd.DataFrame(lem_w2v_test)\n",
    "df_lem_w2v['model']='word2vec'\n",
    "df_lem_w2v['prepping']='lemmas'\n",
    "\n",
    "df_tok_lsi = pd.DataFrame(tok_lsi_test)\n",
    "df_tok_lsi['model']='lsi'\n",
    "df_tok_lsi['prepping']='tokens'\n",
    "\n",
    "df_tok_lda = pd.DataFrame(tok_lda_test)\n",
    "df_tok_lda['model']='lda'\n",
    "df_tok_lda['prepping']='tokens'\n",
    "\n",
    "df_lem_lsi = pd.DataFrame(lem_lsi_test)\n",
    "df_lem_lsi['model']='lsi'\n",
    "df_lem_lsi['prepping']='lemmas'\n",
    "\n",
    "df_lem_lda = pd.DataFrame(lem_lda_test)\n",
    "df_lem_lda['model']='lda'\n",
    "df_lem_lda['prepping']='lemmas'\n",
    "\n",
    "frames = [df_tok_w2v, df_lem_w2v, df_tok_lsi, df_tok_lda, df_lem_lsi, df_lem_lda]\n",
    "df_gui3=pd.concat(frames)\n",
    "df_gui3.columns = ['target_feat','goal',  'counts','familiarity','wn_familiarity','wn_familiarity_NN','model', 'prepping']\n",
    "\n",
    "df_gui3.head(5)"
   ]
  },
  {
   "cell_type": "code",
   "execution_count": 73,
   "metadata": {
    "collapsed": false
   },
   "outputs": [
    {
     "data": {
      "text/plain": [
       "<matplotlib.axes._subplots.AxesSubplot at 0x12a9001d0>"
      ]
     },
     "execution_count": 73,
     "metadata": {},
     "output_type": "execute_result"
    },
    {
     "data": {
      "image/png": "[encoded data removed]",
      "text/plain": [
       "<matplotlib.figure.Figure at 0x129eb70d0>"
      ]
     },
     "metadata": {},
     "output_type": "display_data"
    },
    {
     "data": {
      "image/png": "[encoded data removed]",
      "text/plain": [
       "<matplotlib.figure.Figure at 0x129ea0ed0>"
      ]
     },
     "metadata": {},
     "output_type": "display_data"
    },
    {
     "data": {
      "image/png": "[encoded data removed]",
      "text/plain": [
       "<matplotlib.figure.Figure at 0x10814b750>"
      ]
     },
     "metadata": {},
     "output_type": "display_data"
    }
   ],
   "source": [
    "df_gui3.boxplot(column = 'counts', by = 'model')\n",
    "df_gui3.boxplot(column = 'counts', by = 'prepping')\n",
    "df_gui3.boxplot(column = 'counts', by = 'familiarity')"
   ]
  },
  {
   "cell_type": "code",
   "execution_count": 74,
   "metadata": {
    "collapsed": false
   },
   "outputs": [
    {
     "data": {
      "text/plain": [
       "<seaborn.axisgrid.FacetGrid at 0x129ca0610>"
      ]
     },
     "execution_count": 74,
     "metadata": {},
     "output_type": "execute_result"
    },
    {
     "data": {
      "image/png": "[encoded data removed]",
      "text/plain": [
       "<matplotlib.figure.Figure at 0x11f9348d0>"
      ]
     },
     "metadata": {},
     "output_type": "display_data"
    }
   ],
   "source": [
    "e = sns.factorplot(x=\"familiarity\", y=\"counts\", col = 'model', hue=\"prepping\",data=df_gui3,\n",
    "                   palette=\"YlGnBu_d\", size=5, aspect=.75)\n",
    "e.despine(left=True)"
   ]
  },
  {
   "cell_type": "code",
   "execution_count": 75,
   "metadata": {
    "collapsed": false
   },
   "outputs": [
    {
     "name": "stdout",
     "output_type": "stream",
     "text": [
      "Index([u'target_feat', u'goal', u'counts', u'familiarity', u'wn_familiarity',\n",
      "       u'wn_familiarity_NN', u'model', u'prepping'],\n",
      "      dtype='object')\n",
      "                                                        sum_sq  df          F  \\\n",
      "C(model, Sum)                                        76.633333   2   3.863866   \n",
      "C(prepping, Sum)                                      6.016667   1   0.606723   \n",
      "C(familiarity, Sum)                                 109.350000   1  11.026891   \n",
      "C(model, Sum):C(prepping, Sum)                        1.233333   2   0.062185   \n",
      "C(model, Sum):C(familiarity, Sum)                    97.300000   2   4.905882   \n",
      "C(prepping, Sum):C(familiarity, Sum)                  4.816667   1   0.485714   \n",
      "C(model, Sum):C(prepping, Sum):C(familiarity, Sum)    3.633333   2   0.183193   \n",
      "Residual                                            476.000000  48        NaN   \n",
      "\n",
      "                                                      PR(>F)  \n",
      "C(model, Sum)                                       0.027802  \n",
      "C(prepping, Sum)                                    0.439848  \n",
      "C(familiarity, Sum)                                 0.001722  \n",
      "C(model, Sum):C(prepping, Sum)                      0.939785  \n",
      "C(model, Sum):C(familiarity, Sum)                   0.011519  \n",
      "C(prepping, Sum):C(familiarity, Sum)                0.489207  \n",
      "C(model, Sum):C(prepping, Sum):C(familiarity, Sum)  0.833187  \n",
      "Residual                                                 NaN  \n"
     ]
    }
   ],
   "source": [
    "print df_gui3.columns\n",
    "\n",
    "anova_1 = ols('counts ~ C(model, Sum)*C(prepping, Sum)*C(familiarity, Sum)',\n",
    "               data=df_gui3).fit()\n",
    "table = sm.stats.anova_lm(anova_1, typ=2) # Type 2 ANOVA DataFrame\n",
    "print table"
   ]
  },
  {
   "cell_type": "code",
   "execution_count": 85,
   "metadata": {
    "collapsed": false
   },
   "outputs": [
    {
     "data": {
      "image/png": "[encoded data removed]",
      "text/plain": [
       "<matplotlib.figure.Figure at 0x129e19f50>"
      ]
     },
     "metadata": {},
     "output_type": "display_data"
    },
    {
     "name": "stdout",
     "output_type": "stream",
     "text": [
      "Coefficients: -0.149\n",
      "Mean residual sum of squares: 9.5\n",
      "Variance of Y explained by X: 0.123\n"
     ]
    }
   ],
   "source": [
    "selecta = df_gui3[df_gui3['model'] != 'lda']\n",
    "\n",
    "X = selecta['wn_familiarity_NN']\n",
    "Y = selecta['counts']\n",
    "\n",
    "regr = linear_model.LinearRegression()\n",
    "regr.fit (X[:,np.newaxis], Y)\n",
    "\n",
    "plt.xlabel('familiarity')\n",
    "plt.scatter(X, Y, color='red')\n",
    "plt.plot(X, regr.predict(X[:,np.newaxis]), color='blue')\n",
    "plt.show()\n",
    "\n",
    "# The coefficients\n",
    "print 'Coefficients: %.3f' % regr.coef_[0]\n",
    "# The mean square error\n",
    "print \"Mean residual sum of squares: %.1f\" % np.mean((regr.predict(X[:,np.newaxis]) - Y) ** 2)\n",
    "# Explained variance score: 1 is perfect prediction\n",
    "print('Variance of Y explained by X: %.3f' % regr.score(X[:,np.newaxis], Y))"
   ]
  },
  {
   "cell_type": "markdown",
   "metadata": {
    "collapsed": true
   },
   "source": [
    "## Next steps\n",
    "\n",
    "- test more complex IAs\n",
    "- test for normality, if negative revert to non-parametric test \n",
    "- tweak model parameters\n",
    "- compute similarity scores for entire path\n",
    "- ..."
   ]
  },
  {
   "cell_type": "code",
   "execution_count": null,
   "metadata": {
    "collapsed": true
   },
   "outputs": [],
   "source": []
  }
 ],
 "metadata": {
  "kernelspec": {
   "display_name": "Python 2",
   "language": "python",
   "name": "python2"
  },
  "language_info": {
   "codemirror_mode": {
    "name": "ipython",
    "version": 2
   },
   "file_extension": ".py",
   "mimetype": "text/x-python",
   "name": "python",
   "nbconvert_exporter": "python",
   "pygments_lexer": "ipython2",
   "version": "2.7.10"
  }
 },
 "nbformat": 4,
 "nbformat_minor": 0
}
